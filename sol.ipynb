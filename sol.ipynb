{
  "cells": [
    {
      "cell_type": "markdown",
      "metadata": {
        "id": "CLLeQw9Mxab4"
      },
      "source": [
        "## Ссылка на диск с картированными чтениями"
      ]
    },
    {
      "cell_type": "markdown",
      "metadata": {
        "id": "iX7NcoC_CLY0"
      },
      "source": [
        "\n",
        "| | SRA accession  | Stage    |\n",
        "|---:|:-------------|:-----------|\n",
        "| 1 | SRR5836473  | 8 cell       |\n",
        "| 2 | SRR3824222 | Epiblast    |\n",
        "| 3 | SRR5836475  | ICM       |\n"
      ]
    },
    {
      "cell_type": "markdown",
      "metadata": {
        "id": "RQAK_lggxsXi"
      },
      "source": [
        "[Bam-файлы и отчеты](https://drive.google.com/drive/folders/1hGzGjuUZNLIeUsCdSxbEzgthcV_BaqMw?usp=sharing)"
      ]
    },
    {
      "attachments": {},
      "cell_type": "markdown",
      "metadata": {
        "id": "5l0a7C6JHe40"
      },
      "source": [
        "# Установка FastQC и Bismark"
      ]
    },
    {
      "cell_type": "code",
      "execution_count": null,
      "metadata": {},
      "outputs": [],
      "source": [
        "! rm -r CHG* CHH* CpG* SRR* *bam* Bismark-master *bismark* mouse_chr fastqc"
      ]
    },
    {
      "cell_type": "code",
      "execution_count": 27,
      "metadata": {},
      "outputs": [],
      "source": [
        "! ln -s /usr/share/data-minor-bioinf/WGBS/SRR3824222_1_bismark_bt2_pe.bam SRR3824222_1_bismark_bt2_pe.bam\n",
        "! ln -s /usr/share/data-minor-bioinf/WGBS/SRR5836473_1_bismark_bt2_pe.bam SRR5836473_1_bismark_bt2_pe.bam\n",
        "! ln -s /usr/share/data-minor-bioinf/WGBS/SRR5836475_1_bismark_bt2_pe.bam SRR5836475_1_bismark_bt2_pe.bam"
      ]
    },
    {
      "cell_type": "code",
      "execution_count": 28,
      "metadata": {},
      "outputs": [
        {
          "name": "stdout",
          "output_type": "stream",
          "text": [
            "--2024-02-13 03:07:07--  https://github.com/FelixKrueger/Bismark/archive/master.zip\n",
            "Resolving github.com (github.com)... 140.82.121.4\n",
            "Connecting to github.com (github.com)|140.82.121.4|:443... connected.\n",
            "HTTP request sent, awaiting response... 302 Found\n",
            "Location: https://codeload.github.com/FelixKrueger/Bismark/zip/refs/heads/master [following]\n",
            "--2024-02-13 03:07:08--  https://codeload.github.com/FelixKrueger/Bismark/zip/refs/heads/master\n",
            "Resolving codeload.github.com (codeload.github.com)... 140.82.121.9\n",
            "Connecting to codeload.github.com (codeload.github.com)|140.82.121.9|:443... connected.\n",
            "HTTP request sent, awaiting response... 200 OK\n",
            "Length: unspecified [application/zip]\n",
            "Saving to: ‘master.zip’\n",
            "\n",
            "master.zip              [     <=>            ]   8,37M  8,28MB/s    in 1,0s    \n",
            "\n",
            "2024-02-13 03:07:09 (8,28 MB/s) - ‘master.zip’ saved [8781810]\n",
            "\n",
            "Archive:  master.zip\n",
            "acf965cdf9e0a2814f09c087811683c1651c36c1\n",
            "   creating: Bismark-master/\n",
            "   creating: Bismark-master/.github/\n",
            "   creating: Bismark-master/.github/workflows/\n",
            "  inflating: Bismark-master/.github/workflows/ci_tests.yml  \n",
            "  inflating: Bismark-master/.github/workflows/docs.yml  \n",
            " extracting: Bismark-master/.gitignore  \n",
            " extracting: Bismark-master/.prettierignore  \n",
            " extracting: Bismark-master/.prettierrc.yaml  \n",
            "  inflating: Bismark-master/Bismark_alignment_modes.pdf  \n",
            "  inflating: Bismark-master/CHANGELOG.md  \n",
            "  inflating: Bismark-master/NOMe_filtering  \n",
            "  inflating: Bismark-master/README.md  \n",
            "  inflating: Bismark-master/_config.yml  \n",
            "  inflating: Bismark-master/bam2nuc  \n",
            "  inflating: Bismark-master/bismark  \n",
            "  inflating: Bismark-master/bismark2bedGraph  \n",
            "  inflating: Bismark-master/bismark2report  \n",
            "  inflating: Bismark-master/bismark2summary  \n",
            "  inflating: Bismark-master/bismark_genome_preparation  \n",
            "  inflating: Bismark-master/bismark_methylation_extractor  \n",
            "  inflating: Bismark-master/copy_bismark_files_for_release.pl  \n",
            "  inflating: Bismark-master/coverage2cytosine  \n",
            "  inflating: Bismark-master/deduplicate_bismark  \n",
            "   creating: Bismark-master/docs/\n",
            "  inflating: Bismark-master/docs/README.md  \n",
            "   creating: Bismark-master/docs/bismark/\n",
            "  inflating: Bismark-master/docs/bismark/README.md  \n",
            "  inflating: Bismark-master/docs/bismark/alignment.md  \n",
            "  inflating: Bismark-master/docs/bismark/concordance.md  \n",
            "  inflating: Bismark-master/docs/bismark/coverage_report.md  \n",
            "  inflating: Bismark-master/docs/bismark/deduplication.md  \n",
            "  inflating: Bismark-master/docs/bismark/filter_nonconverted_reads.md  \n",
            "  inflating: Bismark-master/docs/bismark/genome_preparation.md  \n",
            "  inflating: Bismark-master/docs/bismark/library_types.md  \n",
            "  inflating: Bismark-master/docs/bismark/methylation_extraction.md  \n",
            "  inflating: Bismark-master/docs/bismark/processing_report.md  \n",
            "  inflating: Bismark-master/docs/bismark/summary_report.md  \n",
            "   creating: Bismark-master/docs/faq/\n",
            "  inflating: Bismark-master/docs/faq/README.md  \n",
            "  inflating: Bismark-master/docs/faq/context_change.md  \n",
            "  inflating: Bismark-master/docs/faq/conversion_efficiency.md  \n",
            "  inflating: Bismark-master/docs/faq/low_mapping.md  \n",
            "  inflating: Bismark-master/docs/faq/single_cell_pbat.md  \n",
            "   creating: Bismark-master/docs/images/\n",
            "  inflating: Bismark-master/docs/images/Bismark_Bowtie2_HISAT2.png  \n",
            "  inflating: Bismark-master/docs/images/PBAT_SE_M-bias.jpg  \n",
            "  inflating: Bismark-master/docs/images/PE_M-bias.jpg  \n",
            "  inflating: Bismark-master/docs/images/bioinformatics_logo.png  \n",
            "  inflating: Bismark-master/docs/images/bioinformatics_logo.svg  \n",
            " extracting: Bismark-master/docs/images/bismark.png  \n",
            "  inflating: Bismark-master/docs/images/bismark_summary_report.html  \n",
            "  inflating: Bismark-master/docs/images/bismark_summary_report.txt  \n",
            "  inflating: Bismark-master/docs/images/methylation_concordance.png  \n",
            "  inflating: Bismark-master/docs/images/nucleocoverage.png  \n",
            "  inflating: Bismark-master/docs/images/summary.png  \n",
            "  inflating: Bismark-master/docs/installation.md  \n",
            "   creating: Bismark-master/docs/options/\n",
            "  inflating: Bismark-master/docs/options/alignment.md  \n",
            "  inflating: Bismark-master/docs/options/genome_preparation.md  \n",
            "  inflating: Bismark-master/docs/options/methylation_extraction.md  \n",
            "  inflating: Bismark-master/docs/quick_reference.md  \n",
            "  inflating: Bismark-master/filter_non_conversion  \n",
            "  inflating: Bismark-master/license.txt  \n",
            "  inflating: Bismark-master/merge_arbitrary_coverage_files.py  \n",
            "  inflating: Bismark-master/merge_coverage_files_ARGV.py  \n",
            "  inflating: Bismark-master/methylation_consistency  \n",
            "  inflating: Bismark-master/mkdocs.yml  \n",
            "   creating: Bismark-master/plotly/\n",
            "  inflating: Bismark-master/plotly/Bismark_Alignment_Stats_Summary.png  \n",
            "  inflating: Bismark-master/plotly/bioinf.logo  \n",
            "  inflating: Bismark-master/plotly/bismark.logo  \n",
            "  inflating: Bismark-master/plotly/bismark_bt2_PE_report.html  \n",
            "  inflating: Bismark-master/plotly/bismark_summary_RRBS.html  \n",
            "  inflating: Bismark-master/plotly/bismark_summary_WGBS.html  \n",
            "  inflating: Bismark-master/plotly/bismark_summary_single_cells.html  \n",
            "  inflating: Bismark-master/plotly/bismark_summary_single_cells.txt  \n",
            "  inflating: Bismark-master/plotly/plot.ly  \n",
            "  inflating: Bismark-master/plotly/plotly_template.tpl  \n",
            "  inflating: Bismark-master/test_data.fastq  \n",
            "   creating: Bismark-master/test_files/\n",
            " extracting: Bismark-master/test_files/NC_010473.fa.gz  \n",
            "  inflating: Bismark-master/test_files/test_R1.fastq.gz  \n",
            "  inflating: Bismark-master/test_files/test_R2.fastq.gz  \n"
          ]
        }
      ],
      "source": [
        "! ln -s /usr/share/data-minor-bioinf/FastQC/fastqc fastqc\n",
        "! wget https://github.com/FelixKrueger/Bismark/archive/master.zip\n",
        "! unzip master.zip\n",
        "! rm master.zip\n",
        "! ln -s Bismark-master/bismark bismark\n",
        "! ln -s Bismark-master/deduplicate_bismark deduplicate_bismark\n",
        "! ln -s Bismark-master/bismark_methylation_extractor bismark_methylation_extractor\n",
        "! ln -s Bismark-master/bismark2report bismark2report"
      ]
    },
    {
      "cell_type": "code",
      "execution_count": 3,
      "metadata": {
        "colab": {
          "base_uri": "https://localhost:8080/"
        },
        "id": "yMQy_LQ8xSOP",
        "outputId": "3333c4d9-9158-405a-ab52-67c82dac9e67"
      },
      "outputs": [
        {
          "name": "stdout",
          "output_type": "stream",
          "text": [
            "SRR5836473.41_41_length=140\t99\tchr11\t40076664\t0\t140M\t=\t40076703\t178\tAATTTTTTTGGGGATTGTATTGAATTTGTAGATTGTTTTTGGTAAGAGAGTTATTTTTATTATATTGATTTTGTTAATTTATGAATATGGGAGATTTTTTTATTTTTTGAGATTTTTTTTAATTTTTTTTTTTAGAGATT\tKKKKKKKKKKKKKKKFKKKKKKKKKKKKKKFKKKKKKKKKFKKKKKKKKKFKKKKKKKKKKKKKKKKKKKKKKKKKKKKKKKKKKKKKKKKKKKKKKKKKKKKKKKKKKKKKKKKKKKKKKKKKKKKKKKKKKF7<77FF\tNM:i:28\tMD:Z:6G0A9C7C9C6C4T2C0C7C9C0C2C0C3C0C5C9C3C0C2C2C6C2C8C3C2C5C1\tXM:Z:.................h.......x.........h......h.......hh.......h.........hx..hh...hh.....h.........h...hh..h..x......h..h........h...h..x.....h.\tXR:Z:CT\tXG:Z:CT\n",
            "SRR5836473.41_41_length=140\t147\tchr11\t40076703\t0\t139M\t=\t40076664\t-178\tTGGTAAGAGAGTTATTTTTATTATATTGATTTTGTTAATTTATGAATATGGGAGATTTTTTTATTTTTTGAGATTTTTTTTAATTTTTTTTTTTAGAGATTTGAAGTTTTTATTATATAGATTTTTTATTTTTTTAGTG\tKKKKKAAFFFKKKKKKKKKKKKKFFKKKKKKKKKKFAFKKKKKKKKKKKKKKKKKKKKKKKKKKKKKKFKKKKKKKKKKKKFKKKKKKKKKKKKKKKKKKKKKKKKKKKKKKKKKKKKKKKKKKKKKKKKKKKKKKKKK\tNM:i:31\tMD:Z:3C4T2C0C7C9C0C2C0C3C0C5C9C3C0C2C2C6C2C8C3C2C5C8C4C3A4C3C1C2C6T0\tXM:Z:...h.......hh.......h.........hx..hh...hh.....h.........h...hh..h..x......h..h........h...h..x.....h........h....h........h...h.h..h.......\tXR:Z:GA\tXG:Z:CT\n",
            "SRR5836473.231_231_length=140\t83\tchr11\t48401999\t0\t140M\t=\t48401992\t-147\tACAAATTACTCCTTCTAATTCATTAAAAAATTAAATTAAAATTATAATAAAAATTACATTAAATCTATAAATTACTTTTAACAAAATAACCATTTTTACAATATTAATCCTACCAATCCATAAACACAAAAAAACTTTCC\tKKKKKKKKF<KKKKKKKKKFKKKKKKKKKKFKKKKKKKKKKKKKKKKKKKKKKKKKKKKKKKKKKKKKKKKKKKKKKKKKKKKKKKKKKKKKKKKKKKKKKKKKKKKKKKKKKKKKKKKKKKKFKKKKKKKKKKKKKKKK\tNM:i:34\tMD:Z:0G2G3G13G2G2G4G1G2G0G6G2G0G0G0G3G4G5G2G3G5G0G3G3G13G2G5G9G1G2T1G0G1G1T6\tXM:Z:h..x...h.............z..h..h....h.h..hh......h..hhhh...h....h.....x..h...h.....hh...h...h.............h..h.....x.........h.h....hh.h........\tXR:Z:CT\tXG:Z:GA\n",
            "SRR5836473.231_231_length=140\t163\tchr11\t48401992\t0\t139M\t=\t48401999\t147\tTAAATTTACAAATTACTCCTTCTAATTCATTAAAAAATTAAATTAAAATTATAATAAAAATTACATTAAATCTATAAATTACTTTTAACAAAATAACCATTTTTACAATATTAATCCTACCAATCCATAAACACAAAAA\tFFKFKKKKKKKKKKKKKKKKKKKKKKKKKKKKKKKKKKKKKKKKKKKKKKKKKKKKKKKKKKKKKKKAKFFKKKKKKKKKKKKKKKKFKAF<FF<FKKKKKKKKKKFKKKK<FFKAFF<FKF<FK7AF7A,7<AAF<KF\tNM:i:35\tMD:Z:1G3A1G2G3G13G2G2G4G1G2G0G6G2G0G0G0G3G4G5G2G3G5G0G3G3G13G2G5G9G1G2T1G0G1G0\tXM:Z:.h.....h..x...h.............z..h..h....h.h..hh......h..hhhh...h....h.....x..h...h.....hh...h...h.............h..h.....x.........h.h....hh.h\tXR:Z:GA\tXG:Z:GA\n",
            "SRR5836473.1421_1421_length=140\t99\tchr11\t30560802\t0\t140M\t=\t30560952\t289\tTGTTGAGGGGTATTTGGGTTTTTTTTAGTTTTCGGTTATTATAAATAAGGTTGTTATGAATATAGTGTAGTATGTGTTTTTTTTATTGGTTGGAATATTTTTTGGATATATGTTTAGATGAGGTATTGTGGGATTTTTTG\tKKKKKKKKFKFKKKKKKKFKKKKKFKKKKKAK,FAKKKKKKKKKKKKKKKKKKKKKKKKKKKKKKKKKKKKKKKFKKKKKKKKKKKKKKKKKKAKKKKKKKKKKKKKKKKKKKKKKKKKKKKKAKKKKAFFK<AFKKKKK\tNM:i:30\tMD:Z:10C2C6C3C0C2C2C0T2C9C4C2C6C6G2A6C3C3C0C8C2C2C10C0C0C3A9C5C0C1C2\tXM:Z:..........h..x......h...hx..h..x...h.........h....x..h......h................h...h...xz........h..h..x..........hhx.............z.....hh.x..\tXR:Z:CT\tXG:Z:CT\n",
            "SRR5836473.1421_1421_length=140\t147\tchr11\t30560952\t0\t139M\t=\t30560802\t-289\tGTTTAATTTTTTGAAGAATTGTTAGATTGATTTTTAGAGTGGTTGTAAAAGTTTGTAATTTTATTAATAATGGAGGAGTGTTTTTTTTTTTTTATATTTTTTTTAGTATTTGTTGTTATTTGAATTTTTGATTTTAGTT\t<<<<<<KF<KKKKKFFFKKAA<KAFKFKKKKKKKKKFFFFFFKKKFFAFAAKKKKFKKKKKKKKKKKKKKKKKKKKFKKKKKKKKKKKKKKKKFKKKKKKKKKKKKKKKKKKKKKKKKKKKKFKKKKKKKFKKKKKKFF\tNM:i:41\tMD:Z:2C0C6C3G3C2C0C3C6C0C12C3C3C3C0C0C1C0C2C14C0C1C3C1C0C1C1G0C0C1C0G0C0C2C2C2C3C1C0C12C5C0\tXM:Z:..hh......x.......x..hx...x......hx................h...h...hhh.hh..h..............hh.h...h.hh.x..hh.z.hx..h..x..x...h.hx............h.....h\tXR:Z:GA\tXG:Z:CT\n",
            "SRR5836473.2061_2061_length=140\t99\tchr11\t73270947\t0\t139M\t=\t73270962\t154\tATAAGAGATAGTTATATTAGGGTTTTGTTAGTAAAATTTTGTTGGTATTTGTAGTAGTGTTTGGGTTTGGTGGTTGTTTATGGGATGGATTTATGGGTGGGGTAGTTTTTGGATGGTTTTTTTTTTTATTTTAGTTTTG\tKKKKKKKKKKKFKKKKKKKKKKFKKKKKKKKKKKKKKFKKKKKKKKKKKKKKKKFKKFKKKKKKKKKKKKKKKKKKKKKKKKKKKKKKFFKKKKKKKFKKKK7AFAFKKKKKF7FKKKKKKFKFAKKKKKKKKF7FFKF\tNM:i:31\tMD:Z:1C6C2C5C5C0C3C2C5C3C3C2A2C1A4A1C1A27C0C10C3C1C9C2C0C2C0C2C1C2C1C2\tXM:Z:.h......x..h.....x.....hx...x..h.....h...x...h.....h........h.............................hh..........x...h.x.........h..hh..hh..h.x..h.x..\tXR:Z:CT\tXG:Z:CT\n",
            "SRR5836473.2061_2061_length=140\t147\tchr11\t73270962\t0\t139M\t=\t73270947\t-154\tATTAGGGTTTTGTTAGTAAAATTTTGTTGGTATTTGTAGTAGTGTTTGGGTTTGGTGGTTGTTTATGGGATGGATTTATGGGTGGGGTAGTTTTTGGATGGTTTTTTTTTTTATTTTAGTTTTGAATTTTGTTTTTGTA\tA7<AAAAA77AKKKFKKKFKKKKAKF<KKKFKKFKKFKAAKKKKFKAKKKKKKKFKKKKKKKKKKKKKFKKKKKKKKKKKKKKKKKKKKKKKKKKKKKKKKKKKKKKKKKKKKKKKKKKKKKKKKKKKKKKKKKKKKKK\tNM:i:31\tMD:Z:2C5C0C3C2C5C3C3C2A2C1A4A1C1A27C0C10C3C1C9C2C0C2C0C2C1C2C1C4C5C1C4\tXM:Z:..x.....hx...x..h.....h...x...h.....h........h.............................hh..........x...h.x.........h..hh..hh..h.x..h.x....h.....h.x....\tXR:Z:GA\tXG:Z:CT\n",
            "SRR5836473.3331_3331_length=140\t99\tchr11\t43350802\t40\t140M\t=\t43350876\t214\tTTTTAATGTAAGTTGTATAAGGAGTATAATTAGGTTTAGGTGATGTTGAAAATAATATAATTTTATTTATAAATATTATTATTATTATGATAAAGGGAAAGGTGATTATTTTTAAAAGATTATGATGGTTTGTTGGTAAT\tKKKKKKKKKKKKKKKKKKKKKKKKKKKKKKKKKKKKKKKKKKKKKKKKKKKKKKKKKKKKKKKKKKKKKKKKKKKKKKKKKKKKKKKKKKKKKKKKKKKKKKKKKKKKKKKKKKKKKKKKKKKKKKFKFFKKKKKKKKKF\tNM:i:29\tMD:Z:0C5C1C6C0T0C7G0C3C3C1C23C2C1C0C6C2C1C0C1C23C0C3C0C0C7C7C0C6C3\tXM:Z:h.....z.h......h.h........h...x...h.x.......................h..h.hh......h..h.hh.h.......................hh...hhh.......h.......hx......h...\tXR:Z:CT\tXG:Z:CT\n",
            "SRR5836473.3331_3331_length=140\t147\tchr11\t43350876\t40\t140M\t=\t43350802\t-214\tATTATTATTATTATGATAAAGGGAAAGGTGATTATTTTTAAAAGATTATGATGGTTTGTTGGTAATGTTATTGTTATACGTAGTATGTTTTGGTGTTATTTGGATTTTGTATTTTTTATAGTTTTTTTATTTTGTTAATT\tKFKKKKK<KKKKKFKAKFKKKKKKKKKKKKKKKKKKKKKKKKKKKKKKKFFKKKKKKKKKKKKKKKKKKKKKKKKKKKKKKFKKKKKKKKKKKKKKKKKKKKKKKKKKKKKKKKKKKKKKKKKKKKKKKKKKKKKKKKKK\tNM:i:34\tMD:Z:2C1C0C1C23C0C3C0C0C7C7C0C6C4C2C2C6C2C3C0C7C2C0C3C0C1C1C4C0C11C1C0C4C3C0\tXM:Z:..h.hh.h.......................hh...hhh.......h.......hx......h....h..x..h....Z.x..h...hh.......h..xz...hh.z.h....hh...........h.hh....h...h\tXR:Z:GA\tXG:Z:CT\n",
            "samtools view: writing to standard output failed: Broken pipe\n",
            "samtools view: error closing standard output: -1\n"
          ]
        }
      ],
      "source": [
        "! samtools view SRR5836473_1_bismark_bt2_pe.bam | head"
      ]
    },
    {
      "cell_type": "code",
      "execution_count": 29,
      "metadata": {},
      "outputs": [
        {
          "name": "stdout",
          "output_type": "stream",
          "text": [
            "[bam_sort_core] merging from 4 files and 1 in-memory blocks...\n",
            "[bam_sort_core] merging from 5 files and 1 in-memory blocks...\n",
            "[bam_sort_core] merging from 9 files and 1 in-memory blocks...\n"
          ]
        }
      ],
      "source": [
        "! samtools sort SRR5836473_1_bismark_bt2_pe.bam -o s8cell.bam\n",
        "! samtools sort SRR5836475_1_bismark_bt2_pe.bam -o sicm.bam\n",
        "! samtools sort SRR3824222_1_bismark_bt2_pe.bam -o sepiblast.bam\n",
        "! samtools index s8cell.bam\n",
        "! samtools index sicm.bam\n",
        "! samtools index sepiblast.bam"
      ]
    },
    {
      "cell_type": "code",
      "execution_count": 30,
      "metadata": {},
      "outputs": [
        {
          "name": "stdout",
          "output_type": "stream",
          "text": [
            "551\n",
            "194\n"
          ]
        }
      ],
      "source": [
        "! samtools view s8cell.bam chr11:11347700-11367700 | cut -f1 | sort -u | wc -l\n",
        "! samtools view s8cell.bam chr11:40185800-40195800 | cut -f1 | sort -u | wc -l"
      ]
    },
    {
      "cell_type": "code",
      "execution_count": 31,
      "metadata": {},
      "outputs": [
        {
          "name": "stdout",
          "output_type": "stream",
          "text": [
            "797\n",
            "274\n"
          ]
        }
      ],
      "source": [
        "! samtools view sicm.bam chr11:11347700-11367700 | cut -f1 | sort -u | wc -l\n",
        "! samtools view sicm.bam chr11:40185800-40195800 | cut -f1 | sort -u | wc -l"
      ]
    },
    {
      "cell_type": "code",
      "execution_count": 32,
      "metadata": {},
      "outputs": [
        {
          "name": "stdout",
          "output_type": "stream",
          "text": [
            "1344\n",
            "565\n"
          ]
        }
      ],
      "source": [
        "! samtools view sepiblast.bam chr11:11347700-11367700 | cut -f1 | sort -u | wc -l\n",
        "! samtools view sepiblast.bam chr11:40185800-40195800 | cut -f1 | sort -u | wc -l"
      ]
    },
    {
      "cell_type": "code",
      "execution_count": null,
      "metadata": {},
      "outputs": [],
      "source": [
        "! rm s8cell.bam sicm.bam sepiblast.bam"
      ]
    },
    {
      "cell_type": "code",
      "execution_count": 33,
      "metadata": {},
      "outputs": [
        {
          "name": "stdout",
          "output_type": "stream",
          "text": [
            "bismark\t\t\t       sepiblast.bam\n",
            "bismark2report\t\t       sepiblast.bam.bai\n",
            "Bismark-master\t\t       sicm.bam\n",
            "bismark_methylation_extractor  sicm.bam.bai\n",
            "deduplicate_bismark\t       sol_copy.ipynb\n",
            "fastqc\t\t\t       sol.ipynb\n",
            "README.md\t\t       SRR3824222_1_bismark_bt2_pe.bam\n",
            "s8cell.bam\t\t       SRR5836473_1_bismark_bt2_pe.bam\n",
            "s8cell.bam.bai\t\t       SRR5836475_1_bismark_bt2_pe.bam\n"
          ]
        }
      ],
      "source": [
        "! ls"
      ]
    },
    {
      "cell_type": "code",
      "execution_count": 10,
      "metadata": {},
      "outputs": [
        {
          "name": "stdout",
          "output_type": "stream",
          "text": [
            "Processing paired-end Bismark output file(s) (SAM format):\n",
            "SRR5836473_1_bismark_bt2_pe.bam\n",
            "\n",
            "\n",
            "If there are several alignments to a single position in the genome the first alignment will be chosen. Since the input files are not in any way sorted this is a near-enough random selection of reads.\n",
            "\n",
            "Checking file >>SRR5836473_1_bismark_bt2_pe.bam<< for signs of file truncation...\n",
            "\n",
            "samtools view: writing to standard output failed: Broken pipe\n",
            "samtools view: error closing standard output: -1\n",
            "\n",
            "\n",
            "Now testing Bismark result file SRR5836473_1_bismark_bt2_pe.bam for positional sorting (which would be bad...)\t...passed!\n",
            "Output file is: SRR5836473_1_bismark_bt2_pe.deduplicated.bam\n",
            "\n",
            "skipping header line:\t@HD\tVN:1.0\tSO:unsorted\n",
            "skipping header line:\t@SQ\tSN:chr11\tLN:121973369\n",
            "skipping header line:\t@PG\tID:Bismark\tVN:v0.24.2\tCL:\"bismark --genome_folder /mnt/cache-1/for_minor/mm39_11/ -q --non_directional -parallel 10 -1 SRR3824222_1.fq,SRR5836473_1.fq,SRR5836473_1.fq -2 SRR3824222_2.fq,SRR5836473_2.fq,SRR5836473_2.fq\"\n",
            "skipping header line:\t@PG\tID:samtools\tPN:samtools\tPP:Bismark\tVN:1.13\tCL:/bin/samtools view -h --threads 1 SRR5836473_1_bismark_bt2_pe.bam\n",
            "\n",
            "Total number of alignments analysed in SRR5836473_1_bismark_bt2_pe.bam:\t2858170\n",
            "Total number duplicated alignments removed:\t522512 (18.28%)\n",
            "Duplicated alignments were found at:\t230677 different position(s)\n",
            "\n",
            "Total count of deduplicated leftover sequences: 2335658 (81.72% of total)\n",
            "\n",
            "samtools view: writing to standard output failed: Broken pipe\n",
            "samtools view: error closing standard output: -1\n"
          ]
        }
      ],
      "source": [
        "! ./deduplicate_bismark --bam --paired SRR5836473_1_bismark_bt2_pe.bam"
      ]
    },
    {
      "cell_type": "code",
      "execution_count": 11,
      "metadata": {},
      "outputs": [
        {
          "name": "stdout",
          "output_type": "stream",
          "text": [
            "Processing paired-end Bismark output file(s) (SAM format):\n",
            "SRR5836475_1_bismark_bt2_pe.bam\n",
            "\n",
            "\n",
            "If there are several alignments to a single position in the genome the first alignment will be chosen. Since the input files are not in any way sorted this is a near-enough random selection of reads.\n",
            "\n",
            "Checking file >>SRR5836475_1_bismark_bt2_pe.bam<< for signs of file truncation...\n",
            "\n",
            "samtools view: writing to standard output failed: Broken pipe\n",
            "samtools view: error closing standard output: -1\n",
            "\n",
            "\n",
            "Now testing Bismark result file SRR5836475_1_bismark_bt2_pe.bam for positional sorting (which would be bad...)\t...passed!\n",
            "Output file is: SRR5836475_1_bismark_bt2_pe.deduplicated.bam\n",
            "\n",
            "skipping header line:\t@HD\tVN:1.0\tSO:unsorted\n",
            "skipping header line:\t@SQ\tSN:chr11\tLN:121973369\n",
            "skipping header line:\t@PG\tID:Bismark\tVN:v0.24.2\tCL:\"bismark --genome_folder /mnt/cache-1/for_minor/mm39_11/ -q --non_directional -parallel 10 -1 SRR5836475_1.fq -2 SRR5836475_2.fq\"\n",
            "skipping header line:\t@PG\tID:samtools\tPN:samtools\tPP:Bismark\tVN:1.13\tCL:/bin/samtools view -h --threads 1 SRR5836475_1_bismark_bt2_pe.bam\n",
            "\n",
            "Total number of alignments analysed in SRR5836475_1_bismark_bt2_pe.bam:\t4170098\n",
            "Total number duplicated alignments removed:\t378125 (9.07%)\n",
            "Duplicated alignments were found at:\t229940 different position(s)\n",
            "\n",
            "Total count of deduplicated leftover sequences: 3791973 (90.93% of total)\n",
            "\n",
            "samtools view: writing to standard output failed: Broken pipe\n",
            "samtools view: error closing standard output: -1\n"
          ]
        }
      ],
      "source": [
        "! ./deduplicate_bismark --bam --paired SRR5836475_1_bismark_bt2_pe.bam"
      ]
    },
    {
      "cell_type": "code",
      "execution_count": 12,
      "metadata": {},
      "outputs": [
        {
          "name": "stdout",
          "output_type": "stream",
          "text": [
            "Processing paired-end Bismark output file(s) (SAM format):\n",
            "SRR3824222_1_bismark_bt2_pe.bam\n",
            "\n",
            "\n",
            "If there are several alignments to a single position in the genome the first alignment will be chosen. Since the input files are not in any way sorted this is a near-enough random selection of reads.\n",
            "\n",
            "Checking file >>SRR3824222_1_bismark_bt2_pe.bam<< for signs of file truncation...\n",
            "\n",
            "samtools view: writing to standard output failed: Broken pipe\n",
            "samtools view: error closing standard output: -1\n",
            "\n",
            "\n",
            "Now testing Bismark result file SRR3824222_1_bismark_bt2_pe.bam for positional sorting (which would be bad...)\t...passed!\n",
            "Output file is: SRR3824222_1_bismark_bt2_pe.deduplicated.bam\n",
            "\n",
            "skipping header line:\t@HD\tVN:1.0\tSO:unsorted\n",
            "skipping header line:\t@SQ\tSN:chr11\tLN:121973369\n",
            "skipping header line:\t@PG\tID:Bismark\tVN:v0.24.2\tCL:\"bismark --genome_folder /mnt/cache-1/for_minor/mm39_11/ -q --non_directional -parallel 10 -1 SRR3824222_1.fq,SRR5836473_1.fq,SRR5836473_1.fq -2 SRR3824222_2.fq,SRR5836473_2.fq,SRR5836473_2.fq\"\n",
            "skipping header line:\t@PG\tID:samtools\tPN:samtools\tPP:Bismark\tVN:1.13\tCL:/bin/samtools view -h --threads 1 SRR3824222_1_bismark_bt2_pe.bam\n",
            "\n",
            "Total number of alignments analysed in SRR3824222_1_bismark_bt2_pe.bam:\t7051731\n",
            "Total number duplicated alignments removed:\t205287 (2.91%)\n",
            "Duplicated alignments were found at:\t164998 different position(s)\n",
            "\n",
            "Total count of deduplicated leftover sequences: 6846444 (97.09% of total)\n",
            "\n",
            "samtools view: writing to standard output failed: Broken pipe\n",
            "samtools view: error closing standard output: -1\n"
          ]
        }
      ],
      "source": [
        "! ./deduplicate_bismark --bam --paired SRR3824222_1_bismark_bt2_pe.bam"
      ]
    },
    {
      "attachments": {},
      "cell_type": "markdown",
      "metadata": {},
      "source": [
        "|          | 11347700-11367700 | 40185800-40195800 | duplicated % |\n",
        "|----------|-------------------|-------------------|--------------|\n",
        "| 8 Cell   | 551               | 194               | 81.72        |\n",
        "| ICM      | 797               | 274               | 90.93        |\n",
        "| Epiblast | 1344              | 565               | 97.09        |"
      ]
    },
    {
      "cell_type": "code",
      "execution_count": 14,
      "metadata": {
        "colab": {
          "base_uri": "https://localhost:8080/"
        },
        "id": "4NZ1s3i5bUUq",
        "outputId": "817a42d5-fa08-4314-b683-d347bbebaaa4"
      },
      "outputs": [
        {
          "name": "stdout",
          "output_type": "stream",
          "text": [
            "--2024-02-13 02:08:33--  https://ftp.ensembl.org/pub/release-111/fasta/mus_musculus/dna/Mus_musculus.GRCm39.dna.chromosome.11.fa.gz\n",
            "Resolving ftp.ensembl.org (ftp.ensembl.org)... 193.62.193.169\n",
            "Connecting to ftp.ensembl.org (ftp.ensembl.org)|193.62.193.169|:443... connected.\n",
            "HTTP request sent, awaiting response... 200 OK\n",
            "Length: 36137719 (34M) [application/x-gzip]\n",
            "Saving to: ‘Mus_musculus.GRCm39.dna.chromosome.11.fa.gz’\n",
            "\n",
            "Mus_musculus.GRCm39 100%[===================>]  34,46M   738KB/s    in 48s     \n",
            "\n",
            "2024-02-13 02:09:22 (738 KB/s) - ‘Mus_musculus.GRCm39.dna.chromosome.11.fa.gz’ saved [36137719/36137719]\n",
            "\n"
          ]
        }
      ],
      "source": [
        "! wget \"https://ftp.ensembl.org/pub/release-111/fasta/mus_musculus/dna/Mus_musculus.GRCm39.dna.chromosome.11.fa.gz\"\n",
        "! gunzip Mus_musculus.GRCm39.dna.chromosome.11.fa.gz\n",
        "! mkdir mouse_chr\n",
        "! mv Mus_musculus.GRCm39.dna.chromosome.11.fa mouse_chr/"
      ]
    },
    {
      "cell_type": "code",
      "execution_count": 15,
      "metadata": {},
      "outputs": [
        {
          "name": "stdout",
          "output_type": "stream",
          "text": [
            "bismark\n",
            "bismark2report\n",
            "Bismark-master\n",
            "bismark_methylation_extractor\n",
            "deduplicate_bismark\n",
            "fastqc\n",
            "mouse_chr\n",
            "README.md\n",
            "s8cell.bam\n",
            "s8cell.bam.bai\n",
            "sepiblast.bam\n",
            "sepiblast.bam.bai\n",
            "sicm.bam\n",
            "sicm.bam.bai\n",
            "sol_copy.ipynb\n",
            "sol.ipynb\n",
            "SRR3824222_1_bismark_bt2_pe.bam\n",
            "SRR3824222_1_bismark_bt2_pe.deduplicated.bam\n",
            "SRR3824222_1_bismark_bt2_pe.deduplication_report.txt\n",
            "SRR5836473_1_bismark_bt2_pe.bam\n",
            "SRR5836473_1_bismark_bt2_pe.deduplicated.bam\n",
            "SRR5836473_1_bismark_bt2_pe.deduplication_report.txt\n",
            "SRR5836475_1_bismark_bt2_pe.bam\n",
            "SRR5836475_1_bismark_bt2_pe.deduplicated.bam\n",
            "SRR5836475_1_bismark_bt2_pe.deduplication_report.txt\n"
          ]
        }
      ],
      "source": [
        "! ls"
      ]
    },
    {
      "cell_type": "code",
      "execution_count": 16,
      "metadata": {},
      "outputs": [
        {
          "name": "stdout",
          "output_type": "stream",
          "text": [
            "\n",
            " *** Bismark methylation extractor version v0.24.2 ***\n",
            "\n",
            "Trying to determine the type of mapping from the SAM header line of file SRR5836473_1_bismark_bt2_pe.deduplicated.bam\n",
            "Treating file(s) as paired-end data (as extracted from @PG line)\n",
            "\n",
            "Setting option '--no_overlap' since this is (normally) the right thing to do for paired-end data\n",
            "\n",
            "\n",
            "Setting core usage to single-threaded (default). Consider using --multicore <int> to speed up the extraction process.\n",
            "\n",
            "Summarising Bismark methylation extractor parameters:\n",
            "===============================================================\n",
            "Bismark paired-end SAM format specified (default)\n",
            "Number of cores to be used: 1\n",
            "Output will be written to the current directory ('/home/erportnyagin/src/hse24_hw1')\n",
            "\n",
            "\n",
            "Summarising bedGraph parameters:\n",
            "===============================================================\n",
            "Generating additional output in bedGraph and coverage format\n",
            "bedGraph format:\t<Chromosome> <Start Position> <End Position> <Methylation Percentage>\n",
            "coverage format:\t<Chromosome> <Start Position> <End Position> <Methylation Percentage> <count methylated> <count non-methylated>\n",
            "\n",
            "Using a cutoff of 1 read(s) to report cytosine positions\n",
            "Reporting and sorting cytosine methylation information in CpG context only (default)\n",
            "The bedGraph UNIX sort command will use the following memory setting:\t'2G'. Temporary directory used for sorting is the output directory\n",
            "\n",
            "\n",
            "Summarising genome-wide cytosine methylation report parameters:\n",
            "===============================================================\n",
            "Generating comprehensive genome-wide cytosine report\n",
            "(output format: <Chromosome> <Position> <Strand> <count methylated> <count non-methylated>  <C-context>  <trinucleotide context> )\n",
            "Reporting cytosine methylation in CpG context only (default)\n",
            "Using 1-based genomic coordinates (default)\n",
            "Genome folder was specified as ./mouse_chr/\n",
            "\n",
            "Checking file >>SRR5836473_1_bismark_bt2_pe.deduplicated.bam<< for signs of file truncation...\n",
            "\n",
            "\n",
            "Now testing Bismark result file >SRR5836473_1_bismark_bt2_pe.deduplicated.bam< for positional sorting (which would be bad...)\t...passed!\n",
            "Writing result file containing methylation information for C in CpG context from the original top strand to CpG_OT_SRR5836473_1_bismark_bt2_pe.deduplicated.txt.gz\n",
            "Writing result file containing methylation information for C in CpG context from the complementary to original top strand to CpG_CTOT_SRR5836473_1_bismark_bt2_pe.deduplicated.txt.gz\n",
            "Writing result file containing methylation information for C in CpG context from the complementary to original bottom strand to CpG_CTOB_SRR5836473_1_bismark_bt2_pe.deduplicated.txt.gz\n",
            "Writing result file containing methylation information for C in CpG context from the original bottom strand to CpG_OB_SRR5836473_1_bismark_bt2_pe.deduplicated.txt.gz\n",
            "\n",
            "Writing result file containing methylation information for C in CHG context from the original top strand to CHG_OT_SRR5836473_1_bismark_bt2_pe.deduplicated.txt.gz\n",
            "Writing result file containing methylation information for C in CHG context from the complementary to original top strand to CHG_CTOT_SRR5836473_1_bismark_bt2_pe.deduplicated.txt.gz\n",
            "Writing result file containing methylation information for C in CHG context from the complementary to original bottom strand to CHG_CTOB_SRR5836473_1_bismark_bt2_pe.deduplicated.txt.gz\n",
            "Writing result file containing methylation information for C in CHG context from the original bottom strand to CHG_OB_SRR5836473_1_bismark_bt2_pe.deduplicated.txt.gz\n",
            "\n",
            "Writing result file containing methylation information for C in CHH context from the original top strand to CHH_OT_SRR5836473_1_bismark_bt2_pe.deduplicated.txt.gz\n",
            "Writing result file containing methylation information for C in CHH context from the complementary to original top strand to CHH_CTOT_SRR5836473_1_bismark_bt2_pe.deduplicated.txt.gz\n",
            "Writing result file containing methylation information for C in CHH context from the complementary to original bottom strand to CHH_CTOB_SRR5836473_1_bismark_bt2_pe.deduplicated.txt.gz\n",
            "Writing result file containing methylation information for C in CHH context from the original bottom strand to CHH_OB_SRR5836473_1_bismark_bt2_pe.deduplicated.txt.gz\n",
            "\n",
            "Now reading in Bismark result file SRR5836473_1_bismark_bt2_pe.deduplicated.bam\n",
            "skipping SAM header line:\t@HD\tVN:1.0\tSO:unsorted\n",
            "skipping SAM header line:\t@SQ\tSN:chr11\tLN:121973369\n",
            "skipping SAM header line:\t@PG\tID:Bismark\tVN:v0.24.2\tCL:\"bismark --genome_folder /mnt/cache-1/for_minor/mm39_11/ -q --non_directional -parallel 10 -1 SRR3824222_1.fq,SRR5836473_1.fq,SRR5836473_1.fq -2 SRR3824222_2.fq,SRR5836473_2.fq,SRR5836473_2.fq\"\n",
            "skipping SAM header line:\t@PG\tID:samtools\tPN:samtools\tPP:Bismark\tVN:1.13\tCL:/bin/samtools view -h --threads 1 SRR5836473_1_bismark_bt2_pe.bam\n",
            "skipping SAM header line:\t@PG\tID:samtools.1\tPN:samtools\tPP:samtools\tVN:1.13\tCL:/bin/samtools view -bS --threads 1 -\n",
            "skipping SAM header line:\t@PG\tID:samtools.2\tPN:samtools\tPP:samtools.1\tVN:1.13\tCL:/bin/samtools view -h SRR5836473_1_bismark_bt2_pe.deduplicated.bam\n",
            "Processed lines: 500000\n",
            "Processed lines: 1000000\n",
            "Processed lines: 1500000\n",
            "Processed lines: 2000000\n",
            "\n",
            "Processed 2335658 lines in total\n",
            "Total number of methylation call strings processed: 4671316\n",
            "\n",
            "Final Cytosine Methylation Report\n",
            "=================================\n",
            "Total number of C's analysed:\t104748620\n",
            "\n",
            "Total methylated C's in CpG context:\t2103916\n",
            "Total methylated C's in CHG context:\t270195\n",
            "Total methylated C's in CHH context:\t1236285\n",
            "\n",
            "Total C to T conversions in CpG context:\t2729982\n",
            "Total C to T conversions in CHG context:\t22951565\n",
            "Total C to T conversions in CHH context:\t75456677\n",
            "\n",
            "C methylated in CpG context:\t43.5%\n",
            "C methylated in CHG context:\t1.2%\n",
            "C methylated in CHH context:\t1.6%\n",
            "\n",
            "\n",
            "Determining maximum read lengths for M-Bias plots\n",
            "Maximum read length of Read 1: 140\n",
            "Maximum read length of Read 2: 140\n",
            "\n",
            "Perl module GD::Graph::lines is not installed, skipping drawing M-bias plots (only writing out M-bias plot table)\n",
            "Determining maximum read lengths for M-Bias plots\n",
            "Maximum read length of Read 1: 140\n",
            "Maximum read length of Read 2: 140\n",
            "\n",
            "Perl module GD::Graph::lines is not installed, skipping drawing M-bias plots (only writing out M-bias plot table)\n",
            "Deleting unused files ...\n",
            "\n",
            "CpG_OT_SRR5836473_1_bismark_bt2_pe.deduplicated.txt.gz contains data ->\tkept\n",
            "\n",
            "gzip: stdout: Broken pipe\n",
            "CpG_CTOT_SRR5836473_1_bismark_bt2_pe.deduplicated.txt.gz contains data ->\tkept\n",
            "CpG_CTOB_SRR5836473_1_bismark_bt2_pe.deduplicated.txt.gz contains data ->\tkept\n",
            "CpG_OB_SRR5836473_1_bismark_bt2_pe.deduplicated.txt.gz contains data ->\tkept\n",
            "\n",
            "gzip: stdout: Broken pipe\n",
            "CHG_OT_SRR5836473_1_bismark_bt2_pe.deduplicated.txt.gz contains data ->\tkept\n",
            "\n",
            "gzip: stdout: Broken pipe\n",
            "CHG_CTOT_SRR5836473_1_bismark_bt2_pe.deduplicated.txt.gz contains data ->\tkept\n",
            "\n",
            "gzip: stdout: Broken pipe\n",
            "CHG_CTOB_SRR5836473_1_bismark_bt2_pe.deduplicated.txt.gz contains data ->\tkept\n",
            "\n",
            "gzip: stdout: Broken pipe\n",
            "CHG_OB_SRR5836473_1_bismark_bt2_pe.deduplicated.txt.gz contains data ->\tkept\n",
            "\n",
            "gzip: stdout: Broken pipe\n",
            "CHH_OT_SRR5836473_1_bismark_bt2_pe.deduplicated.txt.gz contains data ->\tkept\n",
            "\n",
            "gzip: stdout: Broken pipe\n",
            "CHH_CTOT_SRR5836473_1_bismark_bt2_pe.deduplicated.txt.gz contains data ->\tkept\n",
            "\n",
            "gzip: stdout: Broken pipe\n",
            "CHH_CTOB_SRR5836473_1_bismark_bt2_pe.deduplicated.txt.gz contains data ->\tkept\n",
            "\n",
            "gzip: stdout: Broken pipe\n",
            "CHH_OB_SRR5836473_1_bismark_bt2_pe.deduplicated.txt.gz contains data ->\tkept\n",
            "\n",
            "\n",
            "Using these input files: CpG_OT_SRR5836473_1_bismark_bt2_pe.deduplicated.txt.gz CpG_CTOT_SRR5836473_1_bismark_bt2_pe.deduplicated.txt.gz CpG_CTOB_SRR5836473_1_bismark_bt2_pe.deduplicated.txt.gz CpG_OB_SRR5836473_1_bismark_bt2_pe.deduplicated.txt.gz CHG_OT_SRR5836473_1_bismark_bt2_pe.deduplicated.txt.gz CHG_CTOT_SRR5836473_1_bismark_bt2_pe.deduplicated.txt.gz CHG_CTOB_SRR5836473_1_bismark_bt2_pe.deduplicated.txt.gz CHG_OB_SRR5836473_1_bismark_bt2_pe.deduplicated.txt.gz CHH_OT_SRR5836473_1_bismark_bt2_pe.deduplicated.txt.gz CHH_CTOT_SRR5836473_1_bismark_bt2_pe.deduplicated.txt.gz CHH_CTOB_SRR5836473_1_bismark_bt2_pe.deduplicated.txt.gz CHH_OB_SRR5836473_1_bismark_bt2_pe.deduplicated.txt.gz\n",
            "\n",
            "Summary of parameters for bismark2bedGraph conversion:\n",
            "======================================================\n",
            "bedGraph output:\t\tSRR5836473_1_bismark_bt2_pe.deduplicated.bedGraph.gz\n",
            "output directory:\t\t><\n",
            "remove whitespaces:\t\tno\n",
            "CX context:\t\t\tno (CpG context only, default)\n",
            "No-header selected:\t\tno\n",
            "Sorting method:\t\t\tUnix sort-based (smaller memory footprint, but slower)\n",
            "Sort buffer size:\t\t2G\n",
            "Coverage threshold:\t\t1\n",
            "=============================================================================\n",
            "Methylation information will now be written into a bedGraph and coverage file\n",
            "=============================================================================\n",
            "\n",
            "Using the following files as Input:\n",
            "/home/erportnyagin/src/hse24_hw1/CpG_OT_SRR5836473_1_bismark_bt2_pe.deduplicated.txt.gz\t/home/erportnyagin/src/hse24_hw1/CpG_CTOT_SRR5836473_1_bismark_bt2_pe.deduplicated.txt.gz\t/home/erportnyagin/src/hse24_hw1/CpG_CTOB_SRR5836473_1_bismark_bt2_pe.deduplicated.txt.gz\t/home/erportnyagin/src/hse24_hw1/CpG_OB_SRR5836473_1_bismark_bt2_pe.deduplicated.txt.gz\n",
            "\n",
            "Writing bedGraph to file: SRR5836473_1_bismark_bt2_pe.deduplicated.bedGraph.gz\n",
            "Also writing out a coverage file including counts methylated and unmethylated residues to file: SRR5836473_1_bismark_bt2_pe.deduplicated.bismark.cov.gz\n",
            "\n",
            "Now writing methylation information for file >>CpG_OT_SRR5836473_1_bismark_bt2_pe.deduplicated.txt.gz<< to individual files for each chromosome\n",
            "Finished writing out individual chromosome files for CpG_OT_SRR5836473_1_bismark_bt2_pe.deduplicated.txt.gz\n",
            "Now writing methylation information for file >>CpG_CTOT_SRR5836473_1_bismark_bt2_pe.deduplicated.txt.gz<< to individual files for each chromosome\n",
            "Finished writing out individual chromosome files for CpG_CTOT_SRR5836473_1_bismark_bt2_pe.deduplicated.txt.gz\n",
            "Now writing methylation information for file >>CpG_CTOB_SRR5836473_1_bismark_bt2_pe.deduplicated.txt.gz<< to individual files for each chromosome\n",
            "Finished writing out individual chromosome files for CpG_CTOB_SRR5836473_1_bismark_bt2_pe.deduplicated.txt.gz\n",
            "Now writing methylation information for file >>CpG_OB_SRR5836473_1_bismark_bt2_pe.deduplicated.txt.gz<< to individual files for each chromosome\n",
            "Finished writing out individual chromosome files for CpG_OB_SRR5836473_1_bismark_bt2_pe.deduplicated.txt.gz\n",
            "\n",
            "Collecting temporary chromosome file information... Processing the following input file(s):\n",
            "CpG_OT_SRR5836473_1_bismark_bt2_pe.deduplicated.txt.gz.chrchr11.methXtractor.temp\n",
            "\n",
            "Sorting input file CpG_OT_SRR5836473_1_bismark_bt2_pe.deduplicated.txt.gz.chrchr11.methXtractor.temp by positions (using -S of 2G)\n",
            "Successfully deleted the temporary input file CpG_OT_SRR5836473_1_bismark_bt2_pe.deduplicated.txt.gz.chrchr11.methXtractor.temp\n",
            "\n",
            "Finished BedGraph conversion ...\n",
            "\n",
            "Summary of parameters for genome-wide cytosine report:\n",
            "==============================================================================\n",
            "Coverage infile:\t\t\t\tSRR5836473_1_bismark_bt2_pe.deduplicated.bismark.cov.gz\n",
            "Output directory:\t\t\t\t><\n",
            "Parent directory:\t\t\t\t>/home/erportnyagin/src/hse24_hw1/<\n",
            "Genome directory:\t\t\t\t>/home/erportnyagin/src/hse24_hw1/mouse_chr/<\n",
            "Coverage threshold\t\t\t\t0 (all positions will be reported, default)\n",
            "CX context:\t\t\t\t\tno (CpG context only, default)\n",
            "Genome coordinates used:\t\t\t1-based (default)\n",
            "GZIP compression:\t\t\t\tyes\n",
            "Split by chromosome:\t\t\t\tno\n",
            "\n",
            "\n",
            "Now reading in and storing sequence information of the genome specified in: /home/erportnyagin/src/hse24_hw1/mouse_chr/\n",
            "\n",
            "chr 11 (121973369 bp)\n",
            "\n",
            "Stored sequence information of 1 chromosomes/scaffolds in total\n",
            "\n",
            "==============================================================================\n",
            "Methylation information will now be written into a genome-wide cytosine report\n",
            "==============================================================================\n",
            "\n",
            "Adding context-specific methylation summaries\n",
            "\n",
            ">>> Writing genome-wide cytosine report to: SRR5836473_1_bismark_bt2_pe.deduplicated.CpG_report.txt.gz <<<\n",
            "\n",
            ">>> Writing all cytosine context summary file to: SRR5836473_1_bismark_bt2_pe.deduplicated.cytosine_context_summary.txt <<<\n",
            "\n",
            "Storing all covered cytosine positions for chromosome: chr11\n",
            "Writing cytosine report for last chromosome chr11 (stored 1737533 different covered positions)\n",
            "Use of uninitialized value $chromosomes{\"chr11\"} in pattern match (m//) at /home/erportnyagin/src/hse24_hw1/Bismark-master/coverage2cytosine line 462, <IN> line 1737533.\n",
            "Finished writing out cytosine report for covered chromosomes (processed 1 chromosomes/scaffolds in total)\n",
            "\n",
            "Now processing chromosomes that were not covered by any methylation calls in the coverage file...\n",
            "Writing cytosine report for not covered chromosome 11\n",
            "Finished writing out cytosine report (processed 2 chromosomes/scaffolds in total). coverage2cytosine processing complete.\n",
            "\n",
            "\n",
            "\n",
            "Finished generating genome-wide cytosine report\n",
            "\n",
            "samtools view: writing to standard output failed: Broken pipe\n",
            "samtools view: error closing standard output: -1\n",
            "samtools view: writing to standard output failed: Broken pipe\n",
            "samtools view: error closing standard output: -1\n",
            "\n",
            "gzip: stdout: Broken pipe\n"
          ]
        }
      ],
      "source": [
        "! ./bismark_methylation_extractor --gzip --bedGraph --cytosine_report --genome_folder ./mouse_chr SRR5836473_1_bismark_bt2_pe.deduplicated.bam"
      ]
    },
    {
      "cell_type": "code",
      "execution_count": 17,
      "metadata": {},
      "outputs": [
        {
          "name": "stdout",
          "output_type": "stream",
          "text": [
            "\n",
            " *** Bismark methylation extractor version v0.24.2 ***\n",
            "\n",
            "Trying to determine the type of mapping from the SAM header line of file SRR5836475_1_bismark_bt2_pe.deduplicated.bam\n",
            "Treating file(s) as paired-end data (as extracted from @PG line)\n",
            "\n",
            "Setting option '--no_overlap' since this is (normally) the right thing to do for paired-end data\n",
            "\n",
            "\n",
            "Setting core usage to single-threaded (default). Consider using --multicore <int> to speed up the extraction process.\n",
            "\n",
            "Summarising Bismark methylation extractor parameters:\n",
            "===============================================================\n",
            "Bismark paired-end SAM format specified (default)\n",
            "Number of cores to be used: 1\n",
            "Output will be written to the current directory ('/home/erportnyagin/src/hse24_hw1')\n",
            "\n",
            "\n",
            "Summarising bedGraph parameters:\n",
            "===============================================================\n",
            "Generating additional output in bedGraph and coverage format\n",
            "bedGraph format:\t<Chromosome> <Start Position> <End Position> <Methylation Percentage>\n",
            "coverage format:\t<Chromosome> <Start Position> <End Position> <Methylation Percentage> <count methylated> <count non-methylated>\n",
            "\n",
            "Using a cutoff of 1 read(s) to report cytosine positions\n",
            "Reporting and sorting cytosine methylation information in CpG context only (default)\n",
            "The bedGraph UNIX sort command will use the following memory setting:\t'2G'. Temporary directory used for sorting is the output directory\n",
            "\n",
            "\n",
            "Summarising genome-wide cytosine methylation report parameters:\n",
            "===============================================================\n",
            "Generating comprehensive genome-wide cytosine report\n",
            "(output format: <Chromosome> <Position> <Strand> <count methylated> <count non-methylated>  <C-context>  <trinucleotide context> )\n",
            "Reporting cytosine methylation in CpG context only (default)\n",
            "Using 1-based genomic coordinates (default)\n",
            "Genome folder was specified as ./mouse_chr/\n",
            "\n",
            "Checking file >>SRR5836475_1_bismark_bt2_pe.deduplicated.bam<< for signs of file truncation...\n",
            "\n",
            "\n",
            "Now testing Bismark result file >SRR5836475_1_bismark_bt2_pe.deduplicated.bam< for positional sorting (which would be bad...)\t...passed!\n",
            "Writing result file containing methylation information for C in CpG context from the original top strand to CpG_OT_SRR5836475_1_bismark_bt2_pe.deduplicated.txt.gz\n",
            "Writing result file containing methylation information for C in CpG context from the complementary to original top strand to CpG_CTOT_SRR5836475_1_bismark_bt2_pe.deduplicated.txt.gz\n",
            "Writing result file containing methylation information for C in CpG context from the complementary to original bottom strand to CpG_CTOB_SRR5836475_1_bismark_bt2_pe.deduplicated.txt.gz\n",
            "Writing result file containing methylation information for C in CpG context from the original bottom strand to CpG_OB_SRR5836475_1_bismark_bt2_pe.deduplicated.txt.gz\n",
            "\n",
            "Writing result file containing methylation information for C in CHG context from the original top strand to CHG_OT_SRR5836475_1_bismark_bt2_pe.deduplicated.txt.gz\n",
            "Writing result file containing methylation information for C in CHG context from the complementary to original top strand to CHG_CTOT_SRR5836475_1_bismark_bt2_pe.deduplicated.txt.gz\n",
            "Writing result file containing methylation information for C in CHG context from the complementary to original bottom strand to CHG_CTOB_SRR5836475_1_bismark_bt2_pe.deduplicated.txt.gz\n",
            "Writing result file containing methylation information for C in CHG context from the original bottom strand to CHG_OB_SRR5836475_1_bismark_bt2_pe.deduplicated.txt.gz\n",
            "\n",
            "Writing result file containing methylation information for C in CHH context from the original top strand to CHH_OT_SRR5836475_1_bismark_bt2_pe.deduplicated.txt.gz\n",
            "Writing result file containing methylation information for C in CHH context from the complementary to original top strand to CHH_CTOT_SRR5836475_1_bismark_bt2_pe.deduplicated.txt.gz\n",
            "Writing result file containing methylation information for C in CHH context from the complementary to original bottom strand to CHH_CTOB_SRR5836475_1_bismark_bt2_pe.deduplicated.txt.gz\n",
            "Writing result file containing methylation information for C in CHH context from the original bottom strand to CHH_OB_SRR5836475_1_bismark_bt2_pe.deduplicated.txt.gz\n",
            "\n",
            "Now reading in Bismark result file SRR5836475_1_bismark_bt2_pe.deduplicated.bam\n",
            "skipping SAM header line:\t@HD\tVN:1.0\tSO:unsorted\n",
            "skipping SAM header line:\t@SQ\tSN:chr11\tLN:121973369\n",
            "skipping SAM header line:\t@PG\tID:Bismark\tVN:v0.24.2\tCL:\"bismark --genome_folder /mnt/cache-1/for_minor/mm39_11/ -q --non_directional -parallel 10 -1 SRR5836475_1.fq -2 SRR5836475_2.fq\"\n",
            "skipping SAM header line:\t@PG\tID:samtools\tPN:samtools\tPP:Bismark\tVN:1.13\tCL:/bin/samtools view -h --threads 1 SRR5836475_1_bismark_bt2_pe.bam\n",
            "skipping SAM header line:\t@PG\tID:samtools.1\tPN:samtools\tPP:samtools\tVN:1.13\tCL:/bin/samtools view -bS --threads 1 -\n",
            "skipping SAM header line:\t@PG\tID:samtools.2\tPN:samtools\tPP:samtools.1\tVN:1.13\tCL:/bin/samtools view -h SRR5836475_1_bismark_bt2_pe.deduplicated.bam\n",
            "Processed lines: 500000\n",
            "Processed lines: 1000000\n",
            "Processed lines: 1500000\n",
            "Processed lines: 2000000\n",
            "Processed lines: 2500000\n",
            "Processed lines: 3000000\n",
            "Processed lines: 3500000\n",
            "\n",
            "Processed 3791973 lines in total\n",
            "Total number of methylation call strings processed: 7583946\n",
            "\n",
            "Final Cytosine Methylation Report\n",
            "=================================\n",
            "Total number of C's analysed:\t177777254\n",
            "\n",
            "Total methylated C's in CpG context:\t1915876\n",
            "Total methylated C's in CHG context:\t298499\n",
            "Total methylated C's in CHH context:\t1434775\n",
            "\n",
            "Total C to T conversions in CpG context:\t6256205\n",
            "Total C to T conversions in CHG context:\t39157632\n",
            "Total C to T conversions in CHH context:\t128714267\n",
            "\n",
            "C methylated in CpG context:\t23.4%\n",
            "C methylated in CHG context:\t0.8%\n",
            "C methylated in CHH context:\t1.1%\n",
            "\n",
            "\n",
            "Determining maximum read lengths for M-Bias plots\n",
            "Maximum read length of Read 1: 140\n",
            "Maximum read length of Read 2: 140\n",
            "\n",
            "Perl module GD::Graph::lines is not installed, skipping drawing M-bias plots (only writing out M-bias plot table)\n",
            "Determining maximum read lengths for M-Bias plots\n",
            "Maximum read length of Read 1: 140\n",
            "Maximum read length of Read 2: 140\n",
            "\n",
            "Perl module GD::Graph::lines is not installed, skipping drawing M-bias plots (only writing out M-bias plot table)\n",
            "Deleting unused files ...\n",
            "\n",
            "CpG_OT_SRR5836475_1_bismark_bt2_pe.deduplicated.txt.gz contains data ->\tkept\n",
            "\n",
            "gzip: stdout: Broken pipe\n",
            "CpG_CTOT_SRR5836475_1_bismark_bt2_pe.deduplicated.txt.gz contains data ->\tkept\n",
            "CpG_CTOB_SRR5836475_1_bismark_bt2_pe.deduplicated.txt.gz contains data ->\tkept\n",
            "CpG_OB_SRR5836475_1_bismark_bt2_pe.deduplicated.txt.gz contains data ->\tkept\n",
            "\n",
            "gzip: stdout: Broken pipe\n",
            "CHG_OT_SRR5836475_1_bismark_bt2_pe.deduplicated.txt.gz contains data ->\tkept\n",
            "\n",
            "gzip: stdout: Broken pipe\n",
            "CHG_CTOT_SRR5836475_1_bismark_bt2_pe.deduplicated.txt.gz contains data ->\tkept\n",
            "\n",
            "gzip: stdout: Broken pipe\n",
            "CHG_CTOB_SRR5836475_1_bismark_bt2_pe.deduplicated.txt.gz contains data ->\tkept\n",
            "\n",
            "gzip: stdout: Broken pipe\n",
            "CHG_OB_SRR5836475_1_bismark_bt2_pe.deduplicated.txt.gz contains data ->\tkept\n",
            "\n",
            "gzip: stdout: Broken pipe\n",
            "CHH_OT_SRR5836475_1_bismark_bt2_pe.deduplicated.txt.gz contains data ->\tkept\n",
            "\n",
            "gzip: stdout: Broken pipe\n",
            "CHH_CTOT_SRR5836475_1_bismark_bt2_pe.deduplicated.txt.gz contains data ->\tkept\n",
            "\n",
            "gzip: stdout: Broken pipe\n",
            "CHH_CTOB_SRR5836475_1_bismark_bt2_pe.deduplicated.txt.gz contains data ->\tkept\n",
            "\n",
            "gzip: stdout: Broken pipe\n",
            "CHH_OB_SRR5836475_1_bismark_bt2_pe.deduplicated.txt.gz contains data ->\tkept\n",
            "\n",
            "\n",
            "Using these input files: CpG_OT_SRR5836475_1_bismark_bt2_pe.deduplicated.txt.gz CpG_CTOT_SRR5836475_1_bismark_bt2_pe.deduplicated.txt.gz CpG_CTOB_SRR5836475_1_bismark_bt2_pe.deduplicated.txt.gz CpG_OB_SRR5836475_1_bismark_bt2_pe.deduplicated.txt.gz CHG_OT_SRR5836475_1_bismark_bt2_pe.deduplicated.txt.gz CHG_CTOT_SRR5836475_1_bismark_bt2_pe.deduplicated.txt.gz CHG_CTOB_SRR5836475_1_bismark_bt2_pe.deduplicated.txt.gz CHG_OB_SRR5836475_1_bismark_bt2_pe.deduplicated.txt.gz CHH_OT_SRR5836475_1_bismark_bt2_pe.deduplicated.txt.gz CHH_CTOT_SRR5836475_1_bismark_bt2_pe.deduplicated.txt.gz CHH_CTOB_SRR5836475_1_bismark_bt2_pe.deduplicated.txt.gz CHH_OB_SRR5836475_1_bismark_bt2_pe.deduplicated.txt.gz\n",
            "\n",
            "Summary of parameters for bismark2bedGraph conversion:\n",
            "======================================================\n",
            "bedGraph output:\t\tSRR5836475_1_bismark_bt2_pe.deduplicated.bedGraph.gz\n",
            "output directory:\t\t><\n",
            "remove whitespaces:\t\tno\n",
            "CX context:\t\t\tno (CpG context only, default)\n",
            "No-header selected:\t\tno\n",
            "Sorting method:\t\t\tUnix sort-based (smaller memory footprint, but slower)\n",
            "Sort buffer size:\t\t2G\n",
            "Coverage threshold:\t\t1\n",
            "=============================================================================\n",
            "Methylation information will now be written into a bedGraph and coverage file\n",
            "=============================================================================\n",
            "\n",
            "Using the following files as Input:\n",
            "/home/erportnyagin/src/hse24_hw1/CpG_OT_SRR5836475_1_bismark_bt2_pe.deduplicated.txt.gz\t/home/erportnyagin/src/hse24_hw1/CpG_CTOT_SRR5836475_1_bismark_bt2_pe.deduplicated.txt.gz\t/home/erportnyagin/src/hse24_hw1/CpG_CTOB_SRR5836475_1_bismark_bt2_pe.deduplicated.txt.gz\t/home/erportnyagin/src/hse24_hw1/CpG_OB_SRR5836475_1_bismark_bt2_pe.deduplicated.txt.gz\n",
            "\n",
            "Writing bedGraph to file: SRR5836475_1_bismark_bt2_pe.deduplicated.bedGraph.gz\n",
            "Also writing out a coverage file including counts methylated and unmethylated residues to file: SRR5836475_1_bismark_bt2_pe.deduplicated.bismark.cov.gz\n",
            "\n",
            "Now writing methylation information for file >>CpG_OT_SRR5836475_1_bismark_bt2_pe.deduplicated.txt.gz<< to individual files for each chromosome\n",
            "Finished writing out individual chromosome files for CpG_OT_SRR5836475_1_bismark_bt2_pe.deduplicated.txt.gz\n",
            "Now writing methylation information for file >>CpG_CTOT_SRR5836475_1_bismark_bt2_pe.deduplicated.txt.gz<< to individual files for each chromosome\n",
            "Finished writing out individual chromosome files for CpG_CTOT_SRR5836475_1_bismark_bt2_pe.deduplicated.txt.gz\n",
            "Now writing methylation information for file >>CpG_CTOB_SRR5836475_1_bismark_bt2_pe.deduplicated.txt.gz<< to individual files for each chromosome\n",
            "Finished writing out individual chromosome files for CpG_CTOB_SRR5836475_1_bismark_bt2_pe.deduplicated.txt.gz\n",
            "Now writing methylation information for file >>CpG_OB_SRR5836475_1_bismark_bt2_pe.deduplicated.txt.gz<< to individual files for each chromosome\n",
            "Finished writing out individual chromosome files for CpG_OB_SRR5836475_1_bismark_bt2_pe.deduplicated.txt.gz\n",
            "\n",
            "Collecting temporary chromosome file information... Processing the following input file(s):\n",
            "CpG_OT_SRR5836475_1_bismark_bt2_pe.deduplicated.txt.gz.chrchr11.methXtractor.temp\n",
            "\n",
            "Sorting input file CpG_OT_SRR5836475_1_bismark_bt2_pe.deduplicated.txt.gz.chrchr11.methXtractor.temp by positions (using -S of 2G)\n",
            "Successfully deleted the temporary input file CpG_OT_SRR5836475_1_bismark_bt2_pe.deduplicated.txt.gz.chrchr11.methXtractor.temp\n",
            "\n",
            "Finished BedGraph conversion ...\n",
            "\n",
            "Summary of parameters for genome-wide cytosine report:\n",
            "==============================================================================\n",
            "Coverage infile:\t\t\t\tSRR5836475_1_bismark_bt2_pe.deduplicated.bismark.cov.gz\n",
            "Output directory:\t\t\t\t><\n",
            "Parent directory:\t\t\t\t>/home/erportnyagin/src/hse24_hw1/<\n",
            "Genome directory:\t\t\t\t>/home/erportnyagin/src/hse24_hw1/mouse_chr/<\n",
            "Coverage threshold\t\t\t\t0 (all positions will be reported, default)\n",
            "CX context:\t\t\t\t\tno (CpG context only, default)\n",
            "Genome coordinates used:\t\t\t1-based (default)\n",
            "GZIP compression:\t\t\t\tyes\n",
            "Split by chromosome:\t\t\t\tno\n",
            "\n",
            "\n",
            "Now reading in and storing sequence information of the genome specified in: /home/erportnyagin/src/hse24_hw1/mouse_chr/\n",
            "\n",
            "chr 11 (121973369 bp)\n",
            "\n",
            "Stored sequence information of 1 chromosomes/scaffolds in total\n",
            "\n",
            "==============================================================================\n",
            "Methylation information will now be written into a genome-wide cytosine report\n",
            "==============================================================================\n",
            "\n",
            "Adding context-specific methylation summaries\n",
            "\n",
            ">>> Writing genome-wide cytosine report to: SRR5836475_1_bismark_bt2_pe.deduplicated.CpG_report.txt.gz <<<\n",
            "\n",
            ">>> Writing all cytosine context summary file to: SRR5836475_1_bismark_bt2_pe.deduplicated.cytosine_context_summary.txt <<<\n",
            "\n",
            "Storing all covered cytosine positions for chromosome: chr11\n",
            "Writing cytosine report for last chromosome chr11 (stored 2054296 different covered positions)\n",
            "Use of uninitialized value $chromosomes{\"chr11\"} in pattern match (m//) at /home/erportnyagin/src/hse24_hw1/Bismark-master/coverage2cytosine line 462, <IN> line 2054296.\n",
            "Finished writing out cytosine report for covered chromosomes (processed 1 chromosomes/scaffolds in total)\n",
            "\n",
            "Now processing chromosomes that were not covered by any methylation calls in the coverage file...\n",
            "Writing cytosine report for not covered chromosome 11\n",
            "Finished writing out cytosine report (processed 2 chromosomes/scaffolds in total). coverage2cytosine processing complete.\n",
            "\n",
            "\n",
            "\n",
            "Finished generating genome-wide cytosine report\n",
            "\n",
            "samtools view: writing to standard output failed: Broken pipe\n",
            "samtools view: error closing standard output: -1\n",
            "samtools view: writing to standard output failed: Broken pipe\n",
            "samtools view: error closing standard output: -1\n",
            "\n",
            "gzip: stdout: Broken pipe\n"
          ]
        }
      ],
      "source": [
        "! ./bismark_methylation_extractor --gzip --bedGraph --cytosine_report --genome_folder ./mouse_chr SRR5836475_1_bismark_bt2_pe.deduplicated.bam"
      ]
    },
    {
      "cell_type": "code",
      "execution_count": 18,
      "metadata": {},
      "outputs": [
        {
          "name": "stdout",
          "output_type": "stream",
          "text": [
            "\n",
            " *** Bismark methylation extractor version v0.24.2 ***\n",
            "\n",
            "Trying to determine the type of mapping from the SAM header line of file SRR3824222_1_bismark_bt2_pe.deduplicated.bam\n",
            "Treating file(s) as paired-end data (as extracted from @PG line)\n",
            "\n",
            "Setting option '--no_overlap' since this is (normally) the right thing to do for paired-end data\n",
            "\n",
            "\n",
            "Setting core usage to single-threaded (default). Consider using --multicore <int> to speed up the extraction process.\n",
            "\n",
            "Summarising Bismark methylation extractor parameters:\n",
            "===============================================================\n",
            "Bismark paired-end SAM format specified (default)\n",
            "Number of cores to be used: 1\n",
            "Output will be written to the current directory ('/home/erportnyagin/src/hse24_hw1')\n",
            "\n",
            "\n",
            "Summarising bedGraph parameters:\n",
            "===============================================================\n",
            "Generating additional output in bedGraph and coverage format\n",
            "bedGraph format:\t<Chromosome> <Start Position> <End Position> <Methylation Percentage>\n",
            "coverage format:\t<Chromosome> <Start Position> <End Position> <Methylation Percentage> <count methylated> <count non-methylated>\n",
            "\n",
            "Using a cutoff of 1 read(s) to report cytosine positions\n",
            "Reporting and sorting cytosine methylation information in CpG context only (default)\n",
            "The bedGraph UNIX sort command will use the following memory setting:\t'2G'. Temporary directory used for sorting is the output directory\n",
            "\n",
            "\n",
            "Summarising genome-wide cytosine methylation report parameters:\n",
            "===============================================================\n",
            "Generating comprehensive genome-wide cytosine report\n",
            "(output format: <Chromosome> <Position> <Strand> <count methylated> <count non-methylated>  <C-context>  <trinucleotide context> )\n",
            "Reporting cytosine methylation in CpG context only (default)\n",
            "Using 1-based genomic coordinates (default)\n",
            "Genome folder was specified as ./mouse_chr/\n",
            "\n",
            "Checking file >>SRR3824222_1_bismark_bt2_pe.deduplicated.bam<< for signs of file truncation...\n",
            "\n",
            "\n",
            "Now testing Bismark result file >SRR3824222_1_bismark_bt2_pe.deduplicated.bam< for positional sorting (which would be bad...)\t...passed!\n",
            "Writing result file containing methylation information for C in CpG context from the original top strand to CpG_OT_SRR3824222_1_bismark_bt2_pe.deduplicated.txt.gz\n",
            "Writing result file containing methylation information for C in CpG context from the complementary to original top strand to CpG_CTOT_SRR3824222_1_bismark_bt2_pe.deduplicated.txt.gz\n",
            "Writing result file containing methylation information for C in CpG context from the complementary to original bottom strand to CpG_CTOB_SRR3824222_1_bismark_bt2_pe.deduplicated.txt.gz\n",
            "Writing result file containing methylation information for C in CpG context from the original bottom strand to CpG_OB_SRR3824222_1_bismark_bt2_pe.deduplicated.txt.gz\n",
            "\n",
            "Writing result file containing methylation information for C in CHG context from the original top strand to CHG_OT_SRR3824222_1_bismark_bt2_pe.deduplicated.txt.gz\n",
            "Writing result file containing methylation information for C in CHG context from the complementary to original top strand to CHG_CTOT_SRR3824222_1_bismark_bt2_pe.deduplicated.txt.gz\n",
            "Writing result file containing methylation information for C in CHG context from the complementary to original bottom strand to CHG_CTOB_SRR3824222_1_bismark_bt2_pe.deduplicated.txt.gz\n",
            "Writing result file containing methylation information for C in CHG context from the original bottom strand to CHG_OB_SRR3824222_1_bismark_bt2_pe.deduplicated.txt.gz\n",
            "\n",
            "Writing result file containing methylation information for C in CHH context from the original top strand to CHH_OT_SRR3824222_1_bismark_bt2_pe.deduplicated.txt.gz\n",
            "Writing result file containing methylation information for C in CHH context from the complementary to original top strand to CHH_CTOT_SRR3824222_1_bismark_bt2_pe.deduplicated.txt.gz\n",
            "Writing result file containing methylation information for C in CHH context from the complementary to original bottom strand to CHH_CTOB_SRR3824222_1_bismark_bt2_pe.deduplicated.txt.gz\n",
            "Writing result file containing methylation information for C in CHH context from the original bottom strand to CHH_OB_SRR3824222_1_bismark_bt2_pe.deduplicated.txt.gz\n",
            "\n",
            "Now reading in Bismark result file SRR3824222_1_bismark_bt2_pe.deduplicated.bam\n",
            "skipping SAM header line:\t@HD\tVN:1.0\tSO:unsorted\n",
            "skipping SAM header line:\t@SQ\tSN:chr11\tLN:121973369\n",
            "skipping SAM header line:\t@PG\tID:Bismark\tVN:v0.24.2\tCL:\"bismark --genome_folder /mnt/cache-1/for_minor/mm39_11/ -q --non_directional -parallel 10 -1 SRR3824222_1.fq,SRR5836473_1.fq,SRR5836473_1.fq -2 SRR3824222_2.fq,SRR5836473_2.fq,SRR5836473_2.fq\"\n",
            "skipping SAM header line:\t@PG\tID:samtools\tPN:samtools\tPP:Bismark\tVN:1.13\tCL:/bin/samtools view -h --threads 1 SRR3824222_1_bismark_bt2_pe.bam\n",
            "skipping SAM header line:\t@PG\tID:samtools.1\tPN:samtools\tPP:samtools\tVN:1.13\tCL:/bin/samtools view -bS --threads 1 -\n",
            "skipping SAM header line:\t@PG\tID:samtools.2\tPN:samtools\tPP:samtools.1\tVN:1.13\tCL:/bin/samtools view -h SRR3824222_1_bismark_bt2_pe.deduplicated.bam\n",
            "Processed lines: 500000\n",
            "Processed lines: 1000000\n",
            "Processed lines: 1500000\n",
            "Processed lines: 2000000\n",
            "Processed lines: 2500000\n",
            "Processed lines: 3000000\n",
            "Processed lines: 3500000\n",
            "Processed lines: 4000000\n",
            "Processed lines: 4500000\n",
            "Processed lines: 5000000\n",
            "^C\n"
          ]
        }
      ],
      "source": [
        "! ./bismark_methylation_extractor --gzip --bedGraph --cytosine_report --genome_folder ./mouse_chr SRR3824222_1_bismark_bt2_pe.deduplicated.bam"
      ]
    },
    {
      "cell_type": "code",
      "execution_count": null,
      "metadata": {},
      "outputs": [],
      "source": [
        "! ./bismark2report -mbias_report s_8_cell.deduplicated.M-bias.txt"
      ]
    },
    {
      "attachments": {},
      "cell_type": "markdown",
      "metadata": {},
      "source": [
        "========================================================================"
      ]
    },
    {
      "cell_type": "code",
      "execution_count": null,
      "metadata": {
        "colab": {
          "base_uri": "https://localhost:8080/"
        },
        "id": "buKTYu3PBuA3",
        "outputId": "d5942568-d17a-4744-dfff-8d904c931474"
      },
      "outputs": [
        {
          "name": "stdout",
          "output_type": "stream",
          "text": [
            "track type=bedGraph\n",
            "chr11\t3100030\t3100031\t50\n",
            "chr11\t3100047\t3100048\t66.6666666666667\n",
            "chr11\t3100048\t3100049\t50\n",
            "chr11\t3100223\t3100224\t87.5\n",
            "chr11\t3100224\t3100225\t53.3333333333333\n",
            "chr11\t3100285\t3100286\t66.6666666666667\n",
            "chr11\t3100286\t3100287\t33.3333333333333\n",
            "chr11\t3100309\t3100310\t62.5\n",
            "chr11\t3100310\t3100311\t50\n"
          ]
        }
      ],
      "source": [
        "! head s_8_cell.deduplicated.bedGraph"
      ]
    },
    {
      "cell_type": "markdown",
      "metadata": {
        "id": "LKBD3cwo1wLx"
      },
      "source": [
        "Коллинг метилирования"
      ]
    },
    {
      "cell_type": "code",
      "execution_count": null,
      "metadata": {
        "colab": {
          "base_uri": "https://localhost:8080/"
        },
        "id": "4c5BEvKpDw5K",
        "outputId": "466f8918-d79f-4add-b17b-6601c7630e5a"
      },
      "outputs": [
        {
          "name": "stdout",
          "output_type": "stream",
          "text": [
            "\n",
            " *** Bismark methylation extractor version v0.23.1 ***\n",
            "\n",
            "Trying to determine the type of mapping from the SAM header line of file s_8_cell.deduplicated.bam\n",
            "Treating file(s) as paired-end data (as extracted from @PG line)\n",
            "\n",
            "Setting option '--no_overlap' since this is (normally) the right thing to do for paired-end data\n",
            "\n",
            "\n",
            "Setting core usage to single-threaded (default). Consider using --multicore <int> to speed up the extraction process.\n",
            "\n",
            "Summarising Bismark methylation extractor parameters:\n",
            "===============================================================\n",
            "Bismark paired-end SAM format specified (default)\n",
            "Number of cores to be used: 1\n",
            "Output will be written to the current directory ('/content')\n",
            "\n",
            "\n",
            "Summarising bedGraph parameters:\n",
            "===============================================================\n",
            "Generating additional output in bedGraph and coverage format\n",
            "bedGraph format:\t<Chromosome> <Start Position> <End Position> <Methylation Percentage>\n",
            "coverage format:\t<Chromosome> <Start Position> <End Position> <Methylation Percentage> <count methylated> <count non-methylated>\n",
            "\n",
            "Using a cutoff of 1 read(s) to report cytosine positions\n",
            "Reporting and sorting cytosine methylation information in CpG context only (default)\n",
            "The bedGraph UNIX sort command will use the following memory setting:\t'2G'. Temporary directory used for sorting is the output directory\n",
            "\n",
            "\n",
            "Summarising genome-wide cytosine methylation report parameters:\n",
            "===============================================================\n",
            "Generating comprehensive genome-wide cytosine report\n",
            "(output format: <Chromosome> <Position> <Strand> <count methylated> <count non-methylated>  <C-context>  <trinucleotide context> )\n",
            "Reporting cytosine methylation in CpG context only (default)\n",
            "Using 1-based genomic coordinates (default)\n",
            "Genome folder was specified as ./mouse_chr/\n",
            "\n",
            "Checking file >>s_8_cell.deduplicated.bam<< for signs of file truncation...\n",
            "\n",
            "\n",
            "Now testing Bismark result file >s_8_cell.deduplicated.bam< for positional sorting (which would be bad...)\t...passed!\n",
            "Writing result file containing methylation information for C in CpG context from the original top strand to CpG_OT_s_8_cell.deduplicated.txt.gz\n",
            "Writing result file containing methylation information for C in CpG context from the complementary to original top strand to CpG_CTOT_s_8_cell.deduplicated.txt.gz\n",
            "Writing result file containing methylation information for C in CpG context from the complementary to original bottom strand to CpG_CTOB_s_8_cell.deduplicated.txt.gz\n",
            "Writing result file containing methylation information for C in CpG context from the original bottom strand to CpG_OB_s_8_cell.deduplicated.txt.gz\n",
            "\n",
            "Writing result file containing methylation information for C in CHG context from the original top strand to CHG_OT_s_8_cell.deduplicated.txt.gz\n",
            "Writing result file containing methylation information for C in CHG context from the complementary to original top strand to CHG_CTOT_s_8_cell.deduplicated.txt.gz\n",
            "Writing result file containing methylation information for C in CHG context from the complementary to original bottom strand to CHG_CTOB_s_8_cell.deduplicated.txt.gz\n",
            "Writing result file containing methylation information for C in CHG context from the original bottom strand to CHG_OB_s_8_cell.deduplicated.txt.gz\n",
            "\n",
            "Writing result file containing methylation information for C in CHH context from the original top strand to CHH_OT_s_8_cell.deduplicated.txt.gz\n",
            "Writing result file containing methylation information for C in CHH context from the complementary to original top strand to CHH_CTOT_s_8_cell.deduplicated.txt.gz\n",
            "Writing result file containing methylation information for C in CHH context from the complementary to original bottom strand to CHH_CTOB_s_8_cell.deduplicated.txt.gz\n",
            "Writing result file containing methylation information for C in CHH context from the original bottom strand to CHH_OB_s_8_cell.deduplicated.txt.gz\n",
            "\n",
            "Now reading in Bismark result file s_8_cell.deduplicated.bam\n",
            "skipping SAM header line:\t@HD\tVN:1.0\tSO:unsorted\n",
            "skipping SAM header line:\t@SQ\tSN:chr11\tLN:122082543\n",
            "skipping SAM header line:\t@PG\tID:Bismark\tVN:v0.23.1dev\tCL:\"bismark -p 2 --gzip mouse_chr -1 data/SRR5836473_1.fastq.gz -2 data/SRR5836473_2.fastq.gz -o cell8/\"\n",
            "Processed lines: 500000\n",
            "Processed lines: 1000000\n",
            "Processed lines: 1500000\n",
            "Processed lines: 2000000\n",
            "\n",
            "Processed 2328327 lines in total\n",
            "Total number of methylation call strings processed: 4656654\n",
            "\n",
            "Final Cytosine Methylation Report\n",
            "=================================\n",
            "Total number of C's analysed:\t104224209\n",
            "\n",
            "Total methylated C's in CpG context:\t2101489\n",
            "Total methylated C's in CHG context:\t269204\n",
            "Total methylated C's in CHH context:\t944695\n",
            "\n",
            "Total C to T conversions in CpG context:\t2731177\n",
            "Total C to T conversions in CHG context:\t22964928\n",
            "Total C to T conversions in CHH context:\t75212716\n",
            "\n",
            "C methylated in CpG context:\t43.5%\n",
            "C methylated in CHG context:\t1.2%\n",
            "C methylated in CHH context:\t1.2%\n",
            "\n",
            "\n",
            "Determining maximum read lengths for M-Bias plots\n",
            "Maximum read length of Read 1: 140\n",
            "Maximum read length of Read 2: 140\n",
            "\n",
            "Perl module GD::Graph::lines is not installed, skipping drawing M-bias plots (only writing out M-bias plot table)\n",
            "Determining maximum read lengths for M-Bias plots\n",
            "Maximum read length of Read 1: 140\n",
            "Maximum read length of Read 2: 140\n",
            "\n",
            "Perl module GD::Graph::lines is not installed, skipping drawing M-bias plots (only writing out M-bias plot table)\n",
            "Deleting unused files ...\n",
            "\n",
            "CpG_OT_s_8_cell.deduplicated.txt.gz contains data ->\tkept\n",
            "CpG_CTOT_s_8_cell.deduplicated.txt.gz was empty ->\tdeleted\n",
            "CpG_CTOB_s_8_cell.deduplicated.txt.gz was empty ->\tdeleted\n",
            "CpG_OB_s_8_cell.deduplicated.txt.gz contains data ->\tkept\n",
            "CHG_OT_s_8_cell.deduplicated.txt.gz contains data ->\tkept\n",
            "CHG_CTOT_s_8_cell.deduplicated.txt.gz was empty ->\tdeleted\n",
            "CHG_CTOB_s_8_cell.deduplicated.txt.gz was empty ->\tdeleted\n",
            "CHG_OB_s_8_cell.deduplicated.txt.gz contains data ->\tkept\n",
            "CHH_OT_s_8_cell.deduplicated.txt.gz contains data ->\tkept\n",
            "CHH_CTOT_s_8_cell.deduplicated.txt.gz was empty ->\tdeleted\n",
            "CHH_CTOB_s_8_cell.deduplicated.txt.gz was empty ->\tdeleted\n",
            "CHH_OB_s_8_cell.deduplicated.txt.gz contains data ->\tkept\n",
            "\n",
            "\n",
            "Using these input files: CpG_OT_s_8_cell.deduplicated.txt.gz CpG_OB_s_8_cell.deduplicated.txt.gz CHG_OT_s_8_cell.deduplicated.txt.gz CHG_OB_s_8_cell.deduplicated.txt.gz CHH_OT_s_8_cell.deduplicated.txt.gz CHH_OB_s_8_cell.deduplicated.txt.gz\n",
            "\n",
            "Summary of parameters for bismark2bedGraph conversion:\n",
            "======================================================\n",
            "bedGraph output:\t\ts_8_cell.deduplicated.bedGraph.gz\n",
            "output directory:\t\t><\n",
            "remove whitespaces:\t\tno\n",
            "CX context:\t\t\tno (CpG context only, default)\n",
            "No-header selected:\t\tno\n",
            "Sorting method:\t\t\tUnix sort-based (smaller memory footprint, but slower)\n",
            "Sort buffer size:\t\t2G\n",
            "Coverage threshold:\t\t1\n",
            "=============================================================================\n",
            "Methylation information will now be written into a bedGraph and coverage file\n",
            "=============================================================================\n",
            "\n",
            "Using the following files as Input:\n",
            "/content/CpG_OT_s_8_cell.deduplicated.txt.gz\t/content/CpG_OB_s_8_cell.deduplicated.txt.gz\n",
            "\n",
            "Writing bedGraph to file: s_8_cell.deduplicated.bedGraph.gz\n",
            "Also writing out a coverage file including counts methylated and unmethylated residues to file: s_8_cell.deduplicated.bismark.cov.gz\n",
            "\n",
            "Now writing methylation information for file >>CpG_OT_s_8_cell.deduplicated.txt.gz<< to individual files for each chromosome\n",
            "Finished writing out individual chromosome files for CpG_OT_s_8_cell.deduplicated.txt.gz\n",
            "Now writing methylation information for file >>CpG_OB_s_8_cell.deduplicated.txt.gz<< to individual files for each chromosome\n",
            "Finished writing out individual chromosome files for CpG_OB_s_8_cell.deduplicated.txt.gz\n",
            "\n",
            "Collecting temporary chromosome file information... Processing the following input file(s):\n",
            "CpG_OT_s_8_cell.deduplicated.txt.gz.chrchr11.methXtractor.temp\n",
            "\n",
            "Sorting input file CpG_OT_s_8_cell.deduplicated.txt.gz.chrchr11.methXtractor.temp by positions (using -S of 2G)\n",
            "tcmalloc: large alloc 2147491840 bytes == 0x5556297f0000 @  0x7fa0c12371e7 0x555627ccb718 0x555627cca5a1 0x7fa0c0c15bf7 0x555627ccb02a\n",
            "Successfully deleted the temporary input file CpG_OT_s_8_cell.deduplicated.txt.gz.chrchr11.methXtractor.temp\n",
            "\n",
            "Finished BedGraph conversion ...\n",
            "\n",
            "Summary of parameters for genome-wide cytosine report:\n",
            "==============================================================================\n",
            "Coverage infile:\t\t\t\ts_8_cell.deduplicated.bismark.cov.gz\n",
            "Output directory:\t\t\t\t><\n",
            "Parent directory:\t\t\t\t>/content/<\n",
            "Genome directory:\t\t\t\t>/content/mouse_chr/<\n",
            "Coverage threshold\t\t\t\t0 (all positions will be reported, default)\n",
            "CX context:\t\t\t\t\tno (CpG context only, default)\n",
            "Genome coordinates used:\t\t\t1-based (default)\n",
            "GZIP compression:\t\t\t\tyes\n",
            "Split by chromosome:\t\t\t\tno\n",
            "\n",
            "\n",
            "Now reading in and storing sequence information of the genome specified in: /content/mouse_chr/\n",
            "\n",
            "chr chr11 (122082543 bp)\n",
            "\n",
            "Stored sequence information of 1 chromosomes/scaffolds in total\n",
            "\n",
            "==============================================================================\n",
            "Methylation information will now be written into a genome-wide cytosine report\n",
            "==============================================================================\n",
            "\n",
            "Adding context-specific methylation summaries\n",
            "\n",
            ">>> Writing genome-wide cytosine report to: s_8_cell.deduplicated.CpG_report.txt.gz <<<\n",
            "\n",
            ">>> Writing all cytosine context summary file to: s_8_cell.deduplicated.cytosine_context_summary.txt <<<\n",
            "\n",
            "Storing all covered cytosine positions for chromosome: chr11\n",
            "Writing cytosine report for last chromosome chr11 (stored 1736778 different covered positions)\n",
            "Finished writing out cytosine report for covered chromosomes (processed 1 chromosomes/scaffolds in total)\n",
            "\n",
            "Now processing chromosomes that were not covered by any methylation calls in the coverage file...\n",
            "All chromosomes in the genome were covered by at least some reads. coverage2cytosine processing complete.\n",
            "\n",
            "\n",
            "\n",
            "Finished generating genome-wide cytosine report\n",
            "\n"
          ]
        }
      ],
      "source": [
        "! bismark_methylation_extractor --gzip --bedGraph --cytosine_report --genome_folder ./mouse_chr s_8_cell.deduplicated.bam"
      ]
    },
    {
      "cell_type": "code",
      "execution_count": null,
      "metadata": {
        "colab": {
          "base_uri": "https://localhost:8080/"
        },
        "id": "iNwzMUeAkQ4f",
        "outputId": "60db20c5-d3a0-4f8b-a7f9-54ddf0244fad"
      },
      "outputs": [
        {
          "name": "stdout",
          "output_type": "stream",
          "text": [
            "total 2.4G\n",
            "-rw-r--r-- 1 root root  47M Feb 14 09:31 CHG_OB_s_8_cell.deduplicated.txt.gz\n",
            "-rw-r--r-- 1 root root  47M Feb 14 09:31 CHG_OT_s_8_cell.deduplicated.txt.gz\n",
            "-rw-r--r-- 1 root root 127M Feb 14 09:31 CHH_OB_s_8_cell.deduplicated.txt.gz\n",
            "-rw-r--r-- 1 root root 126M Feb 14 09:31 CHH_OT_s_8_cell.deduplicated.txt.gz\n",
            "-rw-r--r-- 1 root root  13K Feb 14 08:55 condacolab_install.log\n",
            "-rw-r--r-- 1 root root  15M Feb 14 09:31 CpG_OB_s_8_cell.deduplicated.txt.gz\n",
            "-rw-r--r-- 1 root root  15M Feb 14 09:31 CpG_OT_s_8_cell.deduplicated.txt.gz\n",
            "drwxr-xr-x 3 root root 4.0K Feb  3 06:58 mouse_chr\n",
            "-rw------- 1 root root 349M Feb 14 09:12 mouse_chr.zip\n",
            "-rw-r--r-- 1 root root 528M Feb 14 09:07 s_8_cell.deduplicated.bam\n",
            "-rw-r--r-- 1 root root 9.8M Feb 14 09:31 s_8_cell.deduplicated.bedGraph.gz\n",
            "-rw-r--r-- 1 root root 9.4M Feb 14 09:31 s_8_cell.deduplicated.bismark.cov.gz\n",
            "-rw-r--r-- 1 root root 9.9M Feb 14 09:35 s_8_cell.deduplicated.CpG_report.txt.gz\n",
            "-rw-r--r-- 1 root root 1.6K Feb 14 09:35 s_8_cell.deduplicated.cytosine_context_summary.txt\n",
            "-rw-r--r-- 1 root root  22K Feb 14 09:31 s_8_cell.deduplicated.M-bias.txt\n",
            "-rw-r--r-- 1 root root  840 Feb 14 09:31 s_8_cell.deduplicated_splitting_report.txt\n",
            "drwxr-xr-x 1 root root 4.0K Feb  1 14:32 sample_data\n",
            "-rw-r--r-- 1 root root 524M Feb 14 09:01 sorted_8cell.bam\n",
            "-rw-r--r-- 1 root root 199K Feb 14 09:04 sorted_8cell.bam.bai\n",
            "-rw------- 1 root root 636M Feb 14 08:57 SRR5836473_1_bismark_bt2_pe.bam\n",
            "-rw-r--r-- 1 root root  283 Feb 14 09:07 SRR5836473_1_bismark_bt2_pe.deduplication_report.txt\n",
            "-rw------- 1 root root 1.9K Feb 14 08:58 SRR5836473_1_bismark_bt2_PE_report.txt\n"
          ]
        }
      ],
      "source": [
        "! ls -lh"
      ]
    },
    {
      "cell_type": "markdown",
      "metadata": {
        "id": "1yuRuud-mMK-"
      },
      "source": []
    },
    {
      "cell_type": "code",
      "execution_count": null,
      "metadata": {
        "colab": {
          "base_uri": "https://localhost:8080/"
        },
        "id": "6RQ7FwM-UsSi",
        "outputId": "ed894d64-917a-41f4-8ede-b4eb095376f6"
      },
      "outputs": [
        {
          "name": "stdout",
          "output_type": "stream",
          "text": [
            "Found 1 alignment reports in current directory. Now trying to figure out whether there are corresponding optional reports\n",
            "\n",
            "Writing Bismark HTML report to >> SRR5836473_1_bismark_bt2_PE_report.html <<\n",
            "\n",
            "==============================================================================================================\n",
            "Using the following alignment report:\t\t> SRR5836473_1_bismark_bt2_PE_report.txt <\n",
            "Processing alignment report SRR5836473_1_bismark_bt2_PE_report.txt ...\n",
            "Complete\n",
            "\n",
            "Using the following deduplication report:\t> SRR5836473_1_bismark_bt2_pe.deduplication_report.txt <\n",
            "Processing deduplication report SRR5836473_1_bismark_bt2_pe.deduplication_report.txt ...\n",
            "Complete\n",
            "\n",
            "No splitting report file specified, skipping this step\n",
            "Using the following M-bias report:\t\t> s_8_cell.deduplicated.M-bias.txt <\n",
            "Processing M-bias report s_8_cell.deduplicated.M-bias.txt ...\n",
            "Complete\n",
            "\n",
            "No nucleotide coverage report file specified, skipping this step\n",
            "==============================================================================================================\n",
            "\n",
            "\n"
          ]
        }
      ],
      "source": [
        "! bismark2report -mbias_report s_8_cell.deduplicated.M-bias.txt\n"
      ]
    },
    {
      "cell_type": "code",
      "execution_count": null,
      "metadata": {
        "colab": {
          "base_uri": "https://localhost:8080/"
        },
        "id": "tI5AUYTPliqA",
        "outputId": "ce78ad41-7453-4bba-c532-94e4abedd673"
      },
      "outputs": [
        {
          "name": "stdout",
          "output_type": "stream",
          "text": [
            "track type=bedGraph\n",
            "chr11\t3100030\t3100031\t50\n",
            "chr11\t3100047\t3100048\t66.6666666666667\n",
            "chr11\t3100048\t3100049\t50\n",
            "chr11\t3100223\t3100224\t87.5\n",
            "chr11\t3100224\t3100225\t53.3333333333333\n",
            "chr11\t3100285\t3100286\t66.6666666666667\n",
            "chr11\t3100286\t3100287\t33.3333333333333\n",
            "chr11\t3100309\t3100310\t62.5\n",
            "chr11\t3100310\t3100311\t50\n"
          ]
        }
      ],
      "source": [
        "! head s_8_cell.deduplicated.bedGraph"
      ]
    },
    {
      "cell_type": "code",
      "execution_count": null,
      "metadata": {
        "colab": {
          "base_uri": "https://localhost:8080/"
        },
        "id": "fcS724jEncto",
        "outputId": "05a52408-c273-4d86-8068-da898f23c4ca"
      },
      "outputs": [
        {
          "name": "stdout",
          "output_type": "stream",
          "text": [
            "chr11\t3100031\t3100031\t50\t1\t1\n",
            "chr11\t3100048\t3100048\t66.6666666666667\t2\t1\n",
            "chr11\t3100049\t3100049\t50\t1\t1\n",
            "chr11\t3100224\t3100224\t87.5\t7\t1\n",
            "chr11\t3100225\t3100225\t53.3333333333333\t8\t7\n",
            "chr11\t3100286\t3100286\t66.6666666666667\t6\t3\n",
            "chr11\t3100287\t3100287\t33.3333333333333\t5\t10\n",
            "chr11\t3100310\t3100310\t62.5\t5\t3\n",
            "chr11\t3100311\t3100311\t50\t7\t7\n",
            "chr11\t3100349\t3100349\t55.5555555555556\t5\t4\n"
          ]
        }
      ],
      "source": [
        "! head s_8_cell.deduplicated.bismark.cov"
      ]
    },
    {
      "cell_type": "code",
      "execution_count": null,
      "metadata": {
        "colab": {
          "base_uri": "https://localhost:8080/"
        },
        "id": "b6k9REsM6NXn",
        "outputId": "31c935ba-fab9-402c-bec7-0ccbecdb48eb"
      },
      "outputs": [
        {
          "name": "stdout",
          "output_type": "stream",
          "text": [
            "Requirement already satisfied: pyGenomeTracks in /usr/local/lib/python3.7/site-packages (3.6)\n",
            "Requirement already satisfied: matplotlib<=3.3.2,>=3.1.1 in /usr/local/lib/python3.7/site-packages (from pyGenomeTracks) (3.3.2)\n",
            "Requirement already satisfied: tqdm>=4.20 in /usr/local/lib/python3.7/site-packages (from pyGenomeTracks) (4.59.0)\n",
            "Requirement already satisfied: future>=0.17.0 in /usr/local/lib/python3.7/site-packages (from pyGenomeTracks) (0.18.2)\n",
            "Requirement already satisfied: pytest in /usr/local/lib/python3.7/site-packages (from pyGenomeTracks) (6.2.5)\n",
            "Requirement already satisfied: numpy>=1.16 in /usr/local/lib/python3.7/site-packages (from pyGenomeTracks) (1.21.5)\n",
            "Requirement already satisfied: pybedtools>=0.8.1 in /usr/local/lib/python3.7/site-packages (from pyGenomeTracks) (0.9.0)\n",
            "Requirement already satisfied: intervaltree>=2.1.0 in /usr/local/lib/python3.7/site-packages (from pyGenomeTracks) (3.1.0)\n",
            "Requirement already satisfied: pysam>=0.14 in /usr/local/lib/python3.7/site-packages (from pyGenomeTracks) (0.18.0)\n",
            "Requirement already satisfied: hicmatrix>=15 in /usr/local/lib/python3.7/site-packages (from pyGenomeTracks) (15)\n",
            "Requirement already satisfied: gffutils>=0.9 in /usr/local/lib/python3.7/site-packages (from pyGenomeTracks) (0.10.1)\n",
            "Requirement already satisfied: pyBigWig>=0.3.16 in /usr/local/lib/python3.7/site-packages (from pyGenomeTracks) (0.3.18)\n",
            "Requirement already satisfied: simplejson in /usr/local/lib/python3.7/site-packages (from gffutils>=0.9->pyGenomeTracks) (3.17.6)\n",
            "Requirement already satisfied: argcomplete>=1.9.4 in /usr/local/lib/python3.7/site-packages (from gffutils>=0.9->pyGenomeTracks) (2.0.0)\n",
            "Requirement already satisfied: pyfaidx>=0.5.5.2 in /usr/local/lib/python3.7/site-packages (from gffutils>=0.9->pyGenomeTracks) (0.6.4)\n",
            "Requirement already satisfied: six>=1.12.0 in /usr/local/lib/python3.7/site-packages (from gffutils>=0.9->pyGenomeTracks) (1.15.0)\n",
            "Requirement already satisfied: argh>=0.26.2 in /usr/local/lib/python3.7/site-packages (from gffutils>=0.9->pyGenomeTracks) (0.26.2)\n",
            "Requirement already satisfied: importlib-metadata<5,>=0.23 in /usr/local/lib/python3.7/site-packages (from argcomplete>=1.9.4->gffutils>=0.9->pyGenomeTracks) (4.10.1)\n",
            "Requirement already satisfied: tables>=3.5.* in /usr/local/lib/python3.7/site-packages (from hicmatrix>=15->pyGenomeTracks) (3.7.0)\n",
            "Requirement already satisfied: scipy>=1.2.* in /usr/local/lib/python3.7/site-packages (from hicmatrix>=15->pyGenomeTracks) (1.7.3)\n",
            "Requirement already satisfied: cooler>=0.8.9 in /usr/local/lib/python3.7/site-packages (from hicmatrix>=15->pyGenomeTracks) (0.8.11)\n",
            "Requirement already satisfied: pandas>=0.25.* in /usr/local/lib/python3.7/site-packages (from hicmatrix>=15->pyGenomeTracks) (1.3.5)\n",
            "Requirement already satisfied: asciitree in /usr/local/lib/python3.7/site-packages (from cooler>=0.8.9->hicmatrix>=15->pyGenomeTracks) (0.3.3)\n",
            "Requirement already satisfied: multiprocess in /usr/local/lib/python3.7/site-packages (from cooler>=0.8.9->hicmatrix>=15->pyGenomeTracks) (0.70.12.2)\n",
            "Requirement already satisfied: pypairix in /usr/local/lib/python3.7/site-packages (from cooler>=0.8.9->hicmatrix>=15->pyGenomeTracks) (0.3.7)\n",
            "Requirement already satisfied: h5py>=2.5 in /usr/local/lib/python3.7/site-packages (from cooler>=0.8.9->hicmatrix>=15->pyGenomeTracks) (3.6.0)\n",
            "Requirement already satisfied: click>=7 in /usr/local/lib/python3.7/site-packages (from cooler>=0.8.9->hicmatrix>=15->pyGenomeTracks) (8.0.3)\n",
            "Requirement already satisfied: cytoolz<0.11 in /usr/local/lib/python3.7/site-packages (from cooler>=0.8.9->hicmatrix>=15->pyGenomeTracks) (0.10.1)\n",
            "Requirement already satisfied: pyyaml in /usr/local/lib/python3.7/site-packages (from cooler>=0.8.9->hicmatrix>=15->pyGenomeTracks) (6.0)\n",
            "Requirement already satisfied: toolz>=0.8.0 in /usr/local/lib/python3.7/site-packages (from cytoolz<0.11->cooler>=0.8.9->hicmatrix>=15->pyGenomeTracks) (0.11.2)\n",
            "Requirement already satisfied: cached-property in /usr/local/lib/python3.7/site-packages (from h5py>=2.5->cooler>=0.8.9->hicmatrix>=15->pyGenomeTracks) (1.5.2)\n",
            "Requirement already satisfied: typing-extensions>=3.6.4 in /usr/local/lib/python3.7/site-packages (from importlib-metadata<5,>=0.23->argcomplete>=1.9.4->gffutils>=0.9->pyGenomeTracks) (4.0.1)\n",
            "Requirement already satisfied: zipp>=0.5 in /usr/local/lib/python3.7/site-packages (from importlib-metadata<5,>=0.23->argcomplete>=1.9.4->gffutils>=0.9->pyGenomeTracks) (3.7.0)\n",
            "Requirement already satisfied: sortedcontainers<3.0,>=2.0 in /usr/local/lib/python3.7/site-packages (from intervaltree>=2.1.0->pyGenomeTracks) (2.4.0)\n",
            "Requirement already satisfied: certifi>=2020.06.20 in /usr/local/lib/python3.7/site-packages (from matplotlib<=3.3.2,>=3.1.1->pyGenomeTracks) (2021.10.8)\n",
            "Requirement already satisfied: pyparsing!=2.0.4,!=2.1.2,!=2.1.6,>=2.0.3 in /usr/local/lib/python3.7/site-packages (from matplotlib<=3.3.2,>=3.1.1->pyGenomeTracks) (3.0.7)\n",
            "Requirement already satisfied: python-dateutil>=2.1 in /usr/local/lib/python3.7/site-packages (from matplotlib<=3.3.2,>=3.1.1->pyGenomeTracks) (2.8.2)\n",
            "Requirement already satisfied: cycler>=0.10 in /usr/local/lib/python3.7/site-packages (from matplotlib<=3.3.2,>=3.1.1->pyGenomeTracks) (0.11.0)\n",
            "Requirement already satisfied: pillow>=6.2.0 in /usr/local/lib/python3.7/site-packages (from matplotlib<=3.3.2,>=3.1.1->pyGenomeTracks) (9.0.1)\n",
            "Requirement already satisfied: kiwisolver>=1.0.1 in /usr/local/lib/python3.7/site-packages (from matplotlib<=3.3.2,>=3.1.1->pyGenomeTracks) (1.3.2)\n",
            "Requirement already satisfied: pytz>=2017.3 in /usr/local/lib/python3.7/site-packages (from pandas>=0.25.*->hicmatrix>=15->pyGenomeTracks) (2021.3)\n",
            "Requirement already satisfied: setuptools>=0.7 in /usr/local/lib/python3.7/site-packages (from pyfaidx>=0.5.5.2->gffutils>=0.9->pyGenomeTracks) (49.6.0.post20210108)\n",
            "Requirement already satisfied: numexpr>=2.6.2 in /usr/local/lib/python3.7/site-packages (from tables>=3.5.*->hicmatrix>=15->pyGenomeTracks) (2.8.1)\n",
            "Requirement already satisfied: packaging in /usr/local/lib/python3.7/site-packages (from tables>=3.5.*->hicmatrix>=15->pyGenomeTracks) (21.3)\n",
            "Requirement already satisfied: dill>=0.3.4 in /usr/local/lib/python3.7/site-packages (from multiprocess->cooler>=0.8.9->hicmatrix>=15->pyGenomeTracks) (0.3.4)\n",
            "Requirement already satisfied: pluggy<2.0,>=0.12 in /usr/local/lib/python3.7/site-packages (from pytest->pyGenomeTracks) (1.0.0)\n",
            "Requirement already satisfied: py>=1.8.2 in /usr/local/lib/python3.7/site-packages (from pytest->pyGenomeTracks) (1.11.0)\n",
            "Requirement already satisfied: toml in /usr/local/lib/python3.7/site-packages (from pytest->pyGenomeTracks) (0.10.2)\n",
            "Requirement already satisfied: iniconfig in /usr/local/lib/python3.7/site-packages (from pytest->pyGenomeTracks) (1.1.1)\n",
            "Requirement already satisfied: attrs>=19.2.0 in /usr/local/lib/python3.7/site-packages (from pytest->pyGenomeTracks) (21.4.0)\n"
          ]
        }
      ],
      "source": [
        "! pip install pyGenomeTracks"
      ]
    },
    {
      "cell_type": "code",
      "execution_count": null,
      "metadata": {
        "colab": {
          "base_uri": "https://localhost:8080/",
          "height": 1000
        },
        "id": "fcsJWNmHo1i-",
        "outputId": "e96a1642-abff-46ba-fede-0766677b2143"
      },
      "outputs": [
        {
          "name": "stdout",
          "output_type": "stream",
          "text": [
            "Collecting ipykernel\n",
            "  Downloading ipykernel-6.8.0-py3-none-any.whl (128 kB)\n",
            "\u001b[?25l\r\u001b[K     |██▌                             | 10 kB 20.9 MB/s eta 0:00:01\r\u001b[K     |█████                           | 20 kB 24.6 MB/s eta 0:00:01\r\u001b[K     |███████▋                        | 30 kB 18.4 MB/s eta 0:00:01\r\u001b[K     |██████████▏                     | 40 kB 15.0 MB/s eta 0:00:01\r\u001b[K     |████████████▊                   | 51 kB 8.7 MB/s eta 0:00:01\r\u001b[K     |███████████████▎                | 61 kB 9.4 MB/s eta 0:00:01\r\u001b[K     |█████████████████▉              | 71 kB 8.6 MB/s eta 0:00:01\r\u001b[K     |████████████████████▍           | 81 kB 9.5 MB/s eta 0:00:01\r\u001b[K     |███████████████████████         | 92 kB 10.1 MB/s eta 0:00:01\r\u001b[K     |█████████████████████████▌      | 102 kB 8.3 MB/s eta 0:00:01\r\u001b[K     |████████████████████████████    | 112 kB 8.3 MB/s eta 0:00:01\r\u001b[K     |██████████████████████████████▋ | 122 kB 8.3 MB/s eta 0:00:01\r\u001b[K     |████████████████████████████████| 128 kB 8.3 MB/s \n",
            "\u001b[?25hCollecting nest-asyncio\n",
            "  Downloading nest_asyncio-1.5.4-py3-none-any.whl (5.1 kB)\n",
            "Collecting matplotlib-inline<0.2.0,>=0.1.0\n",
            "  Downloading matplotlib_inline-0.1.3-py3-none-any.whl (8.2 kB)\n",
            "Collecting tornado<7.0,>=4.2\n",
            "  Downloading tornado-6.1-cp37-cp37m-manylinux2010_x86_64.whl (428 kB)\n",
            "\u001b[K     |████████████████████████████████| 428 kB 50.9 MB/s \n",
            "\u001b[?25hCollecting debugpy<2.0,>=1.0.0\n",
            "  Downloading debugpy-1.5.1-cp37-cp37m-manylinux_2_5_x86_64.manylinux1_x86_64.manylinux_2_12_x86_64.manylinux2010_x86_64.whl (1.9 MB)\n",
            "\u001b[K     |████████████████████████████████| 1.9 MB 51.5 MB/s \n",
            "\u001b[?25hCollecting jupyter-client<8.0\n",
            "  Downloading jupyter_client-7.1.2-py3-none-any.whl (130 kB)\n",
            "\u001b[K     |████████████████████████████████| 130 kB 54.6 MB/s \n",
            "\u001b[?25hCollecting ipython>=7.23.1\n",
            "  Downloading ipython-7.31.1-py3-none-any.whl (792 kB)\n",
            "\u001b[K     |████████████████████████████████| 792 kB 53.2 MB/s \n",
            "\u001b[?25hCollecting traitlets<6.0,>=5.1.0\n",
            "  Downloading traitlets-5.1.1-py3-none-any.whl (102 kB)\n",
            "\u001b[K     |████████████████████████████████| 102 kB 12.1 MB/s \n",
            "\u001b[?25hCollecting prompt-toolkit!=3.0.0,!=3.0.1,<3.1.0,>=2.0.0\n",
            "  Downloading prompt_toolkit-3.0.26-py3-none-any.whl (375 kB)\n",
            "\u001b[K     |████████████████████████████████| 375 kB 54.0 MB/s \n",
            "\u001b[?25hCollecting backcall\n",
            "  Downloading backcall-0.2.0-py2.py3-none-any.whl (11 kB)\n",
            "Collecting decorator\n",
            "  Downloading decorator-5.1.1-py3-none-any.whl (9.1 kB)\n",
            "Collecting jedi>=0.16\n",
            "  Downloading jedi-0.18.1-py2.py3-none-any.whl (1.6 MB)\n",
            "\u001b[K     |████████████████████████████████| 1.6 MB 56.1 MB/s \n",
            "\u001b[?25hRequirement already satisfied: setuptools>=18.5 in /usr/local/lib/python3.7/site-packages (from ipython>=7.23.1->ipykernel) (60.7.0)\n",
            "Collecting pygments\n",
            "  Downloading Pygments-2.11.2-py3-none-any.whl (1.1 MB)\n",
            "\u001b[K     |████████████████████████████████| 1.1 MB 60.1 MB/s \n",
            "\u001b[?25hCollecting pickleshare\n",
            "  Downloading pickleshare-0.7.5-py2.py3-none-any.whl (6.9 kB)\n",
            "Collecting pexpect>4.3\n",
            "  Downloading pexpect-4.8.0-py2.py3-none-any.whl (59 kB)\n",
            "\u001b[K     |████████████████████████████████| 59 kB 6.9 MB/s \n",
            "\u001b[?25hCollecting parso<0.9.0,>=0.8.0\n",
            "  Downloading parso-0.8.3-py2.py3-none-any.whl (100 kB)\n",
            "\u001b[K     |████████████████████████████████| 100 kB 12.3 MB/s \n",
            "\u001b[?25hCollecting pyzmq>=13\n",
            "  Downloading pyzmq-22.3.0-cp37-cp37m-manylinux_2_5_x86_64.manylinux1_x86_64.whl (1.1 MB)\n",
            "\u001b[K     |████████████████████████████████| 1.1 MB 68.4 MB/s \n",
            "\u001b[?25hRequirement already satisfied: python-dateutil>=2.1 in /usr/local/lib/python3.7/site-packages (from jupyter-client<8.0->ipykernel) (2.8.2)\n",
            "Collecting entrypoints\n",
            "  Downloading entrypoints-0.4-py3-none-any.whl (5.3 kB)\n",
            "Collecting jupyter-core>=4.6.0\n",
            "  Downloading jupyter_core-4.9.1-py3-none-any.whl (86 kB)\n",
            "\u001b[K     |████████████████████████████████| 86 kB 6.2 MB/s \n",
            "\u001b[?25hCollecting ptyprocess>=0.5\n",
            "  Downloading ptyprocess-0.7.0-py2.py3-none-any.whl (13 kB)\n",
            "Collecting wcwidth\n",
            "  Downloading wcwidth-0.2.5-py2.py3-none-any.whl (30 kB)\n",
            "Requirement already satisfied: six>=1.5 in /usr/local/lib/python3.7/site-packages (from python-dateutil>=2.1->jupyter-client<8.0->ipykernel) (1.16.0)\n",
            "Installing collected packages: wcwidth, traitlets, ptyprocess, parso, tornado, pyzmq, pygments, prompt-toolkit, pickleshare, pexpect, nest-asyncio, matplotlib-inline, jupyter-core, jedi, entrypoints, decorator, backcall, jupyter-client, ipython, debugpy, ipykernel\n",
            "Successfully installed backcall-0.2.0 debugpy-1.5.1 decorator-5.1.1 entrypoints-0.4 ipykernel-6.8.0 ipython-7.31.1 jedi-0.18.1 jupyter-client-7.1.2 jupyter-core-4.9.1 matplotlib-inline-0.1.3 nest-asyncio-1.5.4 parso-0.8.3 pexpect-4.8.0 pickleshare-0.7.5 prompt-toolkit-3.0.26 ptyprocess-0.7.0 pygments-2.11.2 pyzmq-22.3.0 tornado-6.1 traitlets-5.1.1 wcwidth-0.2.5\n"
          ]
        },
        {
          "data": {
            "application/vnd.colab-display-data+json": {
              "pip_warning": {
                "packages": [
                  "jupyter_core",
                  "pexpect",
                  "pickleshare",
                  "traitlets",
                  "wcwidth",
                  "zmq"
                ]
              }
            }
          },
          "metadata": {},
          "output_type": "display_data"
        }
      ],
      "source": [
        "!pip install -U ipykernel\n"
      ]
    },
    {
      "cell_type": "code",
      "execution_count": null,
      "metadata": {
        "colab": {
          "base_uri": "https://localhost:8080/"
        },
        "id": "UhIKyKz_t7yy",
        "outputId": "607dfac5-3f6d-4ee7-97b2-a68677691a06"
      },
      "outputs": [
        {
          "name": "stdout",
          "output_type": "stream",
          "text": [
            "Collecting package metadata (current_repodata.json): - \b\b\\ \b\b| \b\b/ \b\b- \b\b\\ \b\b| \b\b/ \b\b- \b\b\\ \b\b| \b\b/ \b\b- \b\b\\ \b\b| \b\b/ \b\b- \b\b\\ \b\b| \b\b/ \b\b- \b\b\\ \b\b| \b\b/ \b\b- \b\b\\ \b\b| \b\b/ \b\b- \b\b\\ \b\bdone\n",
            "Solving environment: / \b\b- \b\b\\ \b\b| \b\b/ \b\b- \b\b\\ \b\b| \b\b/ \b\b- \b\b\\ \b\b| \b\b/ \b\bdone\n",
            "\n",
            "## Package Plan ##\n",
            "\n",
            "  environment location: /usr/local\n",
            "\n",
            "  added / updated specs:\n",
            "    - ucsc-fetchchromsizes\n",
            "\n",
            "\n",
            "The following packages will be downloaded:\n",
            "\n",
            "    package                    |            build\n",
            "    ---------------------------|-----------------\n",
            "    ucsc-fetchchromsizes-377   |       ha8a8165_3           8 KB  bioconda\n",
            "    ------------------------------------------------------------\n",
            "                                           Total:           8 KB\n",
            "\n",
            "The following NEW packages will be INSTALLED:\n",
            "\n",
            "  ucsc-fetchchromsi~ bioconda/linux-64::ucsc-fetchchromsizes-377-ha8a8165_3\n",
            "\n",
            "\n",
            "\n",
            "Downloading and Extracting Packages\n",
            "ucsc-fetchchromsizes | 8 KB      | : 100% 1.0/1 [00:00<00:00,  4.60it/s]\n",
            "Preparing transaction: \\ \b\bdone\n",
            "Verifying transaction: / \b\bdone\n",
            "Executing transaction: \\ \b\bdone\n"
          ]
        }
      ],
      "source": [
        "! conda install -c bioconda ucsc-fetchchromsizes"
      ]
    },
    {
      "cell_type": "code",
      "execution_count": null,
      "metadata": {
        "colab": {
          "base_uri": "https://localhost:8080/"
        },
        "id": "LZpspVUvt4EY",
        "outputId": "343d4ea5-ebce-42e2-dc7a-356cb3c96be9"
      },
      "outputs": [
        {
          "name": "stdout",
          "output_type": "stream",
          "text": [
            "INFO: trying CURL  for database mm10\n",
            "url: http://hgdownload.soe.ucsc.edu/goldenPath/mm10/bigZips/mm10.chrom.sizes\n"
          ]
        }
      ],
      "source": [
        "! fetchChromSizes mm10 > m.chrom.sizes"
      ]
    },
    {
      "cell_type": "code",
      "execution_count": null,
      "metadata": {
        "colab": {
          "base_uri": "https://localhost:8080/"
        },
        "id": "svn9iAuGtVxX",
        "outputId": "d743482d-07bf-4f24-fd49-cc3b4a264d96"
      },
      "outputs": [
        {
          "name": "stdout",
          "output_type": "stream",
          "text": [
            "Collecting package metadata (current_repodata.json): - \b\b\\ \b\b| \b\b/ \b\b- \b\b\\ \b\b| \b\b/ \b\b- \b\b\\ \b\b| \b\b/ \b\b- \b\b\\ \b\b| \b\b/ \b\b- \b\b\\ \b\b| \b\bdone\n",
            "Solving environment: - \b\b\\ \b\b| \b\b/ \b\b- \b\b\\ \b\b| \b\b/ \b\b- \b\b\\ \b\b| \b\b/ \b\b- \b\b\\ \b\b| \b\b/ \b\bdone\n",
            "\n",
            "## Package Plan ##\n",
            "\n",
            "  environment location: /usr/local\n",
            "\n",
            "  added / updated specs:\n",
            "    - ucsc-bedgraphtobigwig\n",
            "\n",
            "\n",
            "The following packages will be downloaded:\n",
            "\n",
            "    package                    |            build\n",
            "    ---------------------------|-----------------\n",
            "    libuuid-2.32.1             |    h7f98852_1000          28 KB  conda-forge\n",
            "    mysql-connector-c-6.1.11   |    h6eb9d5d_1007         2.7 MB  conda-forge\n",
            "    ucsc-bedgraphtobigwig-377  |       ha8a8165_3         155 KB  bioconda\n",
            "    ------------------------------------------------------------\n",
            "                                           Total:         2.8 MB\n",
            "\n",
            "The following NEW packages will be INSTALLED:\n",
            "\n",
            "  libpng             conda-forge/linux-64::libpng-1.6.37-h21135ba_2\n",
            "  libuuid            conda-forge/linux-64::libuuid-2.32.1-h7f98852_1000\n",
            "  mysql-connector-c  conda-forge/linux-64::mysql-connector-c-6.1.11-h6eb9d5d_1007\n",
            "  ucsc-bedgraphtobi~ bioconda/linux-64::ucsc-bedgraphtobigwig-377-ha8a8165_3\n",
            "\n",
            "\n",
            "\n",
            "Downloading and Extracting Packages\n",
            "libuuid-2.32.1       | 28 KB     | : 100% 1.0/1 [00:00<00:00,  6.53it/s]              \n",
            "ucsc-bedgraphtobigwi | 155 KB    | : 100% 1.0/1 [00:00<00:00,  9.37it/s]\n",
            "mysql-connector-c-6. | 2.7 MB    | : 100% 1.0/1 [00:00<00:00,  1.88it/s]               \n",
            "Preparing transaction: \\ \b\bdone\n",
            "Verifying transaction: / \b\b- \b\bdone\n",
            "Executing transaction: | \b\bdone\n"
          ]
        }
      ],
      "source": [
        "! conda install -c bioconda ucsc-bedgraphtobigwig"
      ]
    },
    {
      "cell_type": "code",
      "execution_count": null,
      "metadata": {
        "id": "rh0ba_Y_tcq5"
      },
      "outputs": [],
      "source": [
        "! bedGraphToBigWig  s_8_cell.deduplicated.bedGraph m.chrom.sizes cell8_methylation.bigWig"
      ]
    },
    {
      "cell_type": "code",
      "execution_count": null,
      "metadata": {
        "colab": {
          "base_uri": "https://localhost:8080/"
        },
        "id": "qofYnYciunf8",
        "outputId": "cad6d289-ceaf-48bf-be19-6715b8a6155d"
      },
      "outputs": [
        {
          "name": "stdout",
          "output_type": "stream",
          "text": [
            "track type=bedGraph\n",
            "chr11\t3100030\t3100031\t50\n",
            "chr11\t3100047\t3100048\t66.6666666666667\n",
            "chr11\t3100048\t3100049\t50\n",
            "chr11\t3100223\t3100224\t87.5\n",
            "chr11\t3100224\t3100225\t53.3333333333333\n",
            "chr11\t3100285\t3100286\t66.6666666666667\n",
            "chr11\t3100286\t3100287\t33.3333333333333\n",
            "chr11\t3100309\t3100310\t62.5\n",
            "chr11\t3100310\t3100311\t50\n"
          ]
        }
      ],
      "source": [
        "! head s_8_cell.deduplicated.bedGraph"
      ]
    },
    {
      "cell_type": "code",
      "execution_count": null,
      "metadata": {
        "colab": {
          "base_uri": "https://localhost:8080/"
        },
        "id": "XEWV8p4ku-Hy",
        "outputId": "596dfae5-029a-4a64-efe0-fc42fdabfc3e"
      },
      "outputs": [
        {
          "name": "stdout",
          "output_type": "stream",
          "text": [
            "Reading package lists... Done\n",
            "Building dependency tree       \n",
            "Reading state information... Done\n",
            "The following packages were automatically installed and are no longer required:\n",
            "  cuda-command-line-tools-10-0 cuda-command-line-tools-10-1\n",
            "  cuda-command-line-tools-11-0 cuda-compiler-10-0 cuda-compiler-10-1\n",
            "  cuda-compiler-11-0 cuda-cuobjdump-10-0 cuda-cuobjdump-10-1\n",
            "  cuda-cuobjdump-11-0 cuda-cupti-10-0 cuda-cupti-10-1 cuda-cupti-11-0\n",
            "  cuda-cupti-dev-11-0 cuda-documentation-10-0 cuda-documentation-10-1\n",
            "  cuda-documentation-11-0 cuda-documentation-11-1 cuda-gdb-10-0 cuda-gdb-10-1\n",
            "  cuda-gdb-11-0 cuda-gpu-library-advisor-10-0 cuda-gpu-library-advisor-10-1\n",
            "  cuda-libraries-10-0 cuda-libraries-10-1 cuda-libraries-11-0\n",
            "  cuda-memcheck-10-0 cuda-memcheck-10-1 cuda-memcheck-11-0 cuda-nsight-10-0\n",
            "  cuda-nsight-10-1 cuda-nsight-11-0 cuda-nsight-11-1 cuda-nsight-compute-10-0\n",
            "  cuda-nsight-compute-10-1 cuda-nsight-compute-11-0 cuda-nsight-compute-11-1\n",
            "  cuda-nsight-systems-10-1 cuda-nsight-systems-11-0 cuda-nsight-systems-11-1\n",
            "  cuda-nvcc-10-0 cuda-nvcc-10-1 cuda-nvcc-11-0 cuda-nvdisasm-10-0\n",
            "  cuda-nvdisasm-10-1 cuda-nvdisasm-11-0 cuda-nvml-dev-10-0 cuda-nvml-dev-10-1\n",
            "  cuda-nvml-dev-11-0 cuda-nvprof-10-0 cuda-nvprof-10-1 cuda-nvprof-11-0\n",
            "  cuda-nvprune-10-0 cuda-nvprune-10-1 cuda-nvprune-11-0 cuda-nvtx-10-0\n",
            "  cuda-nvtx-10-1 cuda-nvtx-11-0 cuda-nvvp-10-0 cuda-nvvp-10-1 cuda-nvvp-11-0\n",
            "  cuda-nvvp-11-1 cuda-samples-10-0 cuda-samples-10-1 cuda-samples-11-0\n",
            "  cuda-samples-11-1 cuda-sanitizer-11-0 cuda-sanitizer-api-10-1\n",
            "  cuda-toolkit-10-0 cuda-toolkit-10-1 cuda-toolkit-11-0 cuda-toolkit-11-1\n",
            "  cuda-tools-10-0 cuda-tools-10-1 cuda-tools-11-0 cuda-tools-11-1\n",
            "  cuda-visual-tools-10-0 cuda-visual-tools-10-1 cuda-visual-tools-11-0\n",
            "  cuda-visual-tools-11-1 default-jre dkms freeglut3 freeglut3-dev\n",
            "  keyboard-configuration libargon2-0 libcap2 libcryptsetup12\n",
            "  libdevmapper1.02.1 libfontenc1 libidn11 libip4tc0 libjansson4\n",
            "  libnvidia-cfg1-510 libnvidia-common-460 libnvidia-common-510\n",
            "  libnvidia-extra-510 libnvidia-fbc1-510 libnvidia-gl-510 libpam-systemd\n",
            "  libpolkit-agent-1-0 libpolkit-backend-1-0 libpolkit-gobject-1-0 libxfont2\n",
            "  libxi-dev libxkbfile1 libxmu-dev libxmu-headers libxnvctrl0 libxtst6\n",
            "  nsight-compute-2020.2.1 nsight-compute-2022.1.0 nsight-systems-2020.3.2\n",
            "  nsight-systems-2020.3.4 nsight-systems-2021.5.2 nvidia-dkms-510\n",
            "  nvidia-kernel-common-510 nvidia-kernel-source-510 nvidia-modprobe\n",
            "  nvidia-settings openjdk-11-jre policykit-1 policykit-1-gnome python3-xkit\n",
            "  screen-resolution-extra systemd systemd-sysv udev x11-xkb-utils\n",
            "  xserver-common xserver-xorg-core-hwe-18.04 xserver-xorg-video-nvidia-510\n",
            "Use 'apt autoremove' to remove them.\n",
            "The following NEW packages will be installed:\n",
            "  bedtools\n",
            "0 upgraded, 1 newly installed, 0 to remove and 39 not upgraded.\n",
            "Need to get 577 kB of archives.\n",
            "After this operation, 2,040 kB of additional disk space will be used.\n",
            "Get:1 http://archive.ubuntu.com/ubuntu bionic/universe amd64 bedtools amd64 2.26.0+dfsg-5 [577 kB]\n",
            "Fetched 577 kB in 1s (489 kB/s)\n",
            "Selecting previously unselected package bedtools.\n",
            "(Reading database ... 155113 files and directories currently installed.)\n",
            "Preparing to unpack .../bedtools_2.26.0+dfsg-5_amd64.deb ...\n",
            "Unpacking bedtools (2.26.0+dfsg-5) ...\n",
            "Setting up bedtools (2.26.0+dfsg-5) ...\n"
          ]
        }
      ],
      "source": [
        "! apt-get install bedtools"
      ]
    },
    {
      "cell_type": "code",
      "execution_count": null,
      "metadata": {
        "id": "ofhSsnSqvBbu"
      },
      "outputs": [],
      "source": [
        "! bedtools genomecov -bg -ibam s_8_cell.deduplicated.bam -g m.chromSizes  >  s_8_cell.cover.bedGraph"
      ]
    },
    {
      "cell_type": "code",
      "execution_count": null,
      "metadata": {
        "id": "RLpT4wFCvr29"
      },
      "outputs": [],
      "source": [
        "! bedGraphToBigWig   s_8_cell.cover.bedGraph m.chrom.sizes cell8_coverage.bigWig"
      ]
    }
  ],
  "metadata": {
    "kernelspec": {
      "display_name": "Python 3",
      "language": "python",
      "name": "python3"
    },
    "language_info": {
      "codemirror_mode": {
        "name": "ipython",
        "version": 3
      },
      "file_extension": ".py",
      "mimetype": "text/x-python",
      "name": "python",
      "nbconvert_exporter": "python",
      "pygments_lexer": "ipython3",
      "version": "3.10.12"
    },
    "orig_nbformat": 4,
    "vscode": {
      "interpreter": {
        "hash": "e7370f93d1d0cde622a1f8e1c04877d8463912d04d973331ad4851f04de6915a"
      }
    }
  },
  "nbformat": 4,
  "nbformat_minor": 2
}
