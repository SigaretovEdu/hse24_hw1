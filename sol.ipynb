{
  "cells": [
    {
      "attachments": {},
      "cell_type": "markdown",
      "metadata": {
        "id": "5l0a7C6JHe40"
      },
      "source": [
        "Установка всех необходимых программ и скачивание файлов"
      ]
    },
    {
      "cell_type": "code",
      "execution_count": 27,
      "metadata": {},
      "outputs": [],
      "source": [
        "! ln -s /usr/share/data-minor-bioinf/WGBS/SRR3824222_1_bismark_bt2_pe.bam SRR3824222_1_bismark_bt2_pe.bam\n",
        "! ln -s /usr/share/data-minor-bioinf/WGBS/SRR5836473_1_bismark_bt2_pe.bam SRR5836473_1_bismark_bt2_pe.bam\n",
        "! ln -s /usr/share/data-minor-bioinf/WGBS/SRR5836475_1_bismark_bt2_pe.bam SRR5836475_1_bismark_bt2_pe.bam"
      ]
    },
    {
      "cell_type": "code",
      "execution_count": null,
      "metadata": {},
      "outputs": [],
      "source": [
        "! ln -s /usr/share/data-minor-bioinf/FastQC/fastqc fastqc\n",
        "! wget https://github.com/FelixKrueger/Bismark/archive/master.zip\n",
        "! unzip master.zip\n",
        "! rm master.zip\n",
        "! ln -s Bismark-master/bismark bismark\n",
        "! ln -s Bismark-master/deduplicate_bismark deduplicate_bismark\n",
        "! ln -s Bismark-master/bismark_methylation_extractor bismark_methylation_extractor\n",
        "! ln -s Bismark-master/bismark2report bismark2report\n",
        "! pip install pyGenomeTracks\n",
        "! wget https://hgdownload.soe.ucsc.edu/admin/exe/linux.x86_64/bedGraphToBigWig\n",
        "! wget https://hgdownload.soe.ucsc.edu/admin/exe/linux.x86_64/fetchChromSizes\n",
        "! chmod +x fetchChromSizes bedGraphToBigWig\n",
        "! wget https://github.com/arq5x/bedtools2/releases/download/v2.31.0/bedtools.static\n",
        "! mv bedtools.static bedtools\n",
        "! chmod +x bedtools\n",
        "! pip install seaborn"
      ]
    },
    {
      "cell_type": "code",
      "execution_count": 3,
      "metadata": {
        "colab": {
          "base_uri": "https://localhost:8080/"
        },
        "id": "yMQy_LQ8xSOP",
        "outputId": "3333c4d9-9158-405a-ab52-67c82dac9e67"
      },
      "outputs": [
        {
          "name": "stdout",
          "output_type": "stream",
          "text": [
            "SRR5836473.41_41_length=140\t99\tchr11\t40076664\t0\t140M\t=\t40076703\t178\tAATTTTTTTGGGGATTGTATTGAATTTGTAGATTGTTTTTGGTAAGAGAGTTATTTTTATTATATTGATTTTGTTAATTTATGAATATGGGAGATTTTTTTATTTTTTGAGATTTTTTTTAATTTTTTTTTTTAGAGATT\tKKKKKKKKKKKKKKKFKKKKKKKKKKKKKKFKKKKKKKKKFKKKKKKKKKFKKKKKKKKKKKKKKKKKKKKKKKKKKKKKKKKKKKKKKKKKKKKKKKKKKKKKKKKKKKKKKKKKKKKKKKKKKKKKKKKKKF7<77FF\tNM:i:28\tMD:Z:6G0A9C7C9C6C4T2C0C7C9C0C2C0C3C0C5C9C3C0C2C2C6C2C8C3C2C5C1\tXM:Z:.................h.......x.........h......h.......hh.......h.........hx..hh...hh.....h.........h...hh..h..x......h..h........h...h..x.....h.\tXR:Z:CT\tXG:Z:CT\n",
            "SRR5836473.41_41_length=140\t147\tchr11\t40076703\t0\t139M\t=\t40076664\t-178\tTGGTAAGAGAGTTATTTTTATTATATTGATTTTGTTAATTTATGAATATGGGAGATTTTTTTATTTTTTGAGATTTTTTTTAATTTTTTTTTTTAGAGATTTGAAGTTTTTATTATATAGATTTTTTATTTTTTTAGTG\tKKKKKAAFFFKKKKKKKKKKKKKFFKKKKKKKKKKFAFKKKKKKKKKKKKKKKKKKKKKKKKKKKKKKFKKKKKKKKKKKKFKKKKKKKKKKKKKKKKKKKKKKKKKKKKKKKKKKKKKKKKKKKKKKKKKKKKKKKKK\tNM:i:31\tMD:Z:3C4T2C0C7C9C0C2C0C3C0C5C9C3C0C2C2C6C2C8C3C2C5C8C4C3A4C3C1C2C6T0\tXM:Z:...h.......hh.......h.........hx..hh...hh.....h.........h...hh..h..x......h..h........h...h..x.....h........h....h........h...h.h..h.......\tXR:Z:GA\tXG:Z:CT\n",
            "SRR5836473.231_231_length=140\t83\tchr11\t48401999\t0\t140M\t=\t48401992\t-147\tACAAATTACTCCTTCTAATTCATTAAAAAATTAAATTAAAATTATAATAAAAATTACATTAAATCTATAAATTACTTTTAACAAAATAACCATTTTTACAATATTAATCCTACCAATCCATAAACACAAAAAAACTTTCC\tKKKKKKKKF<KKKKKKKKKFKKKKKKKKKKFKKKKKKKKKKKKKKKKKKKKKKKKKKKKKKKKKKKKKKKKKKKKKKKKKKKKKKKKKKKKKKKKKKKKKKKKKKKKKKKKKKKKKKKKKKKKFKKKKKKKKKKKKKKKK\tNM:i:34\tMD:Z:0G2G3G13G2G2G4G1G2G0G6G2G0G0G0G3G4G5G2G3G5G0G3G3G13G2G5G9G1G2T1G0G1G1T6\tXM:Z:h..x...h.............z..h..h....h.h..hh......h..hhhh...h....h.....x..h...h.....hh...h...h.............h..h.....x.........h.h....hh.h........\tXR:Z:CT\tXG:Z:GA\n",
            "SRR5836473.231_231_length=140\t163\tchr11\t48401992\t0\t139M\t=\t48401999\t147\tTAAATTTACAAATTACTCCTTCTAATTCATTAAAAAATTAAATTAAAATTATAATAAAAATTACATTAAATCTATAAATTACTTTTAACAAAATAACCATTTTTACAATATTAATCCTACCAATCCATAAACACAAAAA\tFFKFKKKKKKKKKKKKKKKKKKKKKKKKKKKKKKKKKKKKKKKKKKKKKKKKKKKKKKKKKKKKKKKAKFFKKKKKKKKKKKKKKKKFKAF<FF<FKKKKKKKKKKFKKKK<FFKAFF<FKF<FK7AF7A,7<AAF<KF\tNM:i:35\tMD:Z:1G3A1G2G3G13G2G2G4G1G2G0G6G2G0G0G0G3G4G5G2G3G5G0G3G3G13G2G5G9G1G2T1G0G1G0\tXM:Z:.h.....h..x...h.............z..h..h....h.h..hh......h..hhhh...h....h.....x..h...h.....hh...h...h.............h..h.....x.........h.h....hh.h\tXR:Z:GA\tXG:Z:GA\n",
            "SRR5836473.1421_1421_length=140\t99\tchr11\t30560802\t0\t140M\t=\t30560952\t289\tTGTTGAGGGGTATTTGGGTTTTTTTTAGTTTTCGGTTATTATAAATAAGGTTGTTATGAATATAGTGTAGTATGTGTTTTTTTTATTGGTTGGAATATTTTTTGGATATATGTTTAGATGAGGTATTGTGGGATTTTTTG\tKKKKKKKKFKFKKKKKKKFKKKKKFKKKKKAK,FAKKKKKKKKKKKKKKKKKKKKKKKKKKKKKKKKKKKKKKKFKKKKKKKKKKKKKKKKKKAKKKKKKKKKKKKKKKKKKKKKKKKKKKKKAKKKKAFFK<AFKKKKK\tNM:i:30\tMD:Z:10C2C6C3C0C2C2C0T2C9C4C2C6C6G2A6C3C3C0C8C2C2C10C0C0C3A9C5C0C1C2\tXM:Z:..........h..x......h...hx..h..x...h.........h....x..h......h................h...h...xz........h..h..x..........hhx.............z.....hh.x..\tXR:Z:CT\tXG:Z:CT\n",
            "SRR5836473.1421_1421_length=140\t147\tchr11\t30560952\t0\t139M\t=\t30560802\t-289\tGTTTAATTTTTTGAAGAATTGTTAGATTGATTTTTAGAGTGGTTGTAAAAGTTTGTAATTTTATTAATAATGGAGGAGTGTTTTTTTTTTTTTATATTTTTTTTAGTATTTGTTGTTATTTGAATTTTTGATTTTAGTT\t<<<<<<KF<KKKKKFFFKKAA<KAFKFKKKKKKKKKFFFFFFKKKFFAFAAKKKKFKKKKKKKKKKKKKKKKKKKKFKKKKKKKKKKKKKKKKFKKKKKKKKKKKKKKKKKKKKKKKKKKKKFKKKKKKKFKKKKKKFF\tNM:i:41\tMD:Z:2C0C6C3G3C2C0C3C6C0C12C3C3C3C0C0C1C0C2C14C0C1C3C1C0C1C1G0C0C1C0G0C0C2C2C2C3C1C0C12C5C0\tXM:Z:..hh......x.......x..hx...x......hx................h...h...hhh.hh..h..............hh.h...h.hh.x..hh.z.hx..h..x..x...h.hx............h.....h\tXR:Z:GA\tXG:Z:CT\n",
            "SRR5836473.2061_2061_length=140\t99\tchr11\t73270947\t0\t139M\t=\t73270962\t154\tATAAGAGATAGTTATATTAGGGTTTTGTTAGTAAAATTTTGTTGGTATTTGTAGTAGTGTTTGGGTTTGGTGGTTGTTTATGGGATGGATTTATGGGTGGGGTAGTTTTTGGATGGTTTTTTTTTTTATTTTAGTTTTG\tKKKKKKKKKKKFKKKKKKKKKKFKKKKKKKKKKKKKKFKKKKKKKKKKKKKKKKFKKFKKKKKKKKKKKKKKKKKKKKKKKKKKKKKKFFKKKKKKKFKKKK7AFAFKKKKKF7FKKKKKKFKFAKKKKKKKKF7FFKF\tNM:i:31\tMD:Z:1C6C2C5C5C0C3C2C5C3C3C2A2C1A4A1C1A27C0C10C3C1C9C2C0C2C0C2C1C2C1C2\tXM:Z:.h......x..h.....x.....hx...x..h.....h...x...h.....h........h.............................hh..........x...h.x.........h..hh..hh..h.x..h.x..\tXR:Z:CT\tXG:Z:CT\n",
            "SRR5836473.2061_2061_length=140\t147\tchr11\t73270962\t0\t139M\t=\t73270947\t-154\tATTAGGGTTTTGTTAGTAAAATTTTGTTGGTATTTGTAGTAGTGTTTGGGTTTGGTGGTTGTTTATGGGATGGATTTATGGGTGGGGTAGTTTTTGGATGGTTTTTTTTTTTATTTTAGTTTTGAATTTTGTTTTTGTA\tA7<AAAAA77AKKKFKKKFKKKKAKF<KKKFKKFKKFKAAKKKKFKAKKKKKKKFKKKKKKKKKKKKKFKKKKKKKKKKKKKKKKKKKKKKKKKKKKKKKKKKKKKKKKKKKKKKKKKKKKKKKKKKKKKKKKKKKKKK\tNM:i:31\tMD:Z:2C5C0C3C2C5C3C3C2A2C1A4A1C1A27C0C10C3C1C9C2C0C2C0C2C1C2C1C4C5C1C4\tXM:Z:..x.....hx...x..h.....h...x...h.....h........h.............................hh..........x...h.x.........h..hh..hh..h.x..h.x....h.....h.x....\tXR:Z:GA\tXG:Z:CT\n",
            "SRR5836473.3331_3331_length=140\t99\tchr11\t43350802\t40\t140M\t=\t43350876\t214\tTTTTAATGTAAGTTGTATAAGGAGTATAATTAGGTTTAGGTGATGTTGAAAATAATATAATTTTATTTATAAATATTATTATTATTATGATAAAGGGAAAGGTGATTATTTTTAAAAGATTATGATGGTTTGTTGGTAAT\tKKKKKKKKKKKKKKKKKKKKKKKKKKKKKKKKKKKKKKKKKKKKKKKKKKKKKKKKKKKKKKKKKKKKKKKKKKKKKKKKKKKKKKKKKKKKKKKKKKKKKKKKKKKKKKKKKKKKKKKKKKKKKKFKFFKKKKKKKKKF\tNM:i:29\tMD:Z:0C5C1C6C0T0C7G0C3C3C1C23C2C1C0C6C2C1C0C1C23C0C3C0C0C7C7C0C6C3\tXM:Z:h.....z.h......h.h........h...x...h.x.......................h..h.hh......h..h.hh.h.......................hh...hhh.......h.......hx......h...\tXR:Z:CT\tXG:Z:CT\n",
            "SRR5836473.3331_3331_length=140\t147\tchr11\t43350876\t40\t140M\t=\t43350802\t-214\tATTATTATTATTATGATAAAGGGAAAGGTGATTATTTTTAAAAGATTATGATGGTTTGTTGGTAATGTTATTGTTATACGTAGTATGTTTTGGTGTTATTTGGATTTTGTATTTTTTATAGTTTTTTTATTTTGTTAATT\tKFKKKKK<KKKKKFKAKFKKKKKKKKKKKKKKKKKKKKKKKKKKKKKKKFFKKKKKKKKKKKKKKKKKKKKKKKKKKKKKKFKKKKKKKKKKKKKKKKKKKKKKKKKKKKKKKKKKKKKKKKKKKKKKKKKKKKKKKKKK\tNM:i:34\tMD:Z:2C1C0C1C23C0C3C0C0C7C7C0C6C4C2C2C6C2C3C0C7C2C0C3C0C1C1C4C0C11C1C0C4C3C0\tXM:Z:..h.hh.h.......................hh...hhh.......h.......hx......h....h..x..h....Z.x..h...hh.......h..xz...hh.z.h....hh...........h.hh....h...h\tXR:Z:GA\tXG:Z:CT\n",
            "samtools view: writing to standard output failed: Broken pipe\n",
            "samtools view: error closing standard output: -1\n"
          ]
        }
      ],
      "source": [
        "! samtools view SRR5836473_1_bismark_bt2_pe.bam | head"
      ]
    },
    {
      "attachments": {},
      "cell_type": "markdown",
      "metadata": {},
      "source": [
        "Сортируем и индексируем"
      ]
    },
    {
      "cell_type": "code",
      "execution_count": 29,
      "metadata": {},
      "outputs": [
        {
          "name": "stdout",
          "output_type": "stream",
          "text": [
            "[bam_sort_core] merging from 4 files and 1 in-memory blocks...\n",
            "[bam_sort_core] merging from 5 files and 1 in-memory blocks...\n",
            "[bam_sort_core] merging from 9 files and 1 in-memory blocks...\n"
          ]
        }
      ],
      "source": [
        "! samtools sort SRR5836473_1_bismark_bt2_pe.bam -o s8cell.bam\n",
        "! samtools sort SRR5836475_1_bismark_bt2_pe.bam -o sicm.bam\n",
        "! samtools sort SRR3824222_1_bismark_bt2_pe.bam -o sepiblast.bam\n",
        "! samtools index s8cell.bam\n",
        "! samtools index sicm.bam\n",
        "! samtools index sepiblast.bam"
      ]
    },
    {
      "attachments": {},
      "cell_type": "markdown",
      "metadata": {},
      "source": [
        "Сколько закартировалось на регионы 11347700-11367700 и 40185800-40195800"
      ]
    },
    {
      "cell_type": "code",
      "execution_count": 30,
      "metadata": {},
      "outputs": [
        {
          "name": "stdout",
          "output_type": "stream",
          "text": [
            "551\n",
            "194\n"
          ]
        }
      ],
      "source": [
        "! samtools view s8cell.bam chr11:11347700-11367700 | cut -f1 | sort -u | wc -l\n",
        "! samtools view s8cell.bam chr11:40185800-40195800 | cut -f1 | sort -u | wc -l"
      ]
    },
    {
      "cell_type": "code",
      "execution_count": 31,
      "metadata": {},
      "outputs": [
        {
          "name": "stdout",
          "output_type": "stream",
          "text": [
            "797\n",
            "274\n"
          ]
        }
      ],
      "source": [
        "! samtools view sicm.bam chr11:11347700-11367700 | cut -f1 | sort -u | wc -l\n",
        "! samtools view sicm.bam chr11:40185800-40195800 | cut -f1 | sort -u | wc -l"
      ]
    },
    {
      "cell_type": "code",
      "execution_count": 32,
      "metadata": {},
      "outputs": [
        {
          "name": "stdout",
          "output_type": "stream",
          "text": [
            "1344\n",
            "565\n"
          ]
        }
      ],
      "source": [
        "! samtools view sepiblast.bam chr11:11347700-11367700 | cut -f1 | sort -u | wc -l\n",
        "! samtools view sepiblast.bam chr11:40185800-40195800 | cut -f1 | sort -u | wc -l"
      ]
    },
    {
      "cell_type": "code",
      "execution_count": 34,
      "metadata": {},
      "outputs": [],
      "source": [
        "! rm s8cell.bam sicm.bam sepiblast.bam"
      ]
    },
    {
      "attachments": {},
      "cell_type": "markdown",
      "metadata": {},
      "source": [
        "Дедупликация"
      ]
    },
    {
      "cell_type": "code",
      "execution_count": 36,
      "metadata": {},
      "outputs": [
        {
          "name": "stdout",
          "output_type": "stream",
          "text": [
            "Processing paired-end Bismark output file(s) (SAM format):\n",
            "SRR5836473_1_bismark_bt2_pe.bam\n",
            "\n",
            "\n",
            "If there are several alignments to a single position in the genome the first alignment will be chosen. Since the input files are not in any way sorted this is a near-enough random selection of reads.\n",
            "\n",
            "Checking file >>SRR5836473_1_bismark_bt2_pe.bam<< for signs of file truncation...\n",
            "\n",
            "samtools view: writing to standard output failed: Broken pipe\n",
            "samtools view: error closing standard output: -1\n",
            "\n",
            "\n",
            "Now testing Bismark result file SRR5836473_1_bismark_bt2_pe.bam for positional sorting (which would be bad...)\t...passed!\n",
            "Output file is: SRR5836473_1_bismark_bt2_pe.deduplicated.bam\n",
            "\n",
            "skipping header line:\t@HD\tVN:1.0\tSO:unsorted\n",
            "skipping header line:\t@SQ\tSN:chr11\tLN:121973369\n",
            "skipping header line:\t@PG\tID:Bismark\tVN:v0.24.2\tCL:\"bismark --genome_folder /mnt/cache-1/for_minor/mm39_11/ -q --non_directional -parallel 10 -1 SRR3824222_1.fq,SRR5836473_1.fq,SRR5836473_1.fq -2 SRR3824222_2.fq,SRR5836473_2.fq,SRR5836473_2.fq\"\n",
            "skipping header line:\t@PG\tID:samtools\tPN:samtools\tPP:Bismark\tVN:1.13\tCL:/bin/samtools view -h --threads 1 SRR5836473_1_bismark_bt2_pe.bam\n",
            "\n",
            "Total number of alignments analysed in SRR5836473_1_bismark_bt2_pe.bam:\t2858170\n",
            "Total number duplicated alignments removed:\t522512 (18.28%)\n",
            "Duplicated alignments were found at:\t230677 different position(s)\n",
            "\n",
            "Total count of deduplicated leftover sequences: 2335658 (81.72% of total)\n",
            "\n",
            "samtools view: writing to standard output failed: Broken pipe\n",
            "samtools view: error closing standard output: -1\n"
          ]
        }
      ],
      "source": [
        "! ./deduplicate_bismark --bam --paired SRR5836473_1_bismark_bt2_pe.bam"
      ]
    },
    {
      "cell_type": "code",
      "execution_count": 37,
      "metadata": {},
      "outputs": [
        {
          "name": "stdout",
          "output_type": "stream",
          "text": [
            "Processing paired-end Bismark output file(s) (SAM format):\n",
            "SRR5836475_1_bismark_bt2_pe.bam\n",
            "\n",
            "\n",
            "If there are several alignments to a single position in the genome the first alignment will be chosen. Since the input files are not in any way sorted this is a near-enough random selection of reads.\n",
            "\n",
            "Checking file >>SRR5836475_1_bismark_bt2_pe.bam<< for signs of file truncation...\n",
            "\n",
            "samtools view: writing to standard output failed: Broken pipe\n",
            "samtools view: error closing standard output: -1\n",
            "\n",
            "\n",
            "Now testing Bismark result file SRR5836475_1_bismark_bt2_pe.bam for positional sorting (which would be bad...)\t...passed!\n",
            "Output file is: SRR5836475_1_bismark_bt2_pe.deduplicated.bam\n",
            "\n",
            "skipping header line:\t@HD\tVN:1.0\tSO:unsorted\n",
            "skipping header line:\t@SQ\tSN:chr11\tLN:121973369\n",
            "skipping header line:\t@PG\tID:Bismark\tVN:v0.24.2\tCL:\"bismark --genome_folder /mnt/cache-1/for_minor/mm39_11/ -q --non_directional -parallel 10 -1 SRR5836475_1.fq -2 SRR5836475_2.fq\"\n",
            "skipping header line:\t@PG\tID:samtools\tPN:samtools\tPP:Bismark\tVN:1.13\tCL:/bin/samtools view -h --threads 1 SRR5836475_1_bismark_bt2_pe.bam\n",
            "\n",
            "Total number of alignments analysed in SRR5836475_1_bismark_bt2_pe.bam:\t4170098\n",
            "Total number duplicated alignments removed:\t378125 (9.07%)\n",
            "Duplicated alignments were found at:\t229940 different position(s)\n",
            "\n",
            "Total count of deduplicated leftover sequences: 3791973 (90.93% of total)\n",
            "\n",
            "samtools view: writing to standard output failed: Broken pipe\n",
            "samtools view: error closing standard output: -1\n"
          ]
        }
      ],
      "source": [
        "! ./deduplicate_bismark --bam --paired SRR5836475_1_bismark_bt2_pe.bam"
      ]
    },
    {
      "cell_type": "code",
      "execution_count": 38,
      "metadata": {},
      "outputs": [
        {
          "name": "stdout",
          "output_type": "stream",
          "text": [
            "Processing paired-end Bismark output file(s) (SAM format):\n",
            "SRR3824222_1_bismark_bt2_pe.bam\n",
            "\n",
            "\n",
            "If there are several alignments to a single position in the genome the first alignment will be chosen. Since the input files are not in any way sorted this is a near-enough random selection of reads.\n",
            "\n",
            "Checking file >>SRR3824222_1_bismark_bt2_pe.bam<< for signs of file truncation...\n",
            "\n",
            "samtools view: writing to standard output failed: Broken pipe\n",
            "samtools view: error closing standard output: -1\n",
            "\n",
            "\n",
            "Now testing Bismark result file SRR3824222_1_bismark_bt2_pe.bam for positional sorting (which would be bad...)\t...passed!\n",
            "Output file is: SRR3824222_1_bismark_bt2_pe.deduplicated.bam\n",
            "\n",
            "skipping header line:\t@HD\tVN:1.0\tSO:unsorted\n",
            "skipping header line:\t@SQ\tSN:chr11\tLN:121973369\n",
            "skipping header line:\t@PG\tID:Bismark\tVN:v0.24.2\tCL:\"bismark --genome_folder /mnt/cache-1/for_minor/mm39_11/ -q --non_directional -parallel 10 -1 SRR3824222_1.fq,SRR5836473_1.fq,SRR5836473_1.fq -2 SRR3824222_2.fq,SRR5836473_2.fq,SRR5836473_2.fq\"\n",
            "skipping header line:\t@PG\tID:samtools\tPN:samtools\tPP:Bismark\tVN:1.13\tCL:/bin/samtools view -h --threads 1 SRR3824222_1_bismark_bt2_pe.bam\n",
            "\n",
            "Total number of alignments analysed in SRR3824222_1_bismark_bt2_pe.bam:\t7051731\n",
            "Total number duplicated alignments removed:\t205287 (2.91%)\n",
            "Duplicated alignments were found at:\t164998 different position(s)\n",
            "\n",
            "Total count of deduplicated leftover sequences: 6846444 (97.09% of total)\n",
            "\n",
            "samtools view: writing to standard output failed: Broken pipe\n",
            "samtools view: error closing standard output: -1\n"
          ]
        }
      ],
      "source": [
        "! ./deduplicate_bismark --bam --paired SRR3824222_1_bismark_bt2_pe.bam"
      ]
    },
    {
      "attachments": {},
      "cell_type": "markdown",
      "metadata": {},
      "source": [
        "Статистика"
      ]
    },
    {
      "attachments": {},
      "cell_type": "markdown",
      "metadata": {},
      "source": [
        "|          | 11347700-11367700 | 40185800-40195800 | duplicated % |\n",
        "|----------|-------------------|-------------------|--------------|\n",
        "| 8 Cell   | 551               | 194               | 81.72        |\n",
        "| ICM      | 797               | 274               | 90.93        |\n",
        "| Epiblast | 1344              | 565               | 97.09        |"
      ]
    },
    {
      "attachments": {},
      "cell_type": "markdown",
      "metadata": {},
      "source": [
        "Скачиваем 11-ю хромосому мыши"
      ]
    },
    {
      "cell_type": "code",
      "execution_count": 39,
      "metadata": {
        "colab": {
          "base_uri": "https://localhost:8080/"
        },
        "id": "4NZ1s3i5bUUq",
        "outputId": "817a42d5-fa08-4314-b683-d347bbebaaa4"
      },
      "outputs": [
        {
          "name": "stdout",
          "output_type": "stream",
          "text": [
            "--2024-02-13 03:35:29--  https://ftp.ensembl.org/pub/release-111/fasta/mus_musculus/dna/Mus_musculus.GRCm39.dna.chromosome.11.fa.gz\n",
            "Resolving ftp.ensembl.org (ftp.ensembl.org)... 193.62.193.169\n",
            "Connecting to ftp.ensembl.org (ftp.ensembl.org)|193.62.193.169|:443... connected.\n",
            "HTTP request sent, awaiting response... 200 OK\n",
            "Length: 36137719 (34M) [application/x-gzip]\n",
            "Saving to: ‘Mus_musculus.GRCm39.dna.chromosome.11.fa.gz’\n",
            "\n",
            "Mus_musculus.GRCm39 100%[===================>]  34,46M   740KB/s    in 48s     \n",
            "\n",
            "2024-02-13 03:36:19 (739 KB/s) - ‘Mus_musculus.GRCm39.dna.chromosome.11.fa.gz’ saved [36137719/36137719]\n",
            "\n"
          ]
        }
      ],
      "source": [
        "! wget \"https://ftp.ensembl.org/pub/release-111/fasta/mus_musculus/dna/Mus_musculus.GRCm39.dna.chromosome.11.fa.gz\"\n",
        "! gunzip Mus_musculus.GRCm39.dna.chromosome.11.fa.gz\n",
        "! mkdir mouse_chr\n",
        "! mv Mus_musculus.GRCm39.dna.chromosome.11.fa mouse_chr/"
      ]
    },
    {
      "attachments": {},
      "cell_type": "markdown",
      "metadata": {},
      "source": [
        "Коллинг метилирования"
      ]
    },
    {
      "cell_type": "code",
      "execution_count": 41,
      "metadata": {},
      "outputs": [
        {
          "name": "stdout",
          "output_type": "stream",
          "text": [
            "\n",
            " *** Bismark methylation extractor version v0.24.2 ***\n",
            "\n",
            "Trying to determine the type of mapping from the SAM header line of file SRR5836473_1_bismark_bt2_pe.deduplicated.bam\n",
            "Treating file(s) as paired-end data (as extracted from @PG line)\n",
            "\n",
            "Setting option '--no_overlap' since this is (normally) the right thing to do for paired-end data\n",
            "\n",
            "\n",
            "Setting core usage to single-threaded (default). Consider using --multicore <int> to speed up the extraction process.\n",
            "\n",
            "Summarising Bismark methylation extractor parameters:\n",
            "===============================================================\n",
            "Bismark paired-end SAM format specified (default)\n",
            "Number of cores to be used: 1\n",
            "Output will be written to the current directory ('/home/erportnyagin/src/hse24_hw1')\n",
            "\n",
            "\n",
            "Summarising bedGraph parameters:\n",
            "===============================================================\n",
            "Generating additional output in bedGraph and coverage format\n",
            "bedGraph format:\t<Chromosome> <Start Position> <End Position> <Methylation Percentage>\n",
            "coverage format:\t<Chromosome> <Start Position> <End Position> <Methylation Percentage> <count methylated> <count non-methylated>\n",
            "\n",
            "Using a cutoff of 1 read(s) to report cytosine positions\n",
            "Reporting and sorting cytosine methylation information in CpG context only (default)\n",
            "The bedGraph UNIX sort command will use the following memory setting:\t'2G'. Temporary directory used for sorting is the output directory\n",
            "\n",
            "\n",
            "Summarising genome-wide cytosine methylation report parameters:\n",
            "===============================================================\n",
            "Generating comprehensive genome-wide cytosine report\n",
            "(output format: <Chromosome> <Position> <Strand> <count methylated> <count non-methylated>  <C-context>  <trinucleotide context> )\n",
            "Reporting cytosine methylation in CpG context only (default)\n",
            "Using 1-based genomic coordinates (default)\n",
            "Genome folder was specified as ./mouse_chr/\n",
            "\n",
            "Checking file >>SRR5836473_1_bismark_bt2_pe.deduplicated.bam<< for signs of file truncation...\n",
            "\n",
            "\n",
            "Now testing Bismark result file >SRR5836473_1_bismark_bt2_pe.deduplicated.bam< for positional sorting (which would be bad...)\t...passed!\n",
            "Writing result file containing methylation information for C in CpG context from the original top strand to CpG_OT_SRR5836473_1_bismark_bt2_pe.deduplicated.txt.gz\n",
            "Writing result file containing methylation information for C in CpG context from the complementary to original top strand to CpG_CTOT_SRR5836473_1_bismark_bt2_pe.deduplicated.txt.gz\n",
            "Writing result file containing methylation information for C in CpG context from the complementary to original bottom strand to CpG_CTOB_SRR5836473_1_bismark_bt2_pe.deduplicated.txt.gz\n",
            "Writing result file containing methylation information for C in CpG context from the original bottom strand to CpG_OB_SRR5836473_1_bismark_bt2_pe.deduplicated.txt.gz\n",
            "\n",
            "Writing result file containing methylation information for C in CHG context from the original top strand to CHG_OT_SRR5836473_1_bismark_bt2_pe.deduplicated.txt.gz\n",
            "Writing result file containing methylation information for C in CHG context from the complementary to original top strand to CHG_CTOT_SRR5836473_1_bismark_bt2_pe.deduplicated.txt.gz\n",
            "Writing result file containing methylation information for C in CHG context from the complementary to original bottom strand to CHG_CTOB_SRR5836473_1_bismark_bt2_pe.deduplicated.txt.gz\n",
            "Writing result file containing methylation information for C in CHG context from the original bottom strand to CHG_OB_SRR5836473_1_bismark_bt2_pe.deduplicated.txt.gz\n",
            "\n",
            "Writing result file containing methylation information for C in CHH context from the original top strand to CHH_OT_SRR5836473_1_bismark_bt2_pe.deduplicated.txt.gz\n",
            "Writing result file containing methylation information for C in CHH context from the complementary to original top strand to CHH_CTOT_SRR5836473_1_bismark_bt2_pe.deduplicated.txt.gz\n",
            "Writing result file containing methylation information for C in CHH context from the complementary to original bottom strand to CHH_CTOB_SRR5836473_1_bismark_bt2_pe.deduplicated.txt.gz\n",
            "Writing result file containing methylation information for C in CHH context from the original bottom strand to CHH_OB_SRR5836473_1_bismark_bt2_pe.deduplicated.txt.gz\n",
            "\n",
            "Now reading in Bismark result file SRR5836473_1_bismark_bt2_pe.deduplicated.bam\n",
            "skipping SAM header line:\t@HD\tVN:1.0\tSO:unsorted\n",
            "skipping SAM header line:\t@SQ\tSN:chr11\tLN:121973369\n",
            "skipping SAM header line:\t@PG\tID:Bismark\tVN:v0.24.2\tCL:\"bismark --genome_folder /mnt/cache-1/for_minor/mm39_11/ -q --non_directional -parallel 10 -1 SRR3824222_1.fq,SRR5836473_1.fq,SRR5836473_1.fq -2 SRR3824222_2.fq,SRR5836473_2.fq,SRR5836473_2.fq\"\n",
            "skipping SAM header line:\t@PG\tID:samtools\tPN:samtools\tPP:Bismark\tVN:1.13\tCL:/bin/samtools view -h --threads 1 SRR5836473_1_bismark_bt2_pe.bam\n",
            "skipping SAM header line:\t@PG\tID:samtools.1\tPN:samtools\tPP:samtools\tVN:1.13\tCL:/bin/samtools view -bS --threads 1 -\n",
            "skipping SAM header line:\t@PG\tID:samtools.2\tPN:samtools\tPP:samtools.1\tVN:1.13\tCL:/bin/samtools view -h SRR5836473_1_bismark_bt2_pe.deduplicated.bam\n",
            "Processed lines: 500000\n",
            "Processed lines: 1000000\n",
            "Processed lines: 1500000\n",
            "Processed lines: 2000000\n",
            "\n",
            "Processed 2335658 lines in total\n",
            "Total number of methylation call strings processed: 4671316\n",
            "\n",
            "Final Cytosine Methylation Report\n",
            "=================================\n",
            "Total number of C's analysed:\t104748620\n",
            "\n",
            "Total methylated C's in CpG context:\t2103916\n",
            "Total methylated C's in CHG context:\t270195\n",
            "Total methylated C's in CHH context:\t1236285\n",
            "\n",
            "Total C to T conversions in CpG context:\t2729982\n",
            "Total C to T conversions in CHG context:\t22951565\n",
            "Total C to T conversions in CHH context:\t75456677\n",
            "\n",
            "C methylated in CpG context:\t43.5%\n",
            "C methylated in CHG context:\t1.2%\n",
            "C methylated in CHH context:\t1.6%\n",
            "\n",
            "\n",
            "Determining maximum read lengths for M-Bias plots\n",
            "Maximum read length of Read 1: 140\n",
            "Maximum read length of Read 2: 140\n",
            "\n",
            "Perl module GD::Graph::lines is not installed, skipping drawing M-bias plots (only writing out M-bias plot table)\n",
            "Determining maximum read lengths for M-Bias plots\n",
            "Maximum read length of Read 1: 140\n",
            "Maximum read length of Read 2: 140\n",
            "\n",
            "Perl module GD::Graph::lines is not installed, skipping drawing M-bias plots (only writing out M-bias plot table)\n",
            "Deleting unused files ...\n",
            "\n",
            "CpG_OT_SRR5836473_1_bismark_bt2_pe.deduplicated.txt.gz contains data ->\tkept\n",
            "\n",
            "gzip: stdout: Broken pipe\n",
            "CpG_CTOT_SRR5836473_1_bismark_bt2_pe.deduplicated.txt.gz contains data ->\tkept\n",
            "CpG_CTOB_SRR5836473_1_bismark_bt2_pe.deduplicated.txt.gz contains data ->\tkept\n",
            "CpG_OB_SRR5836473_1_bismark_bt2_pe.deduplicated.txt.gz contains data ->\tkept\n",
            "\n",
            "gzip: stdout: Broken pipe\n",
            "CHG_OT_SRR5836473_1_bismark_bt2_pe.deduplicated.txt.gz contains data ->\tkept\n",
            "\n",
            "gzip: stdout: Broken pipe\n",
            "CHG_CTOT_SRR5836473_1_bismark_bt2_pe.deduplicated.txt.gz contains data ->\tkept\n",
            "\n",
            "gzip: stdout: Broken pipe\n",
            "CHG_CTOB_SRR5836473_1_bismark_bt2_pe.deduplicated.txt.gz contains data ->\tkept\n",
            "\n",
            "gzip: stdout: Broken pipe\n",
            "CHG_OB_SRR5836473_1_bismark_bt2_pe.deduplicated.txt.gz contains data ->\tkept\n",
            "\n",
            "gzip: stdout: Broken pipe\n",
            "CHH_OT_SRR5836473_1_bismark_bt2_pe.deduplicated.txt.gz contains data ->\tkept\n",
            "\n",
            "gzip: stdout: Broken pipe\n",
            "CHH_CTOT_SRR5836473_1_bismark_bt2_pe.deduplicated.txt.gz contains data ->\tkept\n",
            "\n",
            "gzip: stdout: Broken pipe\n",
            "CHH_CTOB_SRR5836473_1_bismark_bt2_pe.deduplicated.txt.gz contains data ->\tkept\n",
            "\n",
            "gzip: stdout: Broken pipe\n",
            "CHH_OB_SRR5836473_1_bismark_bt2_pe.deduplicated.txt.gz contains data ->\tkept\n",
            "\n",
            "\n",
            "Using these input files: CpG_OT_SRR5836473_1_bismark_bt2_pe.deduplicated.txt.gz CpG_CTOT_SRR5836473_1_bismark_bt2_pe.deduplicated.txt.gz CpG_CTOB_SRR5836473_1_bismark_bt2_pe.deduplicated.txt.gz CpG_OB_SRR5836473_1_bismark_bt2_pe.deduplicated.txt.gz CHG_OT_SRR5836473_1_bismark_bt2_pe.deduplicated.txt.gz CHG_CTOT_SRR5836473_1_bismark_bt2_pe.deduplicated.txt.gz CHG_CTOB_SRR5836473_1_bismark_bt2_pe.deduplicated.txt.gz CHG_OB_SRR5836473_1_bismark_bt2_pe.deduplicated.txt.gz CHH_OT_SRR5836473_1_bismark_bt2_pe.deduplicated.txt.gz CHH_CTOT_SRR5836473_1_bismark_bt2_pe.deduplicated.txt.gz CHH_CTOB_SRR5836473_1_bismark_bt2_pe.deduplicated.txt.gz CHH_OB_SRR5836473_1_bismark_bt2_pe.deduplicated.txt.gz\n",
            "\n",
            "Summary of parameters for bismark2bedGraph conversion:\n",
            "======================================================\n",
            "bedGraph output:\t\tSRR5836473_1_bismark_bt2_pe.deduplicated.bedGraph.gz\n",
            "output directory:\t\t><\n",
            "remove whitespaces:\t\tno\n",
            "CX context:\t\t\tno (CpG context only, default)\n",
            "No-header selected:\t\tno\n",
            "Sorting method:\t\t\tUnix sort-based (smaller memory footprint, but slower)\n",
            "Sort buffer size:\t\t2G\n",
            "Coverage threshold:\t\t1\n",
            "=============================================================================\n",
            "Methylation information will now be written into a bedGraph and coverage file\n",
            "=============================================================================\n",
            "\n",
            "Using the following files as Input:\n",
            "/home/erportnyagin/src/hse24_hw1/CpG_OT_SRR5836473_1_bismark_bt2_pe.deduplicated.txt.gz\t/home/erportnyagin/src/hse24_hw1/CpG_CTOT_SRR5836473_1_bismark_bt2_pe.deduplicated.txt.gz\t/home/erportnyagin/src/hse24_hw1/CpG_CTOB_SRR5836473_1_bismark_bt2_pe.deduplicated.txt.gz\t/home/erportnyagin/src/hse24_hw1/CpG_OB_SRR5836473_1_bismark_bt2_pe.deduplicated.txt.gz\n",
            "\n",
            "Writing bedGraph to file: SRR5836473_1_bismark_bt2_pe.deduplicated.bedGraph.gz\n",
            "Also writing out a coverage file including counts methylated and unmethylated residues to file: SRR5836473_1_bismark_bt2_pe.deduplicated.bismark.cov.gz\n",
            "\n",
            "Now writing methylation information for file >>CpG_OT_SRR5836473_1_bismark_bt2_pe.deduplicated.txt.gz<< to individual files for each chromosome\n",
            "Finished writing out individual chromosome files for CpG_OT_SRR5836473_1_bismark_bt2_pe.deduplicated.txt.gz\n",
            "Now writing methylation information for file >>CpG_CTOT_SRR5836473_1_bismark_bt2_pe.deduplicated.txt.gz<< to individual files for each chromosome\n",
            "Finished writing out individual chromosome files for CpG_CTOT_SRR5836473_1_bismark_bt2_pe.deduplicated.txt.gz\n",
            "Now writing methylation information for file >>CpG_CTOB_SRR5836473_1_bismark_bt2_pe.deduplicated.txt.gz<< to individual files for each chromosome\n",
            "Finished writing out individual chromosome files for CpG_CTOB_SRR5836473_1_bismark_bt2_pe.deduplicated.txt.gz\n",
            "Now writing methylation information for file >>CpG_OB_SRR5836473_1_bismark_bt2_pe.deduplicated.txt.gz<< to individual files for each chromosome\n",
            "Finished writing out individual chromosome files for CpG_OB_SRR5836473_1_bismark_bt2_pe.deduplicated.txt.gz\n",
            "\n",
            "Collecting temporary chromosome file information... Processing the following input file(s):\n",
            "CpG_OT_SRR5836473_1_bismark_bt2_pe.deduplicated.txt.gz.chrchr11.methXtractor.temp\n",
            "\n",
            "Sorting input file CpG_OT_SRR5836473_1_bismark_bt2_pe.deduplicated.txt.gz.chrchr11.methXtractor.temp by positions (using -S of 2G)\n",
            "Successfully deleted the temporary input file CpG_OT_SRR5836473_1_bismark_bt2_pe.deduplicated.txt.gz.chrchr11.methXtractor.temp\n",
            "\n",
            "Finished BedGraph conversion ...\n",
            "\n",
            "Summary of parameters for genome-wide cytosine report:\n",
            "==============================================================================\n",
            "Coverage infile:\t\t\t\tSRR5836473_1_bismark_bt2_pe.deduplicated.bismark.cov.gz\n",
            "Output directory:\t\t\t\t><\n",
            "Parent directory:\t\t\t\t>/home/erportnyagin/src/hse24_hw1/<\n",
            "Genome directory:\t\t\t\t>/home/erportnyagin/src/hse24_hw1/mouse_chr/<\n",
            "Coverage threshold\t\t\t\t0 (all positions will be reported, default)\n",
            "CX context:\t\t\t\t\tno (CpG context only, default)\n",
            "Genome coordinates used:\t\t\t1-based (default)\n",
            "GZIP compression:\t\t\t\tyes\n",
            "Split by chromosome:\t\t\t\tno\n",
            "\n",
            "\n",
            "Now reading in and storing sequence information of the genome specified in: /home/erportnyagin/src/hse24_hw1/mouse_chr/\n",
            "\n",
            "chr 11 (121973369 bp)\n",
            "\n",
            "Stored sequence information of 1 chromosomes/scaffolds in total\n",
            "\n",
            "==============================================================================\n",
            "Methylation information will now be written into a genome-wide cytosine report\n",
            "==============================================================================\n",
            "\n",
            "Adding context-specific methylation summaries\n",
            "\n",
            ">>> Writing genome-wide cytosine report to: SRR5836473_1_bismark_bt2_pe.deduplicated.CpG_report.txt.gz <<<\n",
            "\n",
            ">>> Writing all cytosine context summary file to: SRR5836473_1_bismark_bt2_pe.deduplicated.cytosine_context_summary.txt <<<\n",
            "\n",
            "Storing all covered cytosine positions for chromosome: chr11\n",
            "Writing cytosine report for last chromosome chr11 (stored 1737533 different covered positions)\n",
            "Use of uninitialized value $chromosomes{\"chr11\"} in pattern match (m//) at /home/erportnyagin/src/hse24_hw1/Bismark-master/coverage2cytosine line 462, <IN> line 1737533.\n",
            "Finished writing out cytosine report for covered chromosomes (processed 1 chromosomes/scaffolds in total)\n",
            "\n",
            "Now processing chromosomes that were not covered by any methylation calls in the coverage file...\n",
            "Writing cytosine report for not covered chromosome 11\n",
            "Finished writing out cytosine report (processed 2 chromosomes/scaffolds in total). coverage2cytosine processing complete.\n",
            "\n",
            "\n",
            "\n",
            "Finished generating genome-wide cytosine report\n",
            "\n",
            "samtools view: writing to standard output failed: Broken pipe\n",
            "samtools view: error closing standard output: -1\n",
            "samtools view: writing to standard output failed: Broken pipe\n",
            "samtools view: error closing standard output: -1\n",
            "\n",
            "gzip: stdout: Broken pipe\n"
          ]
        }
      ],
      "source": [
        "! ./bismark_methylation_extractor --gzip --bedGraph --cytosine_report --genome_folder ./mouse_chr SRR5836473_1_bismark_bt2_pe.deduplicated.bam"
      ]
    },
    {
      "cell_type": "code",
      "execution_count": 42,
      "metadata": {},
      "outputs": [
        {
          "name": "stdout",
          "output_type": "stream",
          "text": [
            "\n",
            " *** Bismark methylation extractor version v0.24.2 ***\n",
            "\n",
            "Trying to determine the type of mapping from the SAM header line of file SRR5836475_1_bismark_bt2_pe.deduplicated.bam\n",
            "Treating file(s) as paired-end data (as extracted from @PG line)\n",
            "\n",
            "Setting option '--no_overlap' since this is (normally) the right thing to do for paired-end data\n",
            "\n",
            "\n",
            "Setting core usage to single-threaded (default). Consider using --multicore <int> to speed up the extraction process.\n",
            "\n",
            "Summarising Bismark methylation extractor parameters:\n",
            "===============================================================\n",
            "Bismark paired-end SAM format specified (default)\n",
            "Number of cores to be used: 1\n",
            "Output will be written to the current directory ('/home/erportnyagin/src/hse24_hw1')\n",
            "\n",
            "\n",
            "Summarising bedGraph parameters:\n",
            "===============================================================\n",
            "Generating additional output in bedGraph and coverage format\n",
            "bedGraph format:\t<Chromosome> <Start Position> <End Position> <Methylation Percentage>\n",
            "coverage format:\t<Chromosome> <Start Position> <End Position> <Methylation Percentage> <count methylated> <count non-methylated>\n",
            "\n",
            "Using a cutoff of 1 read(s) to report cytosine positions\n",
            "Reporting and sorting cytosine methylation information in CpG context only (default)\n",
            "The bedGraph UNIX sort command will use the following memory setting:\t'2G'. Temporary directory used for sorting is the output directory\n",
            "\n",
            "\n",
            "Summarising genome-wide cytosine methylation report parameters:\n",
            "===============================================================\n",
            "Generating comprehensive genome-wide cytosine report\n",
            "(output format: <Chromosome> <Position> <Strand> <count methylated> <count non-methylated>  <C-context>  <trinucleotide context> )\n",
            "Reporting cytosine methylation in CpG context only (default)\n",
            "Using 1-based genomic coordinates (default)\n",
            "Genome folder was specified as ./mouse_chr/\n",
            "\n",
            "Checking file >>SRR5836475_1_bismark_bt2_pe.deduplicated.bam<< for signs of file truncation...\n",
            "\n",
            "\n",
            "Now testing Bismark result file >SRR5836475_1_bismark_bt2_pe.deduplicated.bam< for positional sorting (which would be bad...)\t...passed!\n",
            "Writing result file containing methylation information for C in CpG context from the original top strand to CpG_OT_SRR5836475_1_bismark_bt2_pe.deduplicated.txt.gz\n",
            "Writing result file containing methylation information for C in CpG context from the complementary to original top strand to CpG_CTOT_SRR5836475_1_bismark_bt2_pe.deduplicated.txt.gz\n",
            "Writing result file containing methylation information for C in CpG context from the complementary to original bottom strand to CpG_CTOB_SRR5836475_1_bismark_bt2_pe.deduplicated.txt.gz\n",
            "Writing result file containing methylation information for C in CpG context from the original bottom strand to CpG_OB_SRR5836475_1_bismark_bt2_pe.deduplicated.txt.gz\n",
            "\n",
            "Writing result file containing methylation information for C in CHG context from the original top strand to CHG_OT_SRR5836475_1_bismark_bt2_pe.deduplicated.txt.gz\n",
            "Writing result file containing methylation information for C in CHG context from the complementary to original top strand to CHG_CTOT_SRR5836475_1_bismark_bt2_pe.deduplicated.txt.gz\n",
            "Writing result file containing methylation information for C in CHG context from the complementary to original bottom strand to CHG_CTOB_SRR5836475_1_bismark_bt2_pe.deduplicated.txt.gz\n",
            "Writing result file containing methylation information for C in CHG context from the original bottom strand to CHG_OB_SRR5836475_1_bismark_bt2_pe.deduplicated.txt.gz\n",
            "\n",
            "Writing result file containing methylation information for C in CHH context from the original top strand to CHH_OT_SRR5836475_1_bismark_bt2_pe.deduplicated.txt.gz\n",
            "Writing result file containing methylation information for C in CHH context from the complementary to original top strand to CHH_CTOT_SRR5836475_1_bismark_bt2_pe.deduplicated.txt.gz\n",
            "Writing result file containing methylation information for C in CHH context from the complementary to original bottom strand to CHH_CTOB_SRR5836475_1_bismark_bt2_pe.deduplicated.txt.gz\n",
            "Writing result file containing methylation information for C in CHH context from the original bottom strand to CHH_OB_SRR5836475_1_bismark_bt2_pe.deduplicated.txt.gz\n",
            "\n",
            "Now reading in Bismark result file SRR5836475_1_bismark_bt2_pe.deduplicated.bam\n",
            "skipping SAM header line:\t@HD\tVN:1.0\tSO:unsorted\n",
            "skipping SAM header line:\t@SQ\tSN:chr11\tLN:121973369\n",
            "skipping SAM header line:\t@PG\tID:Bismark\tVN:v0.24.2\tCL:\"bismark --genome_folder /mnt/cache-1/for_minor/mm39_11/ -q --non_directional -parallel 10 -1 SRR5836475_1.fq -2 SRR5836475_2.fq\"\n",
            "skipping SAM header line:\t@PG\tID:samtools\tPN:samtools\tPP:Bismark\tVN:1.13\tCL:/bin/samtools view -h --threads 1 SRR5836475_1_bismark_bt2_pe.bam\n",
            "skipping SAM header line:\t@PG\tID:samtools.1\tPN:samtools\tPP:samtools\tVN:1.13\tCL:/bin/samtools view -bS --threads 1 -\n",
            "skipping SAM header line:\t@PG\tID:samtools.2\tPN:samtools\tPP:samtools.1\tVN:1.13\tCL:/bin/samtools view -h SRR5836475_1_bismark_bt2_pe.deduplicated.bam\n",
            "Processed lines: 500000\n",
            "Processed lines: 1000000\n",
            "Processed lines: 1500000\n",
            "Processed lines: 2000000\n",
            "Processed lines: 2500000\n",
            "Processed lines: 3000000\n",
            "Processed lines: 3500000\n",
            "\n",
            "Processed 3791973 lines in total\n",
            "Total number of methylation call strings processed: 7583946\n",
            "\n",
            "Final Cytosine Methylation Report\n",
            "=================================\n",
            "Total number of C's analysed:\t177777254\n",
            "\n",
            "Total methylated C's in CpG context:\t1915876\n",
            "Total methylated C's in CHG context:\t298499\n",
            "Total methylated C's in CHH context:\t1434775\n",
            "\n",
            "Total C to T conversions in CpG context:\t6256205\n",
            "Total C to T conversions in CHG context:\t39157632\n",
            "Total C to T conversions in CHH context:\t128714267\n",
            "\n",
            "C methylated in CpG context:\t23.4%\n",
            "C methylated in CHG context:\t0.8%\n",
            "C methylated in CHH context:\t1.1%\n",
            "\n",
            "\n",
            "Determining maximum read lengths for M-Bias plots\n",
            "Maximum read length of Read 1: 140\n",
            "Maximum read length of Read 2: 140\n",
            "\n",
            "Perl module GD::Graph::lines is not installed, skipping drawing M-bias plots (only writing out M-bias plot table)\n",
            "Determining maximum read lengths for M-Bias plots\n",
            "Maximum read length of Read 1: 140\n",
            "Maximum read length of Read 2: 140\n",
            "\n",
            "Perl module GD::Graph::lines is not installed, skipping drawing M-bias plots (only writing out M-bias plot table)\n",
            "Deleting unused files ...\n",
            "\n",
            "CpG_OT_SRR5836475_1_bismark_bt2_pe.deduplicated.txt.gz contains data ->\tkept\n",
            "\n",
            "gzip: stdout: Broken pipe\n",
            "CpG_CTOT_SRR5836475_1_bismark_bt2_pe.deduplicated.txt.gz contains data ->\tkept\n",
            "CpG_CTOB_SRR5836475_1_bismark_bt2_pe.deduplicated.txt.gz contains data ->\tkept\n",
            "CpG_OB_SRR5836475_1_bismark_bt2_pe.deduplicated.txt.gz contains data ->\tkept\n",
            "\n",
            "gzip: stdout: Broken pipe\n",
            "CHG_OT_SRR5836475_1_bismark_bt2_pe.deduplicated.txt.gz contains data ->\tkept\n",
            "\n",
            "gzip: stdout: Broken pipe\n",
            "CHG_CTOT_SRR5836475_1_bismark_bt2_pe.deduplicated.txt.gz contains data ->\tkept\n",
            "\n",
            "gzip: stdout: Broken pipe\n",
            "CHG_CTOB_SRR5836475_1_bismark_bt2_pe.deduplicated.txt.gz contains data ->\tkept\n",
            "CHG_OB_SRR5836475_1_bismark_bt2_pe.deduplicated.txt.gz contains data ->\tkept\n",
            "\n",
            "gzip: stdout: Broken pipe\n",
            "CHH_OT_SRR5836475_1_bismark_bt2_pe.deduplicated.txt.gz contains data ->\tkept\n",
            "\n",
            "gzip: stdout: Broken pipe\n",
            "CHH_CTOT_SRR5836475_1_bismark_bt2_pe.deduplicated.txt.gz contains data ->\tkept\n",
            "\n",
            "gzip: stdout: Broken pipe\n",
            "CHH_CTOB_SRR5836475_1_bismark_bt2_pe.deduplicated.txt.gz contains data ->\tkept\n",
            "\n",
            "gzip: stdout: Broken pipe\n",
            "CHH_OB_SRR5836475_1_bismark_bt2_pe.deduplicated.txt.gz contains data ->\tkept\n",
            "\n",
            "\n",
            "Using these input files: CpG_OT_SRR5836475_1_bismark_bt2_pe.deduplicated.txt.gz CpG_CTOT_SRR5836475_1_bismark_bt2_pe.deduplicated.txt.gz CpG_CTOB_SRR5836475_1_bismark_bt2_pe.deduplicated.txt.gz CpG_OB_SRR5836475_1_bismark_bt2_pe.deduplicated.txt.gz CHG_OT_SRR5836475_1_bismark_bt2_pe.deduplicated.txt.gz CHG_CTOT_SRR5836475_1_bismark_bt2_pe.deduplicated.txt.gz CHG_CTOB_SRR5836475_1_bismark_bt2_pe.deduplicated.txt.gz CHG_OB_SRR5836475_1_bismark_bt2_pe.deduplicated.txt.gz CHH_OT_SRR5836475_1_bismark_bt2_pe.deduplicated.txt.gz CHH_CTOT_SRR5836475_1_bismark_bt2_pe.deduplicated.txt.gz CHH_CTOB_SRR5836475_1_bismark_bt2_pe.deduplicated.txt.gz CHH_OB_SRR5836475_1_bismark_bt2_pe.deduplicated.txt.gz\n",
            "\n",
            "Summary of parameters for bismark2bedGraph conversion:\n",
            "======================================================\n",
            "bedGraph output:\t\tSRR5836475_1_bismark_bt2_pe.deduplicated.bedGraph.gz\n",
            "output directory:\t\t><\n",
            "remove whitespaces:\t\tno\n",
            "CX context:\t\t\tno (CpG context only, default)\n",
            "No-header selected:\t\tno\n",
            "Sorting method:\t\t\tUnix sort-based (smaller memory footprint, but slower)\n",
            "Sort buffer size:\t\t2G\n",
            "Coverage threshold:\t\t1\n",
            "=============================================================================\n",
            "Methylation information will now be written into a bedGraph and coverage file\n",
            "=============================================================================\n",
            "\n",
            "Using the following files as Input:\n",
            "/home/erportnyagin/src/hse24_hw1/CpG_OT_SRR5836475_1_bismark_bt2_pe.deduplicated.txt.gz\t/home/erportnyagin/src/hse24_hw1/CpG_CTOT_SRR5836475_1_bismark_bt2_pe.deduplicated.txt.gz\t/home/erportnyagin/src/hse24_hw1/CpG_CTOB_SRR5836475_1_bismark_bt2_pe.deduplicated.txt.gz\t/home/erportnyagin/src/hse24_hw1/CpG_OB_SRR5836475_1_bismark_bt2_pe.deduplicated.txt.gz\n",
            "\n",
            "Writing bedGraph to file: SRR5836475_1_bismark_bt2_pe.deduplicated.bedGraph.gz\n",
            "Also writing out a coverage file including counts methylated and unmethylated residues to file: SRR5836475_1_bismark_bt2_pe.deduplicated.bismark.cov.gz\n",
            "\n",
            "Now writing methylation information for file >>CpG_OT_SRR5836475_1_bismark_bt2_pe.deduplicated.txt.gz<< to individual files for each chromosome\n",
            "Finished writing out individual chromosome files for CpG_OT_SRR5836475_1_bismark_bt2_pe.deduplicated.txt.gz\n",
            "Now writing methylation information for file >>CpG_CTOT_SRR5836475_1_bismark_bt2_pe.deduplicated.txt.gz<< to individual files for each chromosome\n",
            "Finished writing out individual chromosome files for CpG_CTOT_SRR5836475_1_bismark_bt2_pe.deduplicated.txt.gz\n",
            "Now writing methylation information for file >>CpG_CTOB_SRR5836475_1_bismark_bt2_pe.deduplicated.txt.gz<< to individual files for each chromosome\n",
            "Finished writing out individual chromosome files for CpG_CTOB_SRR5836475_1_bismark_bt2_pe.deduplicated.txt.gz\n",
            "Now writing methylation information for file >>CpG_OB_SRR5836475_1_bismark_bt2_pe.deduplicated.txt.gz<< to individual files for each chromosome\n",
            "Finished writing out individual chromosome files for CpG_OB_SRR5836475_1_bismark_bt2_pe.deduplicated.txt.gz\n",
            "\n",
            "Collecting temporary chromosome file information... Processing the following input file(s):\n",
            "CpG_OT_SRR5836475_1_bismark_bt2_pe.deduplicated.txt.gz.chrchr11.methXtractor.temp\n",
            "\n",
            "Sorting input file CpG_OT_SRR5836475_1_bismark_bt2_pe.deduplicated.txt.gz.chrchr11.methXtractor.temp by positions (using -S of 2G)\n",
            "Successfully deleted the temporary input file CpG_OT_SRR5836475_1_bismark_bt2_pe.deduplicated.txt.gz.chrchr11.methXtractor.temp\n",
            "\n",
            "Finished BedGraph conversion ...\n",
            "\n",
            "Summary of parameters for genome-wide cytosine report:\n",
            "==============================================================================\n",
            "Coverage infile:\t\t\t\tSRR5836475_1_bismark_bt2_pe.deduplicated.bismark.cov.gz\n",
            "Output directory:\t\t\t\t><\n",
            "Parent directory:\t\t\t\t>/home/erportnyagin/src/hse24_hw1/<\n",
            "Genome directory:\t\t\t\t>/home/erportnyagin/src/hse24_hw1/mouse_chr/<\n",
            "Coverage threshold\t\t\t\t0 (all positions will be reported, default)\n",
            "CX context:\t\t\t\t\tno (CpG context only, default)\n",
            "Genome coordinates used:\t\t\t1-based (default)\n",
            "GZIP compression:\t\t\t\tyes\n",
            "Split by chromosome:\t\t\t\tno\n",
            "\n",
            "\n",
            "Now reading in and storing sequence information of the genome specified in: /home/erportnyagin/src/hse24_hw1/mouse_chr/\n",
            "\n",
            "chr 11 (121973369 bp)\n",
            "\n",
            "Stored sequence information of 1 chromosomes/scaffolds in total\n",
            "\n",
            "==============================================================================\n",
            "Methylation information will now be written into a genome-wide cytosine report\n",
            "==============================================================================\n",
            "\n",
            "Adding context-specific methylation summaries\n",
            "\n",
            ">>> Writing genome-wide cytosine report to: SRR5836475_1_bismark_bt2_pe.deduplicated.CpG_report.txt.gz <<<\n",
            "\n",
            ">>> Writing all cytosine context summary file to: SRR5836475_1_bismark_bt2_pe.deduplicated.cytosine_context_summary.txt <<<\n",
            "\n",
            "Storing all covered cytosine positions for chromosome: chr11\n",
            "Writing cytosine report for last chromosome chr11 (stored 2054296 different covered positions)\n",
            "Use of uninitialized value $chromosomes{\"chr11\"} in pattern match (m//) at /home/erportnyagin/src/hse24_hw1/Bismark-master/coverage2cytosine line 462, <IN> line 2054296.\n",
            "Finished writing out cytosine report for covered chromosomes (processed 1 chromosomes/scaffolds in total)\n",
            "\n",
            "Now processing chromosomes that were not covered by any methylation calls in the coverage file...\n",
            "Writing cytosine report for not covered chromosome 11\n",
            "Finished writing out cytosine report (processed 2 chromosomes/scaffolds in total). coverage2cytosine processing complete.\n",
            "\n",
            "\n",
            "\n",
            "Finished generating genome-wide cytosine report\n",
            "\n",
            "samtools view: writing to standard output failed: Broken pipe\n",
            "samtools view: error closing standard output: -1\n",
            "samtools view: writing to standard output failed: Broken pipe\n",
            "samtools view: error closing standard output: -1\n",
            "\n",
            "gzip: stdout: Broken pipe\n"
          ]
        }
      ],
      "source": [
        "! ./bismark_methylation_extractor --gzip --bedGraph --cytosine_report --genome_folder ./mouse_chr SRR5836475_1_bismark_bt2_pe.deduplicated.bam"
      ]
    },
    {
      "cell_type": "code",
      "execution_count": 43,
      "metadata": {},
      "outputs": [
        {
          "name": "stdout",
          "output_type": "stream",
          "text": [
            "\n",
            " *** Bismark methylation extractor version v0.24.2 ***\n",
            "\n",
            "Trying to determine the type of mapping from the SAM header line of file SRR3824222_1_bismark_bt2_pe.deduplicated.bam\n",
            "Treating file(s) as paired-end data (as extracted from @PG line)\n",
            "\n",
            "Setting option '--no_overlap' since this is (normally) the right thing to do for paired-end data\n",
            "\n",
            "\n",
            "Setting core usage to single-threaded (default). Consider using --multicore <int> to speed up the extraction process.\n",
            "\n",
            "Summarising Bismark methylation extractor parameters:\n",
            "===============================================================\n",
            "Bismark paired-end SAM format specified (default)\n",
            "Number of cores to be used: 1\n",
            "Output will be written to the current directory ('/home/erportnyagin/src/hse24_hw1')\n",
            "\n",
            "\n",
            "Summarising bedGraph parameters:\n",
            "===============================================================\n",
            "Generating additional output in bedGraph and coverage format\n",
            "bedGraph format:\t<Chromosome> <Start Position> <End Position> <Methylation Percentage>\n",
            "coverage format:\t<Chromosome> <Start Position> <End Position> <Methylation Percentage> <count methylated> <count non-methylated>\n",
            "\n",
            "Using a cutoff of 1 read(s) to report cytosine positions\n",
            "Reporting and sorting cytosine methylation information in CpG context only (default)\n",
            "The bedGraph UNIX sort command will use the following memory setting:\t'2G'. Temporary directory used for sorting is the output directory\n",
            "\n",
            "\n",
            "Summarising genome-wide cytosine methylation report parameters:\n",
            "===============================================================\n",
            "Generating comprehensive genome-wide cytosine report\n",
            "(output format: <Chromosome> <Position> <Strand> <count methylated> <count non-methylated>  <C-context>  <trinucleotide context> )\n",
            "Reporting cytosine methylation in CpG context only (default)\n",
            "Using 1-based genomic coordinates (default)\n",
            "Genome folder was specified as ./mouse_chr/\n",
            "\n",
            "Checking file >>SRR3824222_1_bismark_bt2_pe.deduplicated.bam<< for signs of file truncation...\n",
            "\n",
            "\n",
            "Now testing Bismark result file >SRR3824222_1_bismark_bt2_pe.deduplicated.bam< for positional sorting (which would be bad...)\t...passed!\n",
            "Writing result file containing methylation information for C in CpG context from the original top strand to CpG_OT_SRR3824222_1_bismark_bt2_pe.deduplicated.txt.gz\n",
            "Writing result file containing methylation information for C in CpG context from the complementary to original top strand to CpG_CTOT_SRR3824222_1_bismark_bt2_pe.deduplicated.txt.gz\n",
            "Writing result file containing methylation information for C in CpG context from the complementary to original bottom strand to CpG_CTOB_SRR3824222_1_bismark_bt2_pe.deduplicated.txt.gz\n",
            "Writing result file containing methylation information for C in CpG context from the original bottom strand to CpG_OB_SRR3824222_1_bismark_bt2_pe.deduplicated.txt.gz\n",
            "\n",
            "Writing result file containing methylation information for C in CHG context from the original top strand to CHG_OT_SRR3824222_1_bismark_bt2_pe.deduplicated.txt.gz\n",
            "Writing result file containing methylation information for C in CHG context from the complementary to original top strand to CHG_CTOT_SRR3824222_1_bismark_bt2_pe.deduplicated.txt.gz\n",
            "Writing result file containing methylation information for C in CHG context from the complementary to original bottom strand to CHG_CTOB_SRR3824222_1_bismark_bt2_pe.deduplicated.txt.gz\n",
            "Writing result file containing methylation information for C in CHG context from the original bottom strand to CHG_OB_SRR3824222_1_bismark_bt2_pe.deduplicated.txt.gz\n",
            "\n",
            "Writing result file containing methylation information for C in CHH context from the original top strand to CHH_OT_SRR3824222_1_bismark_bt2_pe.deduplicated.txt.gz\n",
            "Writing result file containing methylation information for C in CHH context from the complementary to original top strand to CHH_CTOT_SRR3824222_1_bismark_bt2_pe.deduplicated.txt.gz\n",
            "Writing result file containing methylation information for C in CHH context from the complementary to original bottom strand to CHH_CTOB_SRR3824222_1_bismark_bt2_pe.deduplicated.txt.gz\n",
            "Writing result file containing methylation information for C in CHH context from the original bottom strand to CHH_OB_SRR3824222_1_bismark_bt2_pe.deduplicated.txt.gz\n",
            "\n",
            "Now reading in Bismark result file SRR3824222_1_bismark_bt2_pe.deduplicated.bam\n",
            "skipping SAM header line:\t@HD\tVN:1.0\tSO:unsorted\n",
            "skipping SAM header line:\t@SQ\tSN:chr11\tLN:121973369\n",
            "skipping SAM header line:\t@PG\tID:Bismark\tVN:v0.24.2\tCL:\"bismark --genome_folder /mnt/cache-1/for_minor/mm39_11/ -q --non_directional -parallel 10 -1 SRR3824222_1.fq,SRR5836473_1.fq,SRR5836473_1.fq -2 SRR3824222_2.fq,SRR5836473_2.fq,SRR5836473_2.fq\"\n",
            "skipping SAM header line:\t@PG\tID:samtools\tPN:samtools\tPP:Bismark\tVN:1.13\tCL:/bin/samtools view -h --threads 1 SRR3824222_1_bismark_bt2_pe.bam\n",
            "skipping SAM header line:\t@PG\tID:samtools.1\tPN:samtools\tPP:samtools\tVN:1.13\tCL:/bin/samtools view -bS --threads 1 -\n",
            "skipping SAM header line:\t@PG\tID:samtools.2\tPN:samtools\tPP:samtools.1\tVN:1.13\tCL:/bin/samtools view -h SRR3824222_1_bismark_bt2_pe.deduplicated.bam\n",
            "Processed lines: 500000\n",
            "Processed lines: 1000000\n",
            "Processed lines: 1500000\n",
            "Processed lines: 2000000\n",
            "Processed lines: 2500000\n",
            "Processed lines: 3000000\n",
            "Processed lines: 3500000\n",
            "Processed lines: 4000000\n",
            "Processed lines: 4500000\n",
            "Processed lines: 5000000\n",
            "Processed lines: 5500000\n",
            "Processed lines: 6000000\n",
            "Processed lines: 6500000\n",
            "\n",
            "Processed 6846444 lines in total\n",
            "Total number of methylation call strings processed: 13692888\n",
            "\n",
            "Final Cytosine Methylation Report\n",
            "=================================\n",
            "Total number of C's analysed:\t331429490\n",
            "\n",
            "Total methylated C's in CpG context:\t11550199\n",
            "Total methylated C's in CHG context:\t1574513\n",
            "Total methylated C's in CHH context:\t4133143\n",
            "\n",
            "Total C to T conversions in CpG context:\t3463972\n",
            "Total C to T conversions in CHG context:\t71924830\n",
            "Total C to T conversions in CHH context:\t238782833\n",
            "\n",
            "C methylated in CpG context:\t76.9%\n",
            "C methylated in CHG context:\t2.1%\n",
            "C methylated in CHH context:\t1.7%\n",
            "\n",
            "\n",
            "Determining maximum read lengths for M-Bias plots\n",
            "Maximum read length of Read 1: 140\n",
            "Maximum read length of Read 2: 140\n",
            "\n",
            "Perl module GD::Graph::lines is not installed, skipping drawing M-bias plots (only writing out M-bias plot table)\n",
            "Determining maximum read lengths for M-Bias plots\n",
            "Maximum read length of Read 1: 140\n",
            "Maximum read length of Read 2: 140\n",
            "\n",
            "Perl module GD::Graph::lines is not installed, skipping drawing M-bias plots (only writing out M-bias plot table)\n",
            "Deleting unused files ...\n",
            "\n",
            "CpG_OT_SRR3824222_1_bismark_bt2_pe.deduplicated.txt.gz contains data ->\tkept\n",
            "\n",
            "gzip: stdout: Broken pipe\n",
            "CpG_CTOT_SRR3824222_1_bismark_bt2_pe.deduplicated.txt.gz contains data ->\tkept\n",
            "\n",
            "gzip: stdout: Broken pipe\n",
            "CpG_CTOB_SRR3824222_1_bismark_bt2_pe.deduplicated.txt.gz contains data ->\tkept\n",
            "\n",
            "gzip: stdout: Broken pipe\n",
            "CpG_OB_SRR3824222_1_bismark_bt2_pe.deduplicated.txt.gz contains data ->\tkept\n",
            "\n",
            "gzip: stdout: Broken pipe\n",
            "CHG_OT_SRR3824222_1_bismark_bt2_pe.deduplicated.txt.gz contains data ->\tkept\n",
            "\n",
            "gzip: stdout: Broken pipe\n",
            "CHG_CTOT_SRR3824222_1_bismark_bt2_pe.deduplicated.txt.gz contains data ->\tkept\n",
            "\n",
            "gzip: stdout: Broken pipe\n",
            "CHG_CTOB_SRR3824222_1_bismark_bt2_pe.deduplicated.txt.gz contains data ->\tkept\n",
            "CHG_OB_SRR3824222_1_bismark_bt2_pe.deduplicated.txt.gz contains data ->\tkept\n",
            "\n",
            "gzip: stdout: Broken pipe\n",
            "CHH_OT_SRR3824222_1_bismark_bt2_pe.deduplicated.txt.gz contains data ->\tkept\n",
            "\n",
            "gzip: stdout: Broken pipe\n",
            "CHH_CTOT_SRR3824222_1_bismark_bt2_pe.deduplicated.txt.gz contains data ->\tkept\n",
            "\n",
            "gzip: stdout: Broken pipe\n",
            "CHH_CTOB_SRR3824222_1_bismark_bt2_pe.deduplicated.txt.gz contains data ->\tkept\n",
            "\n",
            "gzip: stdout: Broken pipe\n",
            "CHH_OB_SRR3824222_1_bismark_bt2_pe.deduplicated.txt.gz contains data ->\tkept\n",
            "\n",
            "\n",
            "Using these input files: CpG_OT_SRR3824222_1_bismark_bt2_pe.deduplicated.txt.gz CpG_CTOT_SRR3824222_1_bismark_bt2_pe.deduplicated.txt.gz CpG_CTOB_SRR3824222_1_bismark_bt2_pe.deduplicated.txt.gz CpG_OB_SRR3824222_1_bismark_bt2_pe.deduplicated.txt.gz CHG_OT_SRR3824222_1_bismark_bt2_pe.deduplicated.txt.gz CHG_CTOT_SRR3824222_1_bismark_bt2_pe.deduplicated.txt.gz CHG_CTOB_SRR3824222_1_bismark_bt2_pe.deduplicated.txt.gz CHG_OB_SRR3824222_1_bismark_bt2_pe.deduplicated.txt.gz CHH_OT_SRR3824222_1_bismark_bt2_pe.deduplicated.txt.gz CHH_CTOT_SRR3824222_1_bismark_bt2_pe.deduplicated.txt.gz CHH_CTOB_SRR3824222_1_bismark_bt2_pe.deduplicated.txt.gz CHH_OB_SRR3824222_1_bismark_bt2_pe.deduplicated.txt.gz\n",
            "\n",
            "Summary of parameters for bismark2bedGraph conversion:\n",
            "======================================================\n",
            "bedGraph output:\t\tSRR3824222_1_bismark_bt2_pe.deduplicated.bedGraph.gz\n",
            "output directory:\t\t><\n",
            "remove whitespaces:\t\tno\n",
            "CX context:\t\t\tno (CpG context only, default)\n",
            "No-header selected:\t\tno\n",
            "Sorting method:\t\t\tUnix sort-based (smaller memory footprint, but slower)\n",
            "Sort buffer size:\t\t2G\n",
            "Coverage threshold:\t\t1\n",
            "=============================================================================\n",
            "Methylation information will now be written into a bedGraph and coverage file\n",
            "=============================================================================\n",
            "\n",
            "Using the following files as Input:\n",
            "/home/erportnyagin/src/hse24_hw1/CpG_OT_SRR3824222_1_bismark_bt2_pe.deduplicated.txt.gz\t/home/erportnyagin/src/hse24_hw1/CpG_CTOT_SRR3824222_1_bismark_bt2_pe.deduplicated.txt.gz\t/home/erportnyagin/src/hse24_hw1/CpG_CTOB_SRR3824222_1_bismark_bt2_pe.deduplicated.txt.gz\t/home/erportnyagin/src/hse24_hw1/CpG_OB_SRR3824222_1_bismark_bt2_pe.deduplicated.txt.gz\n",
            "\n",
            "Writing bedGraph to file: SRR3824222_1_bismark_bt2_pe.deduplicated.bedGraph.gz\n",
            "Also writing out a coverage file including counts methylated and unmethylated residues to file: SRR3824222_1_bismark_bt2_pe.deduplicated.bismark.cov.gz\n",
            "\n",
            "Now writing methylation information for file >>CpG_OT_SRR3824222_1_bismark_bt2_pe.deduplicated.txt.gz<< to individual files for each chromosome\n",
            "Finished writing out individual chromosome files for CpG_OT_SRR3824222_1_bismark_bt2_pe.deduplicated.txt.gz\n",
            "Now writing methylation information for file >>CpG_CTOT_SRR3824222_1_bismark_bt2_pe.deduplicated.txt.gz<< to individual files for each chromosome\n",
            "Finished writing out individual chromosome files for CpG_CTOT_SRR3824222_1_bismark_bt2_pe.deduplicated.txt.gz\n",
            "Now writing methylation information for file >>CpG_CTOB_SRR3824222_1_bismark_bt2_pe.deduplicated.txt.gz<< to individual files for each chromosome\n",
            "Finished writing out individual chromosome files for CpG_CTOB_SRR3824222_1_bismark_bt2_pe.deduplicated.txt.gz\n",
            "Now writing methylation information for file >>CpG_OB_SRR3824222_1_bismark_bt2_pe.deduplicated.txt.gz<< to individual files for each chromosome\n",
            "Finished writing out individual chromosome files for CpG_OB_SRR3824222_1_bismark_bt2_pe.deduplicated.txt.gz\n",
            "\n",
            "Collecting temporary chromosome file information... Processing the following input file(s):\n",
            "CpG_OT_SRR3824222_1_bismark_bt2_pe.deduplicated.txt.gz.chrchr11.methXtractor.temp\n",
            "\n",
            "Sorting input file CpG_OT_SRR3824222_1_bismark_bt2_pe.deduplicated.txt.gz.chrchr11.methXtractor.temp by positions (using -S of 2G)\n",
            "Successfully deleted the temporary input file CpG_OT_SRR3824222_1_bismark_bt2_pe.deduplicated.txt.gz.chrchr11.methXtractor.temp\n",
            "\n",
            "Finished BedGraph conversion ...\n",
            "\n",
            "Summary of parameters for genome-wide cytosine report:\n",
            "==============================================================================\n",
            "Coverage infile:\t\t\t\tSRR3824222_1_bismark_bt2_pe.deduplicated.bismark.cov.gz\n",
            "Output directory:\t\t\t\t><\n",
            "Parent directory:\t\t\t\t>/home/erportnyagin/src/hse24_hw1/<\n",
            "Genome directory:\t\t\t\t>/home/erportnyagin/src/hse24_hw1/mouse_chr/<\n",
            "Coverage threshold\t\t\t\t0 (all positions will be reported, default)\n",
            "CX context:\t\t\t\t\tno (CpG context only, default)\n",
            "Genome coordinates used:\t\t\t1-based (default)\n",
            "GZIP compression:\t\t\t\tyes\n",
            "Split by chromosome:\t\t\t\tno\n",
            "\n",
            "\n",
            "Now reading in and storing sequence information of the genome specified in: /home/erportnyagin/src/hse24_hw1/mouse_chr/\n",
            "\n",
            "chr 11 (121973369 bp)\n",
            "\n",
            "Stored sequence information of 1 chromosomes/scaffolds in total\n",
            "\n",
            "==============================================================================\n",
            "Methylation information will now be written into a genome-wide cytosine report\n",
            "==============================================================================\n",
            "\n",
            "Adding context-specific methylation summaries\n",
            "\n",
            ">>> Writing genome-wide cytosine report to: SRR3824222_1_bismark_bt2_pe.deduplicated.CpG_report.txt.gz <<<\n",
            "\n",
            ">>> Writing all cytosine context summary file to: SRR3824222_1_bismark_bt2_pe.deduplicated.cytosine_context_summary.txt <<<\n",
            "\n",
            "Storing all covered cytosine positions for chromosome: chr11\n",
            "Writing cytosine report for last chromosome chr11 (stored 2250540 different covered positions)\n",
            "Use of uninitialized value $chromosomes{\"chr11\"} in pattern match (m//) at /home/erportnyagin/src/hse24_hw1/Bismark-master/coverage2cytosine line 462, <IN> line 2250540.\n",
            "Finished writing out cytosine report for covered chromosomes (processed 1 chromosomes/scaffolds in total)\n",
            "\n",
            "Now processing chromosomes that were not covered by any methylation calls in the coverage file...\n",
            "Writing cytosine report for not covered chromosome 11\n",
            "Finished writing out cytosine report (processed 2 chromosomes/scaffolds in total). coverage2cytosine processing complete.\n",
            "\n",
            "\n",
            "\n",
            "Finished generating genome-wide cytosine report\n",
            "\n",
            "samtools view: writing to standard output failed: Broken pipe\n",
            "samtools view: error closing standard output: -1\n",
            "samtools view: writing to standard output failed: Broken pipe\n",
            "samtools view: error closing standard output: -1\n",
            "\n",
            "gzip: stdout: Broken pipe\n"
          ]
        }
      ],
      "source": [
        "! ./bismark_methylation_extractor --gzip --bedGraph --cytosine_report --genome_folder ./mouse_chr SRR3824222_1_bismark_bt2_pe.deduplicated.bam"
      ]
    },
    {
      "attachments": {},
      "cell_type": "markdown",
      "metadata": {},
      "source": [
        "Скачиваем отчёты выравнивания"
      ]
    },
    {
      "cell_type": "code",
      "execution_count": null,
      "metadata": {},
      "outputs": [],
      "source": [
        "! gdown https://drive.google.com/uc?id=1L-kZURPu5A7QHxEz8d2pnH-cfaWlYggP\n",
        "! gdown https://drive.google.com/uc?id=1ybuIMaW1BWdz-ehkzg7BmlZVWu4R6pte\n",
        "! gdown https://drive.google.com/uc?id=1RC6FJEmdWwz8iGwBTJdEcf08wwHHyp1x"
      ]
    },
    {
      "attachments": {},
      "cell_type": "markdown",
      "metadata": {},
      "source": [
        "Создаём отчёты"
      ]
    },
    {
      "cell_type": "code",
      "execution_count": 73,
      "metadata": {},
      "outputs": [
        {
          "name": "stdout",
          "output_type": "stream",
          "text": [
            "User specifified dedup report: SRR5836473_1_bismark_bt2_pe.deduplication_report.txt\n",
            "\n",
            "Writing Bismark HTML report to >> SRR5836473_1_bismark_bt2_PE_report.html <<\n",
            "\n",
            "==============================================================================================================\n",
            "Using the following alignment report:\t\t> SRR5836473_1_bismark_bt2_PE_report.txt <\n",
            "Processing alignment report SRR5836473_1_bismark_bt2_PE_report.txt ...\n",
            "Complete\n",
            "\n",
            "Using the following deduplication report:\t> SRR5836473_1_bismark_bt2_pe.deduplication_report.txt <\n",
            "Processing deduplication report SRR5836473_1_bismark_bt2_pe.deduplication_report.txt ...\n",
            "Complete\n",
            "\n",
            "Using the following splitting report:\t\t> SRR5836473_1_bismark_bt2_pe.deduplicated_splitting_report.txt <\n",
            "Processing splitting report SRR5836473_1_bismark_bt2_pe.deduplicated_splitting_report.txt ...\n",
            "Complete\n",
            "\n",
            "Using the following M-bias report:\t\t> SRR5836473_1_bismark_bt2_pe.deduplicated.M-bias.txt <\n",
            "Processing M-bias report SRR5836473_1_bismark_bt2_pe.deduplicated.M-bias.txt ...\n",
            "Complete\n",
            "\n",
            "No nucleotide coverage report file specified, skipping this step\n",
            "==============================================================================================================\n",
            "\n",
            "\n"
          ]
        }
      ],
      "source": [
        "! ./bismark2report --alignment_report SRR5836473_1_bismark_bt2_PE_report.txt --mbias_report SRR5836473_1_bismark_bt2_pe.deduplicated.M-bias.txt --dedup_report SRR5836473_1_bismark_bt2_pe.deduplication_report.txt --splitting_report SRR5836473_1_bismark_bt2_pe.deduplicated_splitting_report.txt"
      ]
    },
    {
      "cell_type": "code",
      "execution_count": 74,
      "metadata": {},
      "outputs": [
        {
          "name": "stdout",
          "output_type": "stream",
          "text": [
            "User specifified dedup report: SRR5836475_1_bismark_bt2_pe.deduplication_report.txt\n",
            "\n",
            "Writing Bismark HTML report to >> SRR5836475_1_bismark_bt2_PE_report.html <<\n",
            "\n",
            "==============================================================================================================\n",
            "Using the following alignment report:\t\t> SRR5836475_1_bismark_bt2_PE_report.txt <\n",
            "Processing alignment report SRR5836475_1_bismark_bt2_PE_report.txt ...\n",
            "Complete\n",
            "\n",
            "Using the following deduplication report:\t> SRR5836475_1_bismark_bt2_pe.deduplication_report.txt <\n",
            "Processing deduplication report SRR5836475_1_bismark_bt2_pe.deduplication_report.txt ...\n",
            "Complete\n",
            "\n",
            "Using the following splitting report:\t\t> SRR5836475_1_bismark_bt2_pe.deduplicated_splitting_report.txt <\n",
            "Processing splitting report SRR5836475_1_bismark_bt2_pe.deduplicated_splitting_report.txt ...\n",
            "Complete\n",
            "\n",
            "Using the following M-bias report:\t\t> SRR5836475_1_bismark_bt2_pe.deduplicated.M-bias.txt <\n",
            "Processing M-bias report SRR5836475_1_bismark_bt2_pe.deduplicated.M-bias.txt ...\n",
            "Complete\n",
            "\n",
            "No nucleotide coverage report file specified, skipping this step\n",
            "==============================================================================================================\n",
            "\n",
            "\n"
          ]
        }
      ],
      "source": [
        "! ./bismark2report --alignment_report SRR5836475_1_bismark_bt2_PE_report.txt --mbias_report SRR5836475_1_bismark_bt2_pe.deduplicated.M-bias.txt --dedup_report SRR5836475_1_bismark_bt2_pe.deduplication_report.txt --splitting_report SRR5836475_1_bismark_bt2_pe.deduplicated_splitting_report.txt"
      ]
    },
    {
      "cell_type": "code",
      "execution_count": 75,
      "metadata": {},
      "outputs": [
        {
          "name": "stdout",
          "output_type": "stream",
          "text": [
            "User specifified dedup report: SRR3824222_1_bismark_bt2_pe.deduplication_report.txt\n",
            "\n",
            "Writing Bismark HTML report to >> SRR3824222_1_bismark_bt2_PE_report.html <<\n",
            "\n",
            "==============================================================================================================\n",
            "Using the following alignment report:\t\t> SRR3824222_1_bismark_bt2_PE_report.txt <\n",
            "Processing alignment report SRR3824222_1_bismark_bt2_PE_report.txt ...\n",
            "Complete\n",
            "\n",
            "Using the following deduplication report:\t> SRR3824222_1_bismark_bt2_pe.deduplication_report.txt <\n",
            "Processing deduplication report SRR3824222_1_bismark_bt2_pe.deduplication_report.txt ...\n",
            "Complete\n",
            "\n",
            "Using the following splitting report:\t\t> SRR3824222_1_bismark_bt2_pe.deduplicated_splitting_report.txt <\n",
            "Processing splitting report SRR3824222_1_bismark_bt2_pe.deduplicated_splitting_report.txt ...\n",
            "Complete\n",
            "\n",
            "Using the following M-bias report:\t\t> SRR3824222_1_bismark_bt2_pe.deduplicated.M-bias.txt <\n",
            "Processing M-bias report SRR3824222_1_bismark_bt2_pe.deduplicated.M-bias.txt ...\n",
            "Complete\n",
            "\n",
            "No nucleotide coverage report file specified, skipping this step\n",
            "==============================================================================================================\n",
            "\n",
            "\n"
          ]
        }
      ],
      "source": [
        "! ./bismark2report --alignment_report SRR3824222_1_bismark_bt2_PE_report.txt --mbias_report SRR3824222_1_bismark_bt2_pe.deduplicated.M-bias.txt --dedup_report SRR3824222_1_bismark_bt2_pe.deduplication_report.txt --splitting_report SRR3824222_1_bismark_bt2_pe.deduplicated_splitting_report.txt"
      ]
    },
    {
      "cell_type": "code",
      "execution_count": 3,
      "metadata": {},
      "outputs": [],
      "source": [
        "! gzip -d SRR5836473_1_bismark_bt2_pe.deduplicated.bedGraph.gz\n",
        "! gzip -d SRR5836475_1_bismark_bt2_pe.deduplicated.bedGraph.gz\n",
        "! gzip -d SRR3824222_1_bismark_bt2_pe.deduplicated.bedGraph.gz\n",
        "\n",
        "! gzip -d SRR5836473_1_bismark_bt2_pe.deduplicated.bismark.cov.gz\n",
        "! gzip -d SRR5836475_1_bismark_bt2_pe.deduplicated.bismark.cov.gz\n",
        "! gzip -d SRR3824222_1_bismark_bt2_pe.deduplicated.bismark.cov.gz"
      ]
    },
    {
      "cell_type": "code",
      "execution_count": 5,
      "metadata": {},
      "outputs": [
        {
          "name": "stdout",
          "output_type": "stream",
          "text": [
            "track type=bedGraph\n",
            "chr11\t3050030\t3050031\t50\n",
            "chr11\t3050047\t3050048\t66.6666666666667\n",
            "chr11\t3050048\t3050049\t50\n",
            "chr11\t3050223\t3050224\t87.5\n",
            "chr11\t3050224\t3050225\t53.3333333333333\n",
            "chr11\t3050285\t3050286\t66.6666666666667\n",
            "chr11\t3050286\t3050287\t33.3333333333333\n",
            "chr11\t3050309\t3050310\t62.5\n",
            "chr11\t3050310\t3050311\t50\n"
          ]
        }
      ],
      "source": [
        "! head SRR5836473_1_bismark_bt2_pe.deduplicated.bedGraph"
      ]
    },
    {
      "cell_type": "code",
      "execution_count": 6,
      "metadata": {},
      "outputs": [
        {
          "name": "stdout",
          "output_type": "stream",
          "text": [
            "chr11\t3050031\t3050031\t50\t1\t1\n",
            "chr11\t3050048\t3050048\t66.6666666666667\t2\t1\n",
            "chr11\t3050049\t3050049\t50\t1\t1\n",
            "chr11\t3050224\t3050224\t87.5\t7\t1\n",
            "chr11\t3050225\t3050225\t53.3333333333333\t8\t7\n",
            "chr11\t3050286\t3050286\t66.6666666666667\t6\t3\n",
            "chr11\t3050287\t3050287\t33.3333333333333\t5\t10\n",
            "chr11\t3050310\t3050310\t62.5\t5\t3\n",
            "chr11\t3050311\t3050311\t50\t7\t7\n",
            "chr11\t3050349\t3050349\t55.5555555555556\t5\t4\n"
          ]
        }
      ],
      "source": [
        "! head SRR5836473_1_bismark_bt2_pe.deduplicated.bismark.cov"
      ]
    },
    {
      "cell_type": "code",
      "execution_count": 12,
      "metadata": {},
      "outputs": [
        {
          "name": "stdout",
          "output_type": "stream",
          "text": [
            "INFO: trying CURL  for database mm10\n",
            "url: http://hgdownload.soe.ucsc.edu/goldenPath/mm10/bigZips/mm10.chrom.sizes\n"
          ]
        }
      ],
      "source": [
        "! ./fetchChromSizes mm10 > m.chrom.sizes"
      ]
    },
    {
      "cell_type": "code",
      "execution_count": 21,
      "metadata": {},
      "outputs": [],
      "source": [
        "! ./bedGraphToBigWig  SRR5836473_1_bismark_bt2_pe.deduplicated.bedGraph m.chrom.sizes cell8_methylation.bigWig\n",
        "! ./bedGraphToBigWig  SRR5836475_1_bismark_bt2_pe.deduplicated.bedGraph m.chrom.sizes icm_methylation.bigWig\n",
        "! ./bedGraphToBigWig  SRR3824222_1_bismark_bt2_pe.deduplicated.bedGraph m.chrom.sizes epiblast_methylation.bigWig"
      ]
    },
    {
      "cell_type": "code",
      "execution_count": 15,
      "metadata": {},
      "outputs": [
        {
          "name": "stdout",
          "output_type": "stream",
          "text": [
            "track type=bedGraph\n",
            "chr11\t3050030\t3050031\t50\n",
            "chr11\t3050047\t3050048\t66.6666666666667\n",
            "chr11\t3050048\t3050049\t50\n",
            "chr11\t3050223\t3050224\t87.5\n",
            "chr11\t3050224\t3050225\t53.3333333333333\n",
            "chr11\t3050285\t3050286\t66.6666666666667\n",
            "chr11\t3050286\t3050287\t33.3333333333333\n",
            "chr11\t3050309\t3050310\t62.5\n",
            "chr11\t3050310\t3050311\t50\n"
          ]
        }
      ],
      "source": [
        "! head SRR5836473_1_bismark_bt2_pe.deduplicated.bedGraph"
      ]
    },
    {
      "cell_type": "code",
      "execution_count": 38,
      "metadata": {},
      "outputs": [
        {
          "name": "stdout",
          "output_type": "stream",
          "text": [
            "\n",
            "*****\n",
            "*****WARNING: Genome (-g) files are ignored when BAM input is provided. \n",
            "*****\n",
            "\n",
            "*****\n",
            "*****WARNING: Genome (-g) files are ignored when BAM input is provided. \n",
            "*****\n",
            "\n",
            "*****\n",
            "*****WARNING: Genome (-g) files are ignored when BAM input is provided. \n",
            "*****\n"
          ]
        }
      ],
      "source": [
        "! ./bedtools genomecov -bg -ibam SRR5836473_1_bismark_bt2_pe.deduplicated.bam -g m.chromSizes > SRR5836473_1.cover.bedGraph\n",
        "! ./bedtools genomecov -bg -ibam SRR5836475_1_bismark_bt2_pe.deduplicated.bam -g m.chromSizes > SRR5836475_1.cover.bedGraph\n",
        "! ./bedtools genomecov -bg -ibam SRR3824222_1_bismark_bt2_pe.deduplicated.bam -g m.chromSizes > SRR3824222_1.cover.bedGraph"
      ]
    },
    {
      "cell_type": "code",
      "execution_count": 47,
      "metadata": {},
      "outputs": [],
      "source": [
        "import pandas as pd\n",
        "import matplotlib.pyplot as plt"
      ]
    },
    {
      "attachments": {},
      "cell_type": "markdown",
      "metadata": {},
      "source": [
        "Визуализация распределения метилирования"
      ]
    },
    {
      "cell_type": "code",
      "execution_count": 70,
      "metadata": {},
      "outputs": [],
      "source": [
        "def visualize(filename: str):\n",
        "    data = pd.read_csv(filename, skiprows=1, delimiter='\\t', header=None)\n",
        "    plt.title(filename.split('_')[0])\n",
        "    plt.hist(data[3], density=True)\n",
        "    plt.show()"
      ]
    },
    {
      "cell_type": "code",
      "execution_count": 71,
      "metadata": {},
      "outputs": [
        {
          "data": {
            "image/png": "[encoded data removed]",
            "text/plain": [
              "<Figure size 640x480 with 1 Axes>"
            ]
          },
          "metadata": {},
          "output_type": "display_data"
        }
      ],
      "source": [
        "visualize(\"SRR5836473_1_bismark_bt2_pe.deduplicated.bedGraph\")"
      ]
    },
    {
      "cell_type": "code",
      "execution_count": 72,
      "metadata": {},
      "outputs": [
        {
          "data": {
            "image/png": "[encoded data removed]",
            "text/plain": [
              "<Figure size 640x480 with 1 Axes>"
            ]
          },
          "metadata": {},
          "output_type": "display_data"
        }
      ],
      "source": [
        "visualize(\"SRR5836475_1_bismark_bt2_pe.deduplicated.bedGraph\")"
      ]
    },
    {
      "cell_type": "code",
      "execution_count": 73,
      "metadata": {},
      "outputs": [
        {
          "data": {
            "image/png": "[encoded data removed]",
            "text/plain": [
              "<Figure size 640x480 with 1 Axes>"
            ]
          },
          "metadata": {},
          "output_type": "display_data"
        }
      ],
      "source": [
        "visualize(\"SRR3824222_1_bismark_bt2_pe.deduplicated.bedGraph\")"
      ]
    },
    {
      "attachments": {},
      "cell_type": "markdown",
      "metadata": {},
      "source": [
        "Визуализиция уровня метилирования и покрытия для каждого образца"
      ]
    },
    {
      "cell_type": "code",
      "execution_count": 43,
      "metadata": {},
      "outputs": [],
      "source": [
        "! ./bedGraphToBigWig   SRR5836473_1.cover.bedGraph m.chrom.sizes SRR5836473_1_coverage.bigWig.bw\n",
        "! ./bedGraphToBigWig   SRR5836475_1.cover.bedGraph m.chrom.sizes SRR5836475_1_coverage.bigWig.bw\n",
        "! ./bedGraphToBigWig   SRR3824222_1.cover.bedGraph m.chrom.sizes SRR3824222_1_coverage.bigWig.bw"
      ]
    },
    {
      "cell_type": "code",
      "execution_count": 44,
      "metadata": {},
      "outputs": [
        {
          "name": "stdout",
          "output_type": "stream",
          "text": [
            "Adding bigwig file: SRR5836473_1_coverage.bigWig.bw\n",
            "Adding bigwig file: SRR5836475_1_coverage.bigWig.bw\n",
            "Adding bigwig file: SRR3824222_1_coverage.bigWig.bw\n"
          ]
        }
      ],
      "source": [
        "! make_tracks_file --trackFiles SRR5836473_1_coverage.bigWig.bw SRR5836475_1_coverage.bigWig.bw SRR3824222_1_coverage.bigWig.bw -o tracks.ini"
      ]
    },
    {
      "cell_type": "code",
      "execution_count": 46,
      "metadata": {},
      "outputs": [
        {
          "name": "stdout",
          "output_type": "stream",
          "text": [
            "INFO:pygenometracks.tracksClass:initialize 1. [x-axis]\n",
            "INFO:pygenometracks.tracksClass:initialize 2. [spacer]\n",
            "INFO:pygenometracks.tracksClass:initialize 3. [SRR5836473_1_coverage.bigWig]\n",
            "INFO:pygenometracks.tracksClass:initialize 4. [SRR5836475_1_coverage.bigWig]\n",
            "INFO:pygenometracks.tracksClass:initialize 5. [SRR3824222_1_coverage.bigWig]\n",
            "INFO:pygenometracks.tracksClass:time initializing track(s):\n",
            "INFO:pygenometracks.tracksClass:0.001453399658203125\n",
            "DEBUG:pygenometracks.tracksClass:Figure size in cm is 40 x 8.909574468085108. Dpi is set to 72\n",
            "\n",
            "INFO:pygenometracks.tracksClass:plotting 1. [x-axis]\n",
            "INFO:pygenometracks.tracksClass:plotting 2. [spacer]\n",
            "INFO:pygenometracks.tracksClass:plotting 3. [SRR5836473_1_coverage.bigWig]\n",
            "INFO:pygenometracks.tracksClass:plotting 4. [SRR5836475_1_coverage.bigWig]\n",
            "INFO:pygenometracks.tracksClass:plotting 5. [SRR3824222_1_coverage.bigWig]\n"
          ]
        }
      ],
      "source": [
        "! pyGenomeTracks --tracks tracks.ini --region chr11:0-122082543 -o covf.png"
      ]
    },
    {
      "attachments": {},
      "cell_type": "markdown",
      "metadata": {},
      "source": [
        "Очистка репозитория"
      ]
    },
    {
      "cell_type": "code",
      "execution_count": 74,
      "metadata": {},
      "outputs": [],
      "source": [
        "! mkdir data\n",
        "! mv *.png *.html data"
      ]
    },
    {
      "cell_type": "code",
      "execution_count": null,
      "metadata": {},
      "outputs": [],
      "source": [
        "! rm -r Bismark-master mouse_chr bed* *bismark* *.deduplicated.txt.gz *.bigWig *.ini *.bai *.bam *.txt *.bw *.bedGraph *.cov *.txt.gz fastqc fetchChromSizes m.chrom.sizes"
      ]
    }
  ],
  "metadata": {
    "kernelspec": {
      "display_name": "Python 3",
      "language": "python",
      "name": "python3"
    },
    "language_info": {
      "codemirror_mode": {
        "name": "ipython",
        "version": 3
      },
      "file_extension": ".py",
      "mimetype": "text/x-python",
      "name": "python",
      "nbconvert_exporter": "python",
      "pygments_lexer": "ipython3",
      "version": "3.10.12 (main, Jun 11 2023, 05:26:28) [GCC 11.4.0]"
    },
    "orig_nbformat": 4,
    "vscode": {
      "interpreter": {
        "hash": "e7370f93d1d0cde622a1f8e1c04877d8463912d04d973331ad4851f04de6915a"
      }
    }
  },
  "nbformat": 4,
  "nbformat_minor": 2
}
